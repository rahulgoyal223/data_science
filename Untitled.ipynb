{
 "cells": [
  {
   "cell_type": "code",
   "execution_count": null,
   "metadata": {},
   "outputs": [],
   "source": [
    "#Import and get a feel import os \n",
    "import pandas as pd \n",
    "import numpy as np \n",
    "import matplotlib.pyplot as plt \n",
    "import seaborn as sns \n",
    "%matplotlib inline \n",
    "\n",
    "print(os.path.abspath(os.getcwd())) \n",
    "\n",
    "path = 'C:/Users/romil/Downloads/EDA1-master' \n",
    "file_train = 'titanic_train.csv' \n",
    "\n",
    "#file_test = 'Testdata.csv' \n",
    "base01 = pd.read_csv(os.path.join(path, file_train)) \n",
    "\n",
    "#base02 = pd.read_csv(os.path.join(path, file_test)) \n",
    "print(\" \\n Rows and Columns: \\n\\n\", base01.shape) print(\" \\n Datatypes: \\n\\n\", base01.dtypes)\n",
    "print(base01.head()) print(\" \\n Basic stats: \\n\\n\", base01.describe()) \n",
    "\n",
    "# Count total NaN at each column in a DataFrame \n",
    "print(\" \\nCount total NaN at each column in a DataFrame : \\n\\n\", base01.isnull().sum()) "
   ]
  },
  {
   "cell_type": "code",
   "execution_count": 1,
   "metadata": {},
   "outputs": [],
   "source": [
    "import pandas as pd \n",
    "import numpy as np \n",
    "import matplotlib.pyplot as plt \n",
    "import seaborn as sns \n",
    "%matplotlib inline "
   ]
  },
  {
   "cell_type": "code",
   "execution_count": 3,
   "metadata": {},
   "outputs": [
    {
     "name": "stderr",
     "output_type": "stream",
     "text": [
      "/home/rahulg/.local/lib/python3.6/site-packages/IPython/core/interactiveshell.py:3072: DtypeWarning: Columns (47) have mixed types.Specify dtype option on import or set low_memory=False.\n",
      "  interactivity=interactivity, compiler=compiler, result=result)\n"
     ]
    }
   ],
   "source": [
    "df = pd.read_csv(\"loan.csv\")"
   ]
  },
  {
   "cell_type": "code",
   "execution_count": 5,
   "metadata": {},
   "outputs": [
    {
     "data": {
      "text/plain": [
       "INDIVIDUAL    39717\n",
       "Name: application_type, dtype: int64"
      ]
     },
     "execution_count": 5,
     "metadata": {},
     "output_type": "execute_result"
    }
   ],
   "source": [
    "df[\"application_type\"].value_counts()"
   ]
  },
  {
   "cell_type": "code",
   "execution_count": null,
   "metadata": {},
   "outputs": [],
   "source": [
    "#Import and get a feel\n",
    "import os\n",
    "import pandas as pd\n",
    "import numpy as np\n",
    "import matplotlib.pyplot as plt\n",
    "import seaborn as sns\n",
    "%matplotlib inline\n",
    "\n",
    "\n",
    "path = 'C:/Users/romil/Downloads/'\n",
    "file_train = 'train.csv'\n",
    "base01 = pd.read_csv(os.path.join(path, file_train))\n",
    "\n",
    "print(\"Rows and Columns: \", base01.shape)\n",
    "print(\"\\nDatatypes:\\n\", base01.dtypes)\n",
    "# Count total NaN at each column in a DataFrame \n",
    "print(\" \\nCount total NaN at each column in a DataFrame : \\n\\n\", \n",
    "base01.isnull().sum())"
   ]
  },
  {
   "cell_type": "code",
   "execution_count": null,
   "metadata": {},
   "outputs": [],
   "source": [
    "import statsmodels.api as sm\n",
    "from scipy.stats import ttest_1samp\n",
    "import numpy as np\n",
    "\n",
    "print('Average Age :' ,ages_mean)\n",
    "print('Std Dev :' ,ages_std)\n",
    "tset, pval = ttest_1samp(ages, 35)\n",
    "\n",
    "## Lets take sample\n",
    "sample_size=10\n",
    "age_sample=np.random.choice(ages,sample_size)\n",
    "\n",
    "print('\\nNull Hypothesis : Sample mean is equal to 35 ie. People boarding Titanic have an average age of 35')\n",
    "\n",
    "print(\"\\np-value\",pval)\n",
    "if pval < 0.05:    # alpha value is 0.05 or 5%\n",
    "   print(\"T Test : we are rejecting null hypothesis\""
   ]
  },
  {
   "cell_type": "code",
   "execution_count": null,
   "metadata": {},
   "outputs": [],
   "source": [
    "mport scipy.stats as stats\n",
    "\n",
    "from scipy.stats import ttest_ind\n",
    "import numpy as np\n",
    "from statsmodels.stats import weightstats as stests\n",
    "\n",
    "print('Null Hypothesis : Suriviving and dying populations have no statistical difference wrt Avg age.')\n",
    "\n",
    "ages_d = base01[base01['Survived'] == 0]['Age'].dropna()[1:100]\n",
    "ages_mean = np.mean(ages_d)\n",
    "ages_std = np.std(ages_d)\n",
    "print('\\nAverage Age (Died) :' ,ages_mean)\n",
    "print('Std Dev (Died) :' ,ages_std)\n",
    "\n",
    "ages_s = base01[base01['Survived'] == 1]['Age'].dropna()[1:100"
   ]
  },
  {
   "cell_type": "code",
   "execution_count": null,
   "metadata": {},
   "outputs": [],
   "source": [
    "def calculate_woe_iv(dataset, feature, target):\n",
    "    lst = []\n",
    "    for i in range(dataset[feature].nunique()):\n",
    "        val = list(dataset[feature].unique())[i]\n",
    "        lst.append({\n",
    "            'Value': val,\n",
    "            'All': dataset[dataset[feature] == val].count()[feature],\n",
    "            'Good': dataset[(dataset[feature] == val) & (dataset[target] == 0)].count()[feature],\n",
    "            'Bad': dataset[(dataset[feature] == val) & (dataset[target] == 1)].count()[feature]\n",
    "        })\n",
    "        \n",
    "    dset = pd.DataFrame(lst)\n",
    "    dset['Distr_Good'] = dset['Good'] / dset['Good'].sum()\n",
    "    dset['Distr_Bad'] = dset['Bad'] / dset['Bad'].sum()\n",
    "    dset['WoE'] = np.log((dset['Distr_Good']+1) / (dset['Distr_Bad']+1))\n",
    "    dset = dset.replace({'WoE': {np.inf: 0, -np.inf: 0}})\n",
    "    dset['IV'] = (dset['Distr_Good'] - dset['Distr_Bad']) * dset['WoE']\n",
    "    iv = dset['IV'].sum()\n",
    "    \n",
    "    dset = dset.sort_values(by='WoE')\n",
    "    \n",
    "    return dset, iv\n",
    "significant_var = []\n",
    "for col in num_trans_col:\n",
    "    if col == event_col[0]: continue\n",
    "    else:\n",
    "        print('WoE and IV for column: {}'.format(col))\n",
    "        con02_num['bined_col'] = pd.qcut(con02_num[col], q=10, precision=0)\n",
    "        print(con02_num['bined_col'].unique())\n",
    "        df, iv = calculate_woe_iv(con02_num, 'bined_col', event_col[0])\n",
    "        #print(df)\n",
    "        print('IV score: {:.2f}'.format(iv))\n",
    "        #print('\\n')\n",
    "        \n",
    "        if iv>0.04:\n",
    "            significant_var.append(col)\n",
    "print(significant_var)"
   ]
  }
 ],
 "metadata": {
  "kernelspec": {
   "display_name": "Python 3",
   "language": "python",
   "name": "python3"
  },
  "language_info": {
   "codemirror_mode": {
    "name": "ipython",
    "version": 3
   },
   "file_extension": ".py",
   "mimetype": "text/x-python",
   "name": "python",
   "nbconvert_exporter": "python",
   "pygments_lexer": "ipython3",
   "version": "3.6.9"
  }
 },
 "nbformat": 4,
 "nbformat_minor": 4
}
