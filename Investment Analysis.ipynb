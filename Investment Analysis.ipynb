{
 "cells": [
  {
   "cell_type": "markdown",
   "metadata": {},
   "source": [
    "## Data Sourcing"
   ]
  },
  {
   "cell_type": "code",
   "execution_count": 1,
   "metadata": {},
   "outputs": [],
   "source": [
    "#import required libraries\n",
    "import numpy as np\n",
    "import pandas as pd\n",
    "import matplotlib.pyplot as plt \n",
    "import seaborn as sns\n",
    "%matplotlib inline"
   ]
  },
  {
   "cell_type": "code",
   "execution_count": 2,
   "metadata": {},
   "outputs": [],
   "source": [
    "#Sourcing data\n",
    "companies=pd.read_csv(\"companies.csv\",encoding='latin-1')\n",
    "rounds2 = pd.read_csv(\"rounds2.csv\",encoding='latin-1')\n",
    "mappings = pd.read_csv(\"mapping.csv\",encoding='latin-1')"
   ]
  },
  {
   "cell_type": "code",
   "execution_count": 3,
   "metadata": {},
   "outputs": [
    {
     "data": {
      "text/html": [
       "<div>\n",
       "<style scoped>\n",
       "    .dataframe tbody tr th:only-of-type {\n",
       "        vertical-align: middle;\n",
       "    }\n",
       "\n",
       "    .dataframe tbody tr th {\n",
       "        vertical-align: top;\n",
       "    }\n",
       "\n",
       "    .dataframe thead th {\n",
       "        text-align: right;\n",
       "    }\n",
       "</style>\n",
       "<table border=\"1\" class=\"dataframe\">\n",
       "  <thead>\n",
       "    <tr style=\"text-align: right;\">\n",
       "      <th></th>\n",
       "      <th>permalink</th>\n",
       "      <th>name</th>\n",
       "      <th>homepage_url</th>\n",
       "      <th>category_list</th>\n",
       "      <th>status</th>\n",
       "      <th>country_code</th>\n",
       "      <th>state_code</th>\n",
       "      <th>region</th>\n",
       "      <th>city</th>\n",
       "      <th>founded_at</th>\n",
       "    </tr>\n",
       "  </thead>\n",
       "  <tbody>\n",
       "    <tr>\n",
       "      <th>0</th>\n",
       "      <td>/Organization/-Fame</td>\n",
       "      <td>#fame</td>\n",
       "      <td>http://livfame.com</td>\n",
       "      <td>Media</td>\n",
       "      <td>operating</td>\n",
       "      <td>IND</td>\n",
       "      <td>16</td>\n",
       "      <td>Mumbai</td>\n",
       "      <td>Mumbai</td>\n",
       "      <td>NaN</td>\n",
       "    </tr>\n",
       "    <tr>\n",
       "      <th>1</th>\n",
       "      <td>/Organization/-Qounter</td>\n",
       "      <td>:Qounter</td>\n",
       "      <td>http://www.qounter.com</td>\n",
       "      <td>Application Platforms|Real Time|Social Network...</td>\n",
       "      <td>operating</td>\n",
       "      <td>USA</td>\n",
       "      <td>DE</td>\n",
       "      <td>DE - Other</td>\n",
       "      <td>Delaware City</td>\n",
       "      <td>04-09-2014</td>\n",
       "    </tr>\n",
       "    <tr>\n",
       "      <th>2</th>\n",
       "      <td>/Organization/-The-One-Of-Them-Inc-</td>\n",
       "      <td>(THE) ONE of THEM,Inc.</td>\n",
       "      <td>http://oneofthem.jp</td>\n",
       "      <td>Apps|Games|Mobile</td>\n",
       "      <td>operating</td>\n",
       "      <td>NaN</td>\n",
       "      <td>NaN</td>\n",
       "      <td>NaN</td>\n",
       "      <td>NaN</td>\n",
       "      <td>NaN</td>\n",
       "    </tr>\n",
       "    <tr>\n",
       "      <th>3</th>\n",
       "      <td>/Organization/0-6-Com</td>\n",
       "      <td>0-6.com</td>\n",
       "      <td>http://www.0-6.com</td>\n",
       "      <td>Curated Web</td>\n",
       "      <td>operating</td>\n",
       "      <td>CHN</td>\n",
       "      <td>22</td>\n",
       "      <td>Beijing</td>\n",
       "      <td>Beijing</td>\n",
       "      <td>01-01-2007</td>\n",
       "    </tr>\n",
       "    <tr>\n",
       "      <th>4</th>\n",
       "      <td>/Organization/004-Technologies</td>\n",
       "      <td>004 Technologies</td>\n",
       "      <td>http://004gmbh.de/en/004-interact</td>\n",
       "      <td>Software</td>\n",
       "      <td>operating</td>\n",
       "      <td>USA</td>\n",
       "      <td>IL</td>\n",
       "      <td>Springfield, Illinois</td>\n",
       "      <td>Champaign</td>\n",
       "      <td>01-01-2010</td>\n",
       "    </tr>\n",
       "  </tbody>\n",
       "</table>\n",
       "</div>"
      ],
      "text/plain": [
       "                             permalink                    name  \\\n",
       "0                  /Organization/-Fame                   #fame   \n",
       "1               /Organization/-Qounter                :Qounter   \n",
       "2  /Organization/-The-One-Of-Them-Inc-  (THE) ONE of THEM,Inc.   \n",
       "3                /Organization/0-6-Com                 0-6.com   \n",
       "4       /Organization/004-Technologies        004 Technologies   \n",
       "\n",
       "                        homepage_url  \\\n",
       "0                 http://livfame.com   \n",
       "1             http://www.qounter.com   \n",
       "2                http://oneofthem.jp   \n",
       "3                 http://www.0-6.com   \n",
       "4  http://004gmbh.de/en/004-interact   \n",
       "\n",
       "                                       category_list     status country_code  \\\n",
       "0                                              Media  operating          IND   \n",
       "1  Application Platforms|Real Time|Social Network...  operating          USA   \n",
       "2                                  Apps|Games|Mobile  operating          NaN   \n",
       "3                                        Curated Web  operating          CHN   \n",
       "4                                           Software  operating          USA   \n",
       "\n",
       "  state_code                 region           city  founded_at  \n",
       "0         16                 Mumbai         Mumbai         NaN  \n",
       "1         DE             DE - Other  Delaware City  04-09-2014  \n",
       "2        NaN                    NaN            NaN         NaN  \n",
       "3         22                Beijing        Beijing  01-01-2007  \n",
       "4         IL  Springfield, Illinois      Champaign  01-01-2010  "
      ]
     },
     "execution_count": 3,
     "metadata": {},
     "output_type": "execute_result"
    }
   ],
   "source": [
    "companies.head()"
   ]
  },
  {
   "cell_type": "code",
   "execution_count": 4,
   "metadata": {},
   "outputs": [
    {
     "data": {
      "text/html": [
       "<div>\n",
       "<style scoped>\n",
       "    .dataframe tbody tr th:only-of-type {\n",
       "        vertical-align: middle;\n",
       "    }\n",
       "\n",
       "    .dataframe tbody tr th {\n",
       "        vertical-align: top;\n",
       "    }\n",
       "\n",
       "    .dataframe thead th {\n",
       "        text-align: right;\n",
       "    }\n",
       "</style>\n",
       "<table border=\"1\" class=\"dataframe\">\n",
       "  <thead>\n",
       "    <tr style=\"text-align: right;\">\n",
       "      <th></th>\n",
       "      <th>company_permalink</th>\n",
       "      <th>funding_round_permalink</th>\n",
       "      <th>funding_round_type</th>\n",
       "      <th>funding_round_code</th>\n",
       "      <th>funded_at</th>\n",
       "      <th>raised_amount_usd</th>\n",
       "    </tr>\n",
       "  </thead>\n",
       "  <tbody>\n",
       "    <tr>\n",
       "      <th>0</th>\n",
       "      <td>/organization/-fame</td>\n",
       "      <td>/funding-round/9a01d05418af9f794eebff7ace91f638</td>\n",
       "      <td>venture</td>\n",
       "      <td>B</td>\n",
       "      <td>05-01-2015</td>\n",
       "      <td>10000000.0</td>\n",
       "    </tr>\n",
       "    <tr>\n",
       "      <th>1</th>\n",
       "      <td>/ORGANIZATION/-QOUNTER</td>\n",
       "      <td>/funding-round/22dacff496eb7acb2b901dec1dfe5633</td>\n",
       "      <td>venture</td>\n",
       "      <td>A</td>\n",
       "      <td>14-10-2014</td>\n",
       "      <td>NaN</td>\n",
       "    </tr>\n",
       "    <tr>\n",
       "      <th>2</th>\n",
       "      <td>/organization/-qounter</td>\n",
       "      <td>/funding-round/b44fbb94153f6cdef13083530bb48030</td>\n",
       "      <td>seed</td>\n",
       "      <td>NaN</td>\n",
       "      <td>01-03-2014</td>\n",
       "      <td>700000.0</td>\n",
       "    </tr>\n",
       "    <tr>\n",
       "      <th>3</th>\n",
       "      <td>/ORGANIZATION/-THE-ONE-OF-THEM-INC-</td>\n",
       "      <td>/funding-round/650b8f704416801069bb178a1418776b</td>\n",
       "      <td>venture</td>\n",
       "      <td>B</td>\n",
       "      <td>30-01-2014</td>\n",
       "      <td>3406878.0</td>\n",
       "    </tr>\n",
       "    <tr>\n",
       "      <th>4</th>\n",
       "      <td>/organization/0-6-com</td>\n",
       "      <td>/funding-round/5727accaeaa57461bd22a9bdd945382d</td>\n",
       "      <td>venture</td>\n",
       "      <td>A</td>\n",
       "      <td>19-03-2008</td>\n",
       "      <td>2000000.0</td>\n",
       "    </tr>\n",
       "  </tbody>\n",
       "</table>\n",
       "</div>"
      ],
      "text/plain": [
       "                     company_permalink  \\\n",
       "0                  /organization/-fame   \n",
       "1               /ORGANIZATION/-QOUNTER   \n",
       "2               /organization/-qounter   \n",
       "3  /ORGANIZATION/-THE-ONE-OF-THEM-INC-   \n",
       "4                /organization/0-6-com   \n",
       "\n",
       "                           funding_round_permalink funding_round_type  \\\n",
       "0  /funding-round/9a01d05418af9f794eebff7ace91f638            venture   \n",
       "1  /funding-round/22dacff496eb7acb2b901dec1dfe5633            venture   \n",
       "2  /funding-round/b44fbb94153f6cdef13083530bb48030               seed   \n",
       "3  /funding-round/650b8f704416801069bb178a1418776b            venture   \n",
       "4  /funding-round/5727accaeaa57461bd22a9bdd945382d            venture   \n",
       "\n",
       "  funding_round_code   funded_at  raised_amount_usd  \n",
       "0                  B  05-01-2015         10000000.0  \n",
       "1                  A  14-10-2014                NaN  \n",
       "2                NaN  01-03-2014           700000.0  \n",
       "3                  B  30-01-2014          3406878.0  \n",
       "4                  A  19-03-2008          2000000.0  "
      ]
     },
     "execution_count": 4,
     "metadata": {},
     "output_type": "execute_result"
    }
   ],
   "source": [
    "rounds2.head()"
   ]
  },
  {
   "cell_type": "code",
   "execution_count": 5,
   "metadata": {},
   "outputs": [
    {
     "data": {
      "text/html": [
       "<div>\n",
       "<style scoped>\n",
       "    .dataframe tbody tr th:only-of-type {\n",
       "        vertical-align: middle;\n",
       "    }\n",
       "\n",
       "    .dataframe tbody tr th {\n",
       "        vertical-align: top;\n",
       "    }\n",
       "\n",
       "    .dataframe thead th {\n",
       "        text-align: right;\n",
       "    }\n",
       "</style>\n",
       "<table border=\"1\" class=\"dataframe\">\n",
       "  <thead>\n",
       "    <tr style=\"text-align: right;\">\n",
       "      <th></th>\n",
       "      <th>category_list</th>\n",
       "      <th>Automotive &amp; Sports</th>\n",
       "      <th>Blanks</th>\n",
       "      <th>Cleantech / Semiconductors</th>\n",
       "      <th>Entertainment</th>\n",
       "      <th>Health</th>\n",
       "      <th>Manufacturing</th>\n",
       "      <th>News, Search and Messaging</th>\n",
       "      <th>Others</th>\n",
       "      <th>Social, Finance, Analytics, Advertising</th>\n",
       "    </tr>\n",
       "  </thead>\n",
       "  <tbody>\n",
       "    <tr>\n",
       "      <th>0</th>\n",
       "      <td>NaN</td>\n",
       "      <td>0</td>\n",
       "      <td>1</td>\n",
       "      <td>0</td>\n",
       "      <td>0</td>\n",
       "      <td>0</td>\n",
       "      <td>0</td>\n",
       "      <td>0</td>\n",
       "      <td>0</td>\n",
       "      <td>0</td>\n",
       "    </tr>\n",
       "    <tr>\n",
       "      <th>1</th>\n",
       "      <td>3D</td>\n",
       "      <td>0</td>\n",
       "      <td>0</td>\n",
       "      <td>0</td>\n",
       "      <td>0</td>\n",
       "      <td>0</td>\n",
       "      <td>1</td>\n",
       "      <td>0</td>\n",
       "      <td>0</td>\n",
       "      <td>0</td>\n",
       "    </tr>\n",
       "    <tr>\n",
       "      <th>2</th>\n",
       "      <td>3D Printing</td>\n",
       "      <td>0</td>\n",
       "      <td>0</td>\n",
       "      <td>0</td>\n",
       "      <td>0</td>\n",
       "      <td>0</td>\n",
       "      <td>1</td>\n",
       "      <td>0</td>\n",
       "      <td>0</td>\n",
       "      <td>0</td>\n",
       "    </tr>\n",
       "    <tr>\n",
       "      <th>3</th>\n",
       "      <td>3D Technology</td>\n",
       "      <td>0</td>\n",
       "      <td>0</td>\n",
       "      <td>0</td>\n",
       "      <td>0</td>\n",
       "      <td>0</td>\n",
       "      <td>1</td>\n",
       "      <td>0</td>\n",
       "      <td>0</td>\n",
       "      <td>0</td>\n",
       "    </tr>\n",
       "    <tr>\n",
       "      <th>4</th>\n",
       "      <td>Accounting</td>\n",
       "      <td>0</td>\n",
       "      <td>0</td>\n",
       "      <td>0</td>\n",
       "      <td>0</td>\n",
       "      <td>0</td>\n",
       "      <td>0</td>\n",
       "      <td>0</td>\n",
       "      <td>0</td>\n",
       "      <td>1</td>\n",
       "    </tr>\n",
       "  </tbody>\n",
       "</table>\n",
       "</div>"
      ],
      "text/plain": [
       "   category_list  Automotive & Sports  Blanks  Cleantech / Semiconductors  \\\n",
       "0            NaN                    0       1                           0   \n",
       "1             3D                    0       0                           0   \n",
       "2    3D Printing                    0       0                           0   \n",
       "3  3D Technology                    0       0                           0   \n",
       "4     Accounting                    0       0                           0   \n",
       "\n",
       "   Entertainment  Health  Manufacturing  News, Search and Messaging  Others  \\\n",
       "0              0       0              0                           0       0   \n",
       "1              0       0              1                           0       0   \n",
       "2              0       0              1                           0       0   \n",
       "3              0       0              1                           0       0   \n",
       "4              0       0              0                           0       0   \n",
       "\n",
       "   Social, Finance, Analytics, Advertising  \n",
       "0                                        0  \n",
       "1                                        0  \n",
       "2                                        0  \n",
       "3                                        0  \n",
       "4                                        1  "
      ]
     },
     "execution_count": 5,
     "metadata": {},
     "output_type": "execute_result"
    }
   ],
   "source": [
    "mappings.head()"
   ]
  },
  {
   "cell_type": "markdown",
   "metadata": {},
   "source": [
    "### Takeaways\n",
    "1. companies dataframe has list of companies.\n",
    "2. rounds2 dataframe has list of fundings, companies had raised.\n",
    "3. mappings dataframe contains information of sectors associated with categories.\n",
    "\n",
    "We can merge permalink column of companies and  company_permalink column of rounds2.\n",
    "We can create a derived column \"Sector\" based on category_list column of companies and mappings"
   ]
  },
  {
   "cell_type": "markdown",
   "metadata": {},
   "source": [
    "## Data Understanding of companies"
   ]
  },
  {
   "cell_type": "code",
   "execution_count": 6,
   "metadata": {},
   "outputs": [
    {
     "name": "stdout",
     "output_type": "stream",
     "text": [
      "<class 'pandas.core.frame.DataFrame'>\n",
      "RangeIndex: 66368 entries, 0 to 66367\n",
      "Data columns (total 10 columns):\n",
      " #   Column         Non-Null Count  Dtype \n",
      "---  ------         --------------  ----- \n",
      " 0   permalink      66368 non-null  object\n",
      " 1   name           66367 non-null  object\n",
      " 2   homepage_url   61310 non-null  object\n",
      " 3   category_list  63220 non-null  object\n",
      " 4   status         66368 non-null  object\n",
      " 5   country_code   59410 non-null  object\n",
      " 6   state_code     57821 non-null  object\n",
      " 7   region         58338 non-null  object\n",
      " 8   city           58340 non-null  object\n",
      " 9   founded_at     51147 non-null  object\n",
      "dtypes: object(10)\n",
      "memory usage: 5.1+ MB\n"
     ]
    }
   ],
   "source": [
    "companies.info()"
   ]
  },
  {
   "cell_type": "code",
   "execution_count": 7,
   "metadata": {},
   "outputs": [
    {
     "data": {
      "text/plain": [
       "permalink         0.000000\n",
       "name              0.001507\n",
       "homepage_url      7.621143\n",
       "category_list     4.743250\n",
       "status            0.000000\n",
       "country_code     10.483968\n",
       "state_code       12.878194\n",
       "region           12.099204\n",
       "city             12.096191\n",
       "founded_at       22.934245\n",
       "dtype: float64"
      ]
     },
     "execution_count": 7,
     "metadata": {},
     "output_type": "execute_result"
    }
   ],
   "source": [
    "#Understanding null values\n",
    "100*(companies.isnull().sum()/len(companies))"
   ]
  },
  {
   "cell_type": "code",
   "execution_count": 8,
   "metadata": {},
   "outputs": [
    {
     "data": {
      "text/plain": [
       "operating    53034\n",
       "closed        6238\n",
       "acquired      5549\n",
       "ipo           1547\n",
       "Name: status, dtype: int64"
      ]
     },
     "execution_count": 8,
     "metadata": {},
     "output_type": "execute_result"
    }
   ],
   "source": [
    "companies[\"status\"].value_counts()"
   ]
  },
  {
   "cell_type": "markdown",
   "metadata": {},
   "source": []
  },
  {
   "cell_type": "code",
   "execution_count": 9,
   "metadata": {},
   "outputs": [],
   "source": [
    "#Removing extra spaces and lower casing of permalink.\n",
    "companies.permalink = companies.permalink.str.lower().str.strip()"
   ]
  },
  {
   "cell_type": "code",
   "execution_count": 10,
   "metadata": {},
   "outputs": [],
   "source": [
    "#Removing extra spaces and lower casing of homepage_url\n",
    "companies.homepage_url= companies.homepage_url.str.lower().str.strip()"
   ]
  },
  {
   "cell_type": "code",
   "execution_count": 11,
   "metadata": {},
   "outputs": [],
   "source": [
    "#Removing extra spaces and lower casing of name\n",
    "companies.name= companies.name.str.lower().str.strip()"
   ]
  },
  {
   "cell_type": "code",
   "execution_count": 12,
   "metadata": {},
   "outputs": [],
   "source": [
    "#Correcting incorrect values in name\n",
    "companies.name.loc[(companies.name==\"#name?\") | (companies.name.isnull())] = companies.permalink.apply(lambda x: x.split(\"/\")[-1])"
   ]
  },
  {
   "cell_type": "code",
   "execution_count": 13,
   "metadata": {},
   "outputs": [
    {
     "data": {
      "text/plain": [
       "(0, 10)"
      ]
     },
     "execution_count": 13,
     "metadata": {},
     "output_type": "execute_result"
    }
   ],
   "source": [
    "companies.loc[(companies.name==\"#name?\") | (companies.name.isnull())].shape"
   ]
  },
  {
   "cell_type": "code",
   "execution_count": 14,
   "metadata": {},
   "outputs": [
    {
     "data": {
      "text/html": [
       "<div>\n",
       "<style scoped>\n",
       "    .dataframe tbody tr th:only-of-type {\n",
       "        vertical-align: middle;\n",
       "    }\n",
       "\n",
       "    .dataframe tbody tr th {\n",
       "        vertical-align: top;\n",
       "    }\n",
       "\n",
       "    .dataframe thead th {\n",
       "        text-align: right;\n",
       "    }\n",
       "</style>\n",
       "<table border=\"1\" class=\"dataframe\">\n",
       "  <thead>\n",
       "    <tr style=\"text-align: right;\">\n",
       "      <th></th>\n",
       "      <th>permalink</th>\n",
       "      <th>name</th>\n",
       "      <th>homepage_url</th>\n",
       "      <th>category_list</th>\n",
       "      <th>status</th>\n",
       "      <th>country_code</th>\n",
       "      <th>state_code</th>\n",
       "      <th>region</th>\n",
       "      <th>city</th>\n",
       "      <th>founded_at</th>\n",
       "    </tr>\n",
       "  </thead>\n",
       "  <tbody>\n",
       "    <tr>\n",
       "      <th>count</th>\n",
       "      <td>66368</td>\n",
       "      <td>66368</td>\n",
       "      <td>61310</td>\n",
       "      <td>63220</td>\n",
       "      <td>66368</td>\n",
       "      <td>59410</td>\n",
       "      <td>57821</td>\n",
       "      <td>58338</td>\n",
       "      <td>58340</td>\n",
       "      <td>51147</td>\n",
       "    </tr>\n",
       "    <tr>\n",
       "      <th>unique</th>\n",
       "      <td>66368</td>\n",
       "      <td>66038</td>\n",
       "      <td>61187</td>\n",
       "      <td>27296</td>\n",
       "      <td>4</td>\n",
       "      <td>137</td>\n",
       "      <td>311</td>\n",
       "      <td>1092</td>\n",
       "      <td>5111</td>\n",
       "      <td>3978</td>\n",
       "    </tr>\n",
       "    <tr>\n",
       "      <th>top</th>\n",
       "      <td>/organization/ce-interactive</td>\n",
       "      <td>roost</td>\n",
       "      <td>http://www.askforoffer.com</td>\n",
       "      <td>Software</td>\n",
       "      <td>operating</td>\n",
       "      <td>USA</td>\n",
       "      <td>CA</td>\n",
       "      <td>SF Bay Area</td>\n",
       "      <td>San Francisco</td>\n",
       "      <td>01-01-2012</td>\n",
       "    </tr>\n",
       "    <tr>\n",
       "      <th>freq</th>\n",
       "      <td>1</td>\n",
       "      <td>4</td>\n",
       "      <td>5</td>\n",
       "      <td>3995</td>\n",
       "      <td>53034</td>\n",
       "      <td>37601</td>\n",
       "      <td>12900</td>\n",
       "      <td>8804</td>\n",
       "      <td>3526</td>\n",
       "      <td>2730</td>\n",
       "    </tr>\n",
       "  </tbody>\n",
       "</table>\n",
       "</div>"
      ],
      "text/plain": [
       "                           permalink   name                homepage_url  \\\n",
       "count                          66368  66368                       61310   \n",
       "unique                         66368  66038                       61187   \n",
       "top     /organization/ce-interactive  roost  http://www.askforoffer.com   \n",
       "freq                               1      4                           5   \n",
       "\n",
       "       category_list     status country_code state_code       region  \\\n",
       "count          63220      66368        59410      57821        58338   \n",
       "unique         27296          4          137        311         1092   \n",
       "top         Software  operating          USA         CA  SF Bay Area   \n",
       "freq            3995      53034        37601      12900         8804   \n",
       "\n",
       "                 city  founded_at  \n",
       "count           58340       51147  \n",
       "unique           5111        3978  \n",
       "top     San Francisco  01-01-2012  \n",
       "freq             3526        2730  "
      ]
     },
     "execution_count": 14,
     "metadata": {},
     "output_type": "execute_result"
    }
   ],
   "source": [
    "#Understanding unique values\n",
    "companies.describe()"
   ]
  },
  {
   "cell_type": "markdown",
   "metadata": {},
   "source": [
    "### Takeaways:\n",
    "1. permalink, name and homepage_url represent about the company. <b>We need to further analyze these columns to find unique values. </b>\n",
    "2. We want to find the countries to invest and category_list. These are target columns. <b> So we can drop the rows where country_code and category_list value is null. </b>\n",
    "3. We can identify where to invest with-in the country if required. But For our case study (analysis), we are not interested in which city or region of a country the company should invest. Hence, can drop state_code, region and city columns, if required.\n",
    "4. With Status column, we can further identify about the success rate of those investments. Like many companies are closed.\n",
    "5. With founded_at feild we can check how old a company is.\n",
    "6. Data set has 66368 rows and 10 columns. We need to find how many are unique rows.\n",
    "7. founded_at column can be dropped as it has 22 percent nulls and This column is not needed for analysis"
   ]
  },
  {
   "cell_type": "markdown",
   "metadata": {},
   "source": [
    "We need to find the reason for non unique name and homepage_url"
   ]
  },
  {
   "cell_type": "code",
   "execution_count": 15,
   "metadata": {
    "scrolled": false
   },
   "outputs": [
    {
     "data": {
      "text/html": [
       "<div>\n",
       "<style scoped>\n",
       "    .dataframe tbody tr th:only-of-type {\n",
       "        vertical-align: middle;\n",
       "    }\n",
       "\n",
       "    .dataframe tbody tr th {\n",
       "        vertical-align: top;\n",
       "    }\n",
       "\n",
       "    .dataframe thead th {\n",
       "        text-align: right;\n",
       "    }\n",
       "</style>\n",
       "<table border=\"1\" class=\"dataframe\">\n",
       "  <thead>\n",
       "    <tr style=\"text-align: right;\">\n",
       "      <th></th>\n",
       "      <th>permalink</th>\n",
       "      <th>name</th>\n",
       "      <th>homepage_url</th>\n",
       "      <th>category_list</th>\n",
       "      <th>status</th>\n",
       "      <th>country_code</th>\n",
       "      <th>state_code</th>\n",
       "      <th>region</th>\n",
       "      <th>city</th>\n",
       "      <th>founded_at</th>\n",
       "    </tr>\n",
       "  </thead>\n",
       "  <tbody>\n",
       "    <tr>\n",
       "      <th>7236</th>\n",
       "      <td>/organization/bittorrent</td>\n",
       "      <td>bittorrent</td>\n",
       "      <td>http://adcoock.com/sites/top-45-best-torrent-t...</td>\n",
       "      <td>Apps|Peer-to-Peer|Software</td>\n",
       "      <td>operating</td>\n",
       "      <td>USA</td>\n",
       "      <td>CA</td>\n",
       "      <td>SF Bay Area</td>\n",
       "      <td>San Francisco</td>\n",
       "      <td>01-09-2004</td>\n",
       "    </tr>\n",
       "    <tr>\n",
       "      <th>55148</th>\n",
       "      <td>/organization/stumbleupon</td>\n",
       "      <td>stumbleupon</td>\n",
       "      <td>http://adcoock.com/sites/top-45-best-torrent-t...</td>\n",
       "      <td>Content|Curated Web|Search</td>\n",
       "      <td>acquired</td>\n",
       "      <td>USA</td>\n",
       "      <td>CA</td>\n",
       "      <td>SF Bay Area</td>\n",
       "      <td>San Francisco</td>\n",
       "      <td>01-02-2002</td>\n",
       "    </tr>\n",
       "    <tr>\n",
       "      <th>57990</th>\n",
       "      <td>/organization/thought-network-s-a-s</td>\n",
       "      <td>thought network s.a.s</td>\n",
       "      <td>http://app.thotz.co/</td>\n",
       "      <td>Apps|Digital Media|Internet|Software</td>\n",
       "      <td>closed</td>\n",
       "      <td>NaN</td>\n",
       "      <td>NaN</td>\n",
       "      <td>NaN</td>\n",
       "      <td>NaN</td>\n",
       "      <td>NaN</td>\n",
       "    </tr>\n",
       "    <tr>\n",
       "      <th>57986</th>\n",
       "      <td>/organization/thotz</td>\n",
       "      <td>thotz</td>\n",
       "      <td>http://app.thotz.co/</td>\n",
       "      <td>Content|Information Services|Visualization</td>\n",
       "      <td>closed</td>\n",
       "      <td>COL</td>\n",
       "      <td>34</td>\n",
       "      <td>Bogota</td>\n",
       "      <td>BogotÃ¡</td>\n",
       "      <td>01-01-2011</td>\n",
       "    </tr>\n",
       "    <tr>\n",
       "      <th>6824</th>\n",
       "      <td>/organization/bincode-entertainment</td>\n",
       "      <td>bincode entertainment</td>\n",
       "      <td>http://bincode-entertainment.com/</td>\n",
       "      <td>NaN</td>\n",
       "      <td>closed</td>\n",
       "      <td>BGR</td>\n",
       "      <td>42</td>\n",
       "      <td>Sofia</td>\n",
       "      <td>Sofia</td>\n",
       "      <td>01-01-2015</td>\n",
       "    </tr>\n",
       "    <tr>\n",
       "      <th>6823</th>\n",
       "      <td>/organization/bincode</td>\n",
       "      <td>bincode</td>\n",
       "      <td>http://bincode-entertainment.com/</td>\n",
       "      <td>NaN</td>\n",
       "      <td>operating</td>\n",
       "      <td>SRB</td>\n",
       "      <td>2</td>\n",
       "      <td>Belgrade</td>\n",
       "      <td>Belgrade</td>\n",
       "      <td>NaN</td>\n",
       "    </tr>\n",
       "    <tr>\n",
       "      <th>8388</th>\n",
       "      <td>/organization/brave-new-coin</td>\n",
       "      <td>brave new coin</td>\n",
       "      <td>http://bravenewcoin.com</td>\n",
       "      <td>Financial Services</td>\n",
       "      <td>operating</td>\n",
       "      <td>NZL</td>\n",
       "      <td>NaN</td>\n",
       "      <td>NaN</td>\n",
       "      <td>NaN</td>\n",
       "      <td>01-01-2014</td>\n",
       "    </tr>\n",
       "    <tr>\n",
       "      <th>56715</th>\n",
       "      <td>/organization/techemy-ltd</td>\n",
       "      <td>techemy ltd</td>\n",
       "      <td>http://bravenewcoin.com</td>\n",
       "      <td>Big Data|Bitcoin|FinTech</td>\n",
       "      <td>operating</td>\n",
       "      <td>NZL</td>\n",
       "      <td>E9</td>\n",
       "      <td>NZL - Other</td>\n",
       "      <td>Queenstown</td>\n",
       "      <td>10-01-2014</td>\n",
       "    </tr>\n",
       "    <tr>\n",
       "      <th>12868</th>\n",
       "      <td>/organization/confluent</td>\n",
       "      <td>confluent</td>\n",
       "      <td>http://confluent.io/</td>\n",
       "      <td>Big Data|Enterprise Software|Technology</td>\n",
       "      <td>operating</td>\n",
       "      <td>USA</td>\n",
       "      <td>CA</td>\n",
       "      <td>SF Bay Area</td>\n",
       "      <td>Mountain View</td>\n",
       "      <td>23-09-2014</td>\n",
       "    </tr>\n",
       "    <tr>\n",
       "      <th>12869</th>\n",
       "      <td>/organization/confluent-oblix-oracle</td>\n",
       "      <td>confluent (oblix / oracle)</td>\n",
       "      <td>http://confluent.io/</td>\n",
       "      <td>Computers|Software</td>\n",
       "      <td>operating</td>\n",
       "      <td>USA</td>\n",
       "      <td>CA</td>\n",
       "      <td>SF Bay Area</td>\n",
       "      <td>Mountain View</td>\n",
       "      <td>NaN</td>\n",
       "    </tr>\n",
       "  </tbody>\n",
       "</table>\n",
       "</div>"
      ],
      "text/plain": [
       "                                  permalink                        name  \\\n",
       "7236               /organization/bittorrent                  bittorrent   \n",
       "55148             /organization/stumbleupon                 stumbleupon   \n",
       "57990   /organization/thought-network-s-a-s       thought network s.a.s   \n",
       "57986                   /organization/thotz                       thotz   \n",
       "6824    /organization/bincode-entertainment       bincode entertainment   \n",
       "6823                  /organization/bincode                     bincode   \n",
       "8388           /organization/brave-new-coin              brave new coin   \n",
       "56715             /organization/techemy-ltd                 techemy ltd   \n",
       "12868               /organization/confluent                   confluent   \n",
       "12869  /organization/confluent-oblix-oracle  confluent (oblix / oracle)   \n",
       "\n",
       "                                            homepage_url  \\\n",
       "7236   http://adcoock.com/sites/top-45-best-torrent-t...   \n",
       "55148  http://adcoock.com/sites/top-45-best-torrent-t...   \n",
       "57990                               http://app.thotz.co/   \n",
       "57986                               http://app.thotz.co/   \n",
       "6824                   http://bincode-entertainment.com/   \n",
       "6823                   http://bincode-entertainment.com/   \n",
       "8388                             http://bravenewcoin.com   \n",
       "56715                            http://bravenewcoin.com   \n",
       "12868                               http://confluent.io/   \n",
       "12869                               http://confluent.io/   \n",
       "\n",
       "                                    category_list     status country_code  \\\n",
       "7236                   Apps|Peer-to-Peer|Software  operating          USA   \n",
       "55148                  Content|Curated Web|Search   acquired          USA   \n",
       "57990        Apps|Digital Media|Internet|Software     closed          NaN   \n",
       "57986  Content|Information Services|Visualization     closed          COL   \n",
       "6824                                          NaN     closed          BGR   \n",
       "6823                                          NaN  operating          SRB   \n",
       "8388                           Financial Services  operating          NZL   \n",
       "56715                    Big Data|Bitcoin|FinTech  operating          NZL   \n",
       "12868     Big Data|Enterprise Software|Technology  operating          USA   \n",
       "12869                          Computers|Software  operating          USA   \n",
       "\n",
       "      state_code       region           city  founded_at  \n",
       "7236          CA  SF Bay Area  San Francisco  01-09-2004  \n",
       "55148         CA  SF Bay Area  San Francisco  01-02-2002  \n",
       "57990        NaN          NaN            NaN         NaN  \n",
       "57986         34       Bogota        BogotÃ¡  01-01-2011  \n",
       "6824          42        Sofia          Sofia  01-01-2015  \n",
       "6823           2     Belgrade       Belgrade         NaN  \n",
       "8388         NaN          NaN            NaN  01-01-2014  \n",
       "56715         E9  NZL - Other     Queenstown  10-01-2014  \n",
       "12868         CA  SF Bay Area  Mountain View  23-09-2014  \n",
       "12869         CA  SF Bay Area  Mountain View         NaN  "
      ]
     },
     "execution_count": 15,
     "metadata": {},
     "output_type": "execute_result"
    }
   ],
   "source": [
    "# Non - unique  values of homepage_url\n",
    "companies.loc[companies.duplicated(subset=[\"homepage_url\"],keep=False)].sort_values(by=\"homepage_url\").head(10)\n",
    "#As per data - For many companies homepage_url is same but name is different. Hence, Some companies has wrong \n",
    "#homepage_url"
   ]
  },
  {
   "cell_type": "code",
   "execution_count": 16,
   "metadata": {
    "scrolled": true
   },
   "outputs": [
    {
     "data": {
      "text/html": [
       "<div>\n",
       "<style scoped>\n",
       "    .dataframe tbody tr th:only-of-type {\n",
       "        vertical-align: middle;\n",
       "    }\n",
       "\n",
       "    .dataframe tbody tr th {\n",
       "        vertical-align: top;\n",
       "    }\n",
       "\n",
       "    .dataframe thead th {\n",
       "        text-align: right;\n",
       "    }\n",
       "</style>\n",
       "<table border=\"1\" class=\"dataframe\">\n",
       "  <thead>\n",
       "    <tr style=\"text-align: right;\">\n",
       "      <th></th>\n",
       "      <th>permalink</th>\n",
       "      <th>name</th>\n",
       "      <th>homepage_url</th>\n",
       "      <th>category_list</th>\n",
       "      <th>status</th>\n",
       "      <th>country_code</th>\n",
       "      <th>state_code</th>\n",
       "      <th>region</th>\n",
       "      <th>city</th>\n",
       "      <th>founded_at</th>\n",
       "    </tr>\n",
       "  </thead>\n",
       "  <tbody>\n",
       "    <tr>\n",
       "      <th>281</th>\n",
       "      <td>/organization/3divaz-2</td>\n",
       "      <td>3divaz</td>\n",
       "      <td>http://www.3divaz.ch/home</td>\n",
       "      <td>NaN</td>\n",
       "      <td>closed</td>\n",
       "      <td>NaN</td>\n",
       "      <td>NaN</td>\n",
       "      <td>NaN</td>\n",
       "      <td>NaN</td>\n",
       "      <td>01-07-2014</td>\n",
       "    </tr>\n",
       "    <tr>\n",
       "      <th>282</th>\n",
       "      <td>/organization/3divaz-3</td>\n",
       "      <td>3divaz</td>\n",
       "      <td>http://www.3divaz.ch/home</td>\n",
       "      <td>NaN</td>\n",
       "      <td>operating</td>\n",
       "      <td>CHE</td>\n",
       "      <td>1</td>\n",
       "      <td>CHE - Other</td>\n",
       "      <td>Wildegg</td>\n",
       "      <td>01-07-2014</td>\n",
       "    </tr>\n",
       "    <tr>\n",
       "      <th>1526</th>\n",
       "      <td>/organization/adtena</td>\n",
       "      <td>adtena</td>\n",
       "      <td>http://adtena.com/</td>\n",
       "      <td>Ad Targeting|Advertising|Mobile Advertising</td>\n",
       "      <td>operating</td>\n",
       "      <td>NaN</td>\n",
       "      <td>NaN</td>\n",
       "      <td>NaN</td>\n",
       "      <td>NaN</td>\n",
       "      <td>NaN</td>\n",
       "    </tr>\n",
       "    <tr>\n",
       "      <th>1527</th>\n",
       "      <td>/organization/adtena-2</td>\n",
       "      <td>adtena</td>\n",
       "      <td>http://adtena.com</td>\n",
       "      <td>NaN</td>\n",
       "      <td>closed</td>\n",
       "      <td>NaN</td>\n",
       "      <td>NaN</td>\n",
       "      <td>NaN</td>\n",
       "      <td>NaN</td>\n",
       "      <td>15-11-2014</td>\n",
       "    </tr>\n",
       "    <tr>\n",
       "      <th>1995</th>\n",
       "      <td>/organization/agora-3</td>\n",
       "      <td>agora</td>\n",
       "      <td>http://www.agora.io/</td>\n",
       "      <td>Mobile|Mobile Software Tools|VoIP</td>\n",
       "      <td>operating</td>\n",
       "      <td>USA</td>\n",
       "      <td>CA</td>\n",
       "      <td>SF Bay Area</td>\n",
       "      <td>Palo Alto</td>\n",
       "      <td>01-01-2014</td>\n",
       "    </tr>\n",
       "    <tr>\n",
       "      <th>...</th>\n",
       "      <td>...</td>\n",
       "      <td>...</td>\n",
       "      <td>...</td>\n",
       "      <td>...</td>\n",
       "      <td>...</td>\n",
       "      <td>...</td>\n",
       "      <td>...</td>\n",
       "      <td>...</td>\n",
       "      <td>...</td>\n",
       "      <td>...</td>\n",
       "    </tr>\n",
       "    <tr>\n",
       "      <th>65758</th>\n",
       "      <td>/organization/zenbox-2</td>\n",
       "      <td>zenbox</td>\n",
       "      <td>http://zenbox.us</td>\n",
       "      <td>Software</td>\n",
       "      <td>operating</td>\n",
       "      <td>USA</td>\n",
       "      <td>CA</td>\n",
       "      <td>Los Angeles</td>\n",
       "      <td>Santa Monica</td>\n",
       "      <td>01-01-2014</td>\n",
       "    </tr>\n",
       "    <tr>\n",
       "      <th>65897</th>\n",
       "      <td>/organization/zesty</td>\n",
       "      <td>zesty</td>\n",
       "      <td>http://www.zesty.co.uk</td>\n",
       "      <td>Curated Web|Health Care|Healthcare Services|On...</td>\n",
       "      <td>operating</td>\n",
       "      <td>GBR</td>\n",
       "      <td>H9</td>\n",
       "      <td>London</td>\n",
       "      <td>London</td>\n",
       "      <td>01-05-2013</td>\n",
       "    </tr>\n",
       "    <tr>\n",
       "      <th>65899</th>\n",
       "      <td>/organization/zestyapp</td>\n",
       "      <td>zesty</td>\n",
       "      <td>http://www.zesty.com/</td>\n",
       "      <td>Health and Wellness|Logistics|Organic Food|Spe...</td>\n",
       "      <td>operating</td>\n",
       "      <td>USA</td>\n",
       "      <td>CA</td>\n",
       "      <td>SF Bay Area</td>\n",
       "      <td>San Francisco</td>\n",
       "      <td>04-11-2013</td>\n",
       "    </tr>\n",
       "    <tr>\n",
       "      <th>66028</th>\n",
       "      <td>/organization/zingbox</td>\n",
       "      <td>zingbox</td>\n",
       "      <td>http://www.zingbox.com/</td>\n",
       "      <td>Leisure|Music|Music Services</td>\n",
       "      <td>operating</td>\n",
       "      <td>USA</td>\n",
       "      <td>CA</td>\n",
       "      <td>SF Bay Area</td>\n",
       "      <td>Mountain View</td>\n",
       "      <td>NaN</td>\n",
       "    </tr>\n",
       "    <tr>\n",
       "      <th>66029</th>\n",
       "      <td>/organization/zingbox-2</td>\n",
       "      <td>zingbox</td>\n",
       "      <td>NaN</td>\n",
       "      <td>Services|Solar</td>\n",
       "      <td>operating</td>\n",
       "      <td>NaN</td>\n",
       "      <td>NaN</td>\n",
       "      <td>NaN</td>\n",
       "      <td>NaN</td>\n",
       "      <td>NaN</td>\n",
       "    </tr>\n",
       "  </tbody>\n",
       "</table>\n",
       "<p>625 rows × 10 columns</p>\n",
       "</div>"
      ],
      "text/plain": [
       "                     permalink     name               homepage_url  \\\n",
       "281     /organization/3divaz-2   3divaz  http://www.3divaz.ch/home   \n",
       "282     /organization/3divaz-3   3divaz  http://www.3divaz.ch/home   \n",
       "1526      /organization/adtena   adtena         http://adtena.com/   \n",
       "1527    /organization/adtena-2   adtena          http://adtena.com   \n",
       "1995     /organization/agora-3    agora       http://www.agora.io/   \n",
       "...                        ...      ...                        ...   \n",
       "65758   /organization/zenbox-2   zenbox           http://zenbox.us   \n",
       "65897      /organization/zesty    zesty     http://www.zesty.co.uk   \n",
       "65899   /organization/zestyapp    zesty      http://www.zesty.com/   \n",
       "66028    /organization/zingbox  zingbox    http://www.zingbox.com/   \n",
       "66029  /organization/zingbox-2  zingbox                        NaN   \n",
       "\n",
       "                                           category_list     status  \\\n",
       "281                                                  NaN     closed   \n",
       "282                                                  NaN  operating   \n",
       "1526         Ad Targeting|Advertising|Mobile Advertising  operating   \n",
       "1527                                                 NaN     closed   \n",
       "1995                   Mobile|Mobile Software Tools|VoIP  operating   \n",
       "...                                                  ...        ...   \n",
       "65758                                           Software  operating   \n",
       "65897  Curated Web|Health Care|Healthcare Services|On...  operating   \n",
       "65899  Health and Wellness|Logistics|Organic Food|Spe...  operating   \n",
       "66028                       Leisure|Music|Music Services  operating   \n",
       "66029                                     Services|Solar  operating   \n",
       "\n",
       "      country_code state_code       region           city  founded_at  \n",
       "281            NaN        NaN          NaN            NaN  01-07-2014  \n",
       "282            CHE          1  CHE - Other        Wildegg  01-07-2014  \n",
       "1526           NaN        NaN          NaN            NaN         NaN  \n",
       "1527           NaN        NaN          NaN            NaN  15-11-2014  \n",
       "1995           USA         CA  SF Bay Area      Palo Alto  01-01-2014  \n",
       "...            ...        ...          ...            ...         ...  \n",
       "65758          USA         CA  Los Angeles   Santa Monica  01-01-2014  \n",
       "65897          GBR         H9       London         London  01-05-2013  \n",
       "65899          USA         CA  SF Bay Area  San Francisco  04-11-2013  \n",
       "66028          USA         CA  SF Bay Area  Mountain View         NaN  \n",
       "66029          NaN        NaN          NaN            NaN         NaN  \n",
       "\n",
       "[625 rows x 10 columns]"
      ]
     },
     "execution_count": 16,
     "metadata": {},
     "output_type": "execute_result"
    }
   ],
   "source": [
    "# Non - unique  values of name\n",
    "companies.loc[companies.duplicated(subset=[\"name\"],keep=False)].sort_values(by=\"name\")\n",
    "#As per data - For many companies name is same but homepage_url. Hence, Some companies has same name\n",
    "#but they are different"
   ]
  },
  {
   "cell_type": "code",
   "execution_count": 17,
   "metadata": {
    "scrolled": true
   },
   "outputs": [
    {
     "data": {
      "text/html": [
       "<div>\n",
       "<style scoped>\n",
       "    .dataframe tbody tr th:only-of-type {\n",
       "        vertical-align: middle;\n",
       "    }\n",
       "\n",
       "    .dataframe tbody tr th {\n",
       "        vertical-align: top;\n",
       "    }\n",
       "\n",
       "    .dataframe thead th {\n",
       "        text-align: right;\n",
       "    }\n",
       "</style>\n",
       "<table border=\"1\" class=\"dataframe\">\n",
       "  <thead>\n",
       "    <tr style=\"text-align: right;\">\n",
       "      <th></th>\n",
       "      <th>permalink</th>\n",
       "      <th>name</th>\n",
       "      <th>homepage_url</th>\n",
       "      <th>category_list</th>\n",
       "      <th>status</th>\n",
       "      <th>country_code</th>\n",
       "      <th>state_code</th>\n",
       "      <th>region</th>\n",
       "      <th>city</th>\n",
       "      <th>founded_at</th>\n",
       "    </tr>\n",
       "  </thead>\n",
       "  <tbody>\n",
       "    <tr>\n",
       "      <th>281</th>\n",
       "      <td>/organization/3divaz-2</td>\n",
       "      <td>3divaz</td>\n",
       "      <td>http://www.3divaz.ch/home</td>\n",
       "      <td>NaN</td>\n",
       "      <td>closed</td>\n",
       "      <td>NaN</td>\n",
       "      <td>NaN</td>\n",
       "      <td>NaN</td>\n",
       "      <td>NaN</td>\n",
       "      <td>01-07-2014</td>\n",
       "    </tr>\n",
       "    <tr>\n",
       "      <th>282</th>\n",
       "      <td>/organization/3divaz-3</td>\n",
       "      <td>3divaz</td>\n",
       "      <td>http://www.3divaz.ch/home</td>\n",
       "      <td>NaN</td>\n",
       "      <td>operating</td>\n",
       "      <td>CHE</td>\n",
       "      <td>1</td>\n",
       "      <td>CHE - Other</td>\n",
       "      <td>Wildegg</td>\n",
       "      <td>01-07-2014</td>\n",
       "    </tr>\n",
       "    <tr>\n",
       "      <th>4168</th>\n",
       "      <td>/organization/ardian</td>\n",
       "      <td>ardian</td>\n",
       "      <td>http://www.ardian.com</td>\n",
       "      <td>Investment Management</td>\n",
       "      <td>operating</td>\n",
       "      <td>FRA</td>\n",
       "      <td>A8</td>\n",
       "      <td>Paris</td>\n",
       "      <td>Paris</td>\n",
       "      <td>01-01-1996</td>\n",
       "    </tr>\n",
       "    <tr>\n",
       "      <th>4169</th>\n",
       "      <td>/organization/ardian-inc</td>\n",
       "      <td>ardian</td>\n",
       "      <td>http://www.ardian.com</td>\n",
       "      <td>Health Care</td>\n",
       "      <td>acquired</td>\n",
       "      <td>USA</td>\n",
       "      <td>CA</td>\n",
       "      <td>SF Bay Area</td>\n",
       "      <td>Mountain View</td>\n",
       "      <td>01-01-2003</td>\n",
       "    </tr>\n",
       "    <tr>\n",
       "      <th>4481</th>\n",
       "      <td>/organization/arvegenix</td>\n",
       "      <td>arvegenix</td>\n",
       "      <td>http://www.arvegenix.com/</td>\n",
       "      <td>Fuels|Nutrition|Oil|Renewable Energies</td>\n",
       "      <td>operating</td>\n",
       "      <td>USA</td>\n",
       "      <td>MO</td>\n",
       "      <td>St. Louis</td>\n",
       "      <td>St Louis</td>\n",
       "      <td>01-01-2013</td>\n",
       "    </tr>\n",
       "    <tr>\n",
       "      <th>4482</th>\n",
       "      <td>/organization/arvegenix-2</td>\n",
       "      <td>arvegenix</td>\n",
       "      <td>http://www.arvegenix.com/</td>\n",
       "      <td>Industrial|Oil|Renewable Energies</td>\n",
       "      <td>operating</td>\n",
       "      <td>USA</td>\n",
       "      <td>MO</td>\n",
       "      <td>St. Louis</td>\n",
       "      <td>St Louis</td>\n",
       "      <td>NaN</td>\n",
       "    </tr>\n",
       "    <tr>\n",
       "      <th>13751</th>\n",
       "      <td>/organization/credo-semiconductor</td>\n",
       "      <td>credo semiconductor</td>\n",
       "      <td>http://www.credosemi.com/</td>\n",
       "      <td>Semiconductors</td>\n",
       "      <td>operating</td>\n",
       "      <td>CHN</td>\n",
       "      <td>23</td>\n",
       "      <td>Shanghai</td>\n",
       "      <td>Shanghai</td>\n",
       "      <td>01-01-2008</td>\n",
       "    </tr>\n",
       "    <tr>\n",
       "      <th>13752</th>\n",
       "      <td>/organization/credo-semiconductor-2</td>\n",
       "      <td>credo semiconductor</td>\n",
       "      <td>http://www.credosemi.com/</td>\n",
       "      <td>Semiconductors</td>\n",
       "      <td>operating</td>\n",
       "      <td>USA</td>\n",
       "      <td>CA</td>\n",
       "      <td>SF Bay Area</td>\n",
       "      <td>Milpitas</td>\n",
       "      <td>01-01-2008</td>\n",
       "    </tr>\n",
       "    <tr>\n",
       "      <th>21659</th>\n",
       "      <td>/organization/friday</td>\n",
       "      <td>friday</td>\n",
       "      <td>NaN</td>\n",
       "      <td>Social Media</td>\n",
       "      <td>operating</td>\n",
       "      <td>CHN</td>\n",
       "      <td>NaN</td>\n",
       "      <td>NaN</td>\n",
       "      <td>NaN</td>\n",
       "      <td>NaN</td>\n",
       "    </tr>\n",
       "    <tr>\n",
       "      <th>21660</th>\n",
       "      <td>/organization/friday-3</td>\n",
       "      <td>friday</td>\n",
       "      <td>NaN</td>\n",
       "      <td>Tourism</td>\n",
       "      <td>operating</td>\n",
       "      <td>NaN</td>\n",
       "      <td>NaN</td>\n",
       "      <td>NaN</td>\n",
       "      <td>NaN</td>\n",
       "      <td>NaN</td>\n",
       "    </tr>\n",
       "    <tr>\n",
       "      <th>19046</th>\n",
       "      <td>/organization/eventbug</td>\n",
       "      <td>geohangout</td>\n",
       "      <td>http://geohangout.com/</td>\n",
       "      <td>Location Based Services|Messaging|Social Commerce</td>\n",
       "      <td>operating</td>\n",
       "      <td>CHL</td>\n",
       "      <td>12</td>\n",
       "      <td>Santiago</td>\n",
       "      <td>Santiago</td>\n",
       "      <td>NaN</td>\n",
       "    </tr>\n",
       "    <tr>\n",
       "      <th>22648</th>\n",
       "      <td>/organization/geohangout</td>\n",
       "      <td>geohangout</td>\n",
       "      <td>http://geohangout.com/</td>\n",
       "      <td>Apps|Content|Mobile</td>\n",
       "      <td>operating</td>\n",
       "      <td>NaN</td>\n",
       "      <td>NaN</td>\n",
       "      <td>NaN</td>\n",
       "      <td>NaN</td>\n",
       "      <td>NaN</td>\n",
       "    </tr>\n",
       "    <tr>\n",
       "      <th>23168</th>\n",
       "      <td>/organization/global-fashion-group</td>\n",
       "      <td>global fashion group</td>\n",
       "      <td>http://global-fashion-group.com/</td>\n",
       "      <td>Fashion</td>\n",
       "      <td>operating</td>\n",
       "      <td>LUX</td>\n",
       "      <td>3</td>\n",
       "      <td>Luxemburg</td>\n",
       "      <td>Luxembourg</td>\n",
       "      <td>01-01-2011</td>\n",
       "    </tr>\n",
       "    <tr>\n",
       "      <th>23169</th>\n",
       "      <td>/organization/global-fashion-group-</td>\n",
       "      <td>global fashion group</td>\n",
       "      <td>http://global-fashion-group.com/</td>\n",
       "      <td>E-Commerce|Fashion</td>\n",
       "      <td>operating</td>\n",
       "      <td>LUX</td>\n",
       "      <td>3</td>\n",
       "      <td>LUX - Other</td>\n",
       "      <td>HÃ©ienhaff</td>\n",
       "      <td>01-01-2011</td>\n",
       "    </tr>\n",
       "    <tr>\n",
       "      <th>26411</th>\n",
       "      <td>/organization/i-tech-2</td>\n",
       "      <td>i-tech</td>\n",
       "      <td>http://itech.wanye.cc/</td>\n",
       "      <td>NaN</td>\n",
       "      <td>closed</td>\n",
       "      <td>NaN</td>\n",
       "      <td>NaN</td>\n",
       "      <td>NaN</td>\n",
       "      <td>NaN</td>\n",
       "      <td>NaN</td>\n",
       "    </tr>\n",
       "    <tr>\n",
       "      <th>26412</th>\n",
       "      <td>/organization/i-tech-3</td>\n",
       "      <td>i-tech</td>\n",
       "      <td>http://itech.wanye.cc/</td>\n",
       "      <td>Technology</td>\n",
       "      <td>operating</td>\n",
       "      <td>NaN</td>\n",
       "      <td>NaN</td>\n",
       "      <td>NaN</td>\n",
       "      <td>NaN</td>\n",
       "      <td>NaN</td>\n",
       "    </tr>\n",
       "    <tr>\n",
       "      <th>32039</th>\n",
       "      <td>/organization/leohtincorporated</td>\n",
       "      <td>leoht incorporated</td>\n",
       "      <td>http://www.leoht.co</td>\n",
       "      <td>Fashion|Startups|Wearables</td>\n",
       "      <td>operating</td>\n",
       "      <td>NaN</td>\n",
       "      <td>NaN</td>\n",
       "      <td>NaN</td>\n",
       "      <td>NaN</td>\n",
       "      <td>01-01-2014</td>\n",
       "    </tr>\n",
       "    <tr>\n",
       "      <th>32038</th>\n",
       "      <td>/organization/leoht-incorporated</td>\n",
       "      <td>leoht incorporated</td>\n",
       "      <td>http://www.leoht.co</td>\n",
       "      <td>Fashion|Lifestyle|Wearables</td>\n",
       "      <td>operating</td>\n",
       "      <td>USA</td>\n",
       "      <td>NY</td>\n",
       "      <td>New York City</td>\n",
       "      <td>New York</td>\n",
       "      <td>01-01-2014</td>\n",
       "    </tr>\n",
       "    <tr>\n",
       "      <th>40447</th>\n",
       "      <td>/organization/ofixu</td>\n",
       "      <td>ofixu</td>\n",
       "      <td>http://www.ofixu.com</td>\n",
       "      <td>NaN</td>\n",
       "      <td>operating</td>\n",
       "      <td>GBR</td>\n",
       "      <td>H9</td>\n",
       "      <td>London</td>\n",
       "      <td>London</td>\n",
       "      <td>01-01-2014</td>\n",
       "    </tr>\n",
       "    <tr>\n",
       "      <th>40448</th>\n",
       "      <td>/organization/ofixu-2</td>\n",
       "      <td>ofixu</td>\n",
       "      <td>http://www.ofixu.com</td>\n",
       "      <td>Business Services|Office Space|Professional Se...</td>\n",
       "      <td>operating</td>\n",
       "      <td>GBR</td>\n",
       "      <td>H9</td>\n",
       "      <td>London</td>\n",
       "      <td>London</td>\n",
       "      <td>01-09-2014</td>\n",
       "    </tr>\n",
       "    <tr>\n",
       "      <th>42903</th>\n",
       "      <td>/organization/peopleeasy-com</td>\n",
       "      <td>peopleeasy.com</td>\n",
       "      <td>http://www.peopleeasy.com</td>\n",
       "      <td>NaN</td>\n",
       "      <td>operating</td>\n",
       "      <td>IND</td>\n",
       "      <td>7</td>\n",
       "      <td>Delhi</td>\n",
       "      <td>Delhi</td>\n",
       "      <td>01-05-2015</td>\n",
       "    </tr>\n",
       "    <tr>\n",
       "      <th>42904</th>\n",
       "      <td>/organization/peopleeasy-com-2</td>\n",
       "      <td>peopleeasy.com</td>\n",
       "      <td>http://www.peopleeasy.com</td>\n",
       "      <td>NaN</td>\n",
       "      <td>closed</td>\n",
       "      <td>NaN</td>\n",
       "      <td>NaN</td>\n",
       "      <td>NaN</td>\n",
       "      <td>NaN</td>\n",
       "      <td>01-05-2015</td>\n",
       "    </tr>\n",
       "    <tr>\n",
       "      <th>44450</th>\n",
       "      <td>/organization/polyglots-inc</td>\n",
       "      <td>polyglots, inc.</td>\n",
       "      <td>http://www.polyglots.net</td>\n",
       "      <td>Entertainment|Language Learning|Technology</td>\n",
       "      <td>closed</td>\n",
       "      <td>NaN</td>\n",
       "      <td>NaN</td>\n",
       "      <td>NaN</td>\n",
       "      <td>NaN</td>\n",
       "      <td>28-05-2014</td>\n",
       "    </tr>\n",
       "    <tr>\n",
       "      <th>44451</th>\n",
       "      <td>/organization/polyglots-inc-</td>\n",
       "      <td>polyglots, inc.</td>\n",
       "      <td>http://www.polyglots.net</td>\n",
       "      <td>Education</td>\n",
       "      <td>operating</td>\n",
       "      <td>JPN</td>\n",
       "      <td>40</td>\n",
       "      <td>Tokyo</td>\n",
       "      <td>Tokyo</td>\n",
       "      <td>28-05-2014</td>\n",
       "    </tr>\n",
       "    <tr>\n",
       "      <th>48851</th>\n",
       "      <td>/organization/roost-6</td>\n",
       "      <td>roost</td>\n",
       "      <td>https://roost.com/</td>\n",
       "      <td>Storage</td>\n",
       "      <td>operating</td>\n",
       "      <td>USA</td>\n",
       "      <td>CA</td>\n",
       "      <td>SF Bay Area</td>\n",
       "      <td>San Francisco</td>\n",
       "      <td>01-01-2014</td>\n",
       "    </tr>\n",
       "    <tr>\n",
       "      <th>48850</th>\n",
       "      <td>/organization/roost</td>\n",
       "      <td>roost</td>\n",
       "      <td>https://roost.com/</td>\n",
       "      <td>Local Based Services|Real Estate|Storage</td>\n",
       "      <td>acquired</td>\n",
       "      <td>USA</td>\n",
       "      <td>CA</td>\n",
       "      <td>SF Bay Area</td>\n",
       "      <td>San Francisco</td>\n",
       "      <td>01-05-2007</td>\n",
       "    </tr>\n",
       "    <tr>\n",
       "      <th>55154</th>\n",
       "      <td>/organization/stupsr</td>\n",
       "      <td>stupsr</td>\n",
       "      <td>NaN</td>\n",
       "      <td>NaN</td>\n",
       "      <td>closed</td>\n",
       "      <td>NaN</td>\n",
       "      <td>NaN</td>\n",
       "      <td>NaN</td>\n",
       "      <td>NaN</td>\n",
       "      <td>NaN</td>\n",
       "    </tr>\n",
       "    <tr>\n",
       "      <th>55155</th>\n",
       "      <td>/organization/stupsr-2</td>\n",
       "      <td>stupsr</td>\n",
       "      <td>NaN</td>\n",
       "      <td>NaN</td>\n",
       "      <td>closed</td>\n",
       "      <td>NaN</td>\n",
       "      <td>NaN</td>\n",
       "      <td>NaN</td>\n",
       "      <td>NaN</td>\n",
       "      <td>30-11-2015</td>\n",
       "    </tr>\n",
       "    <tr>\n",
       "      <th>58388</th>\n",
       "      <td>/organization/tithe-ly</td>\n",
       "      <td>tithe.ly</td>\n",
       "      <td>https://tithe.ly</td>\n",
       "      <td>Apps|Computers|Software</td>\n",
       "      <td>closed</td>\n",
       "      <td>NaN</td>\n",
       "      <td>NaN</td>\n",
       "      <td>NaN</td>\n",
       "      <td>NaN</td>\n",
       "      <td>01-09-2013</td>\n",
       "    </tr>\n",
       "    <tr>\n",
       "      <th>51761</th>\n",
       "      <td>/organization/simple-tithe</td>\n",
       "      <td>tithe.ly</td>\n",
       "      <td>https://tithe.ly</td>\n",
       "      <td>Finance</td>\n",
       "      <td>operating</td>\n",
       "      <td>USA</td>\n",
       "      <td>TN</td>\n",
       "      <td>Nashville</td>\n",
       "      <td>Franklin</td>\n",
       "      <td>26-09-2013</td>\n",
       "    </tr>\n",
       "    <tr>\n",
       "      <th>59451</th>\n",
       "      <td>/organization/trippal</td>\n",
       "      <td>trippal</td>\n",
       "      <td>NaN</td>\n",
       "      <td>Online Travel</td>\n",
       "      <td>operating</td>\n",
       "      <td>CHN</td>\n",
       "      <td>22</td>\n",
       "      <td>Beijing</td>\n",
       "      <td>Beijing</td>\n",
       "      <td>20-10-2012</td>\n",
       "    </tr>\n",
       "    <tr>\n",
       "      <th>59452</th>\n",
       "      <td>/organization/trippal-2</td>\n",
       "      <td>trippal</td>\n",
       "      <td>NaN</td>\n",
       "      <td>NaN</td>\n",
       "      <td>closed</td>\n",
       "      <td>NaN</td>\n",
       "      <td>NaN</td>\n",
       "      <td>NaN</td>\n",
       "      <td>NaN</td>\n",
       "      <td>NaN</td>\n",
       "    </tr>\n",
       "    <tr>\n",
       "      <th>60011</th>\n",
       "      <td>/organization/twistlock</td>\n",
       "      <td>twistlock</td>\n",
       "      <td>https://www.twistlock.io/</td>\n",
       "      <td>Enterprises|Information Technology|Services</td>\n",
       "      <td>operating</td>\n",
       "      <td>USA</td>\n",
       "      <td>CA</td>\n",
       "      <td>SF Bay Area</td>\n",
       "      <td>San Francisco</td>\n",
       "      <td>NaN</td>\n",
       "    </tr>\n",
       "    <tr>\n",
       "      <th>60012</th>\n",
       "      <td>/organization/twistlock-2</td>\n",
       "      <td>twistlock</td>\n",
       "      <td>https://www.twistlock.io/</td>\n",
       "      <td>Security</td>\n",
       "      <td>operating</td>\n",
       "      <td>USA</td>\n",
       "      <td>CA</td>\n",
       "      <td>SF Bay Area</td>\n",
       "      <td>San Francisco</td>\n",
       "      <td>NaN</td>\n",
       "    </tr>\n",
       "    <tr>\n",
       "      <th>62899</th>\n",
       "      <td>/organization/wacai</td>\n",
       "      <td>wacai</td>\n",
       "      <td>http://www.wacai.com</td>\n",
       "      <td>Software</td>\n",
       "      <td>operating</td>\n",
       "      <td>CHN</td>\n",
       "      <td>2</td>\n",
       "      <td>Hangzhou</td>\n",
       "      <td>Hangzhou</td>\n",
       "      <td>01-01-2008</td>\n",
       "    </tr>\n",
       "    <tr>\n",
       "      <th>62919</th>\n",
       "      <td>/organization/waicai</td>\n",
       "      <td>wacai</td>\n",
       "      <td>http://www.wacai.com</td>\n",
       "      <td>Finance|FinTech</td>\n",
       "      <td>operating</td>\n",
       "      <td>CHN</td>\n",
       "      <td>2</td>\n",
       "      <td>Hangzhou</td>\n",
       "      <td>Hangzhou</td>\n",
       "      <td>NaN</td>\n",
       "    </tr>\n",
       "  </tbody>\n",
       "</table>\n",
       "</div>"
      ],
      "text/plain": [
       "                                 permalink                  name  \\\n",
       "281                 /organization/3divaz-2                3divaz   \n",
       "282                 /organization/3divaz-3                3divaz   \n",
       "4168                  /organization/ardian                ardian   \n",
       "4169              /organization/ardian-inc                ardian   \n",
       "4481               /organization/arvegenix             arvegenix   \n",
       "4482             /organization/arvegenix-2             arvegenix   \n",
       "13751    /organization/credo-semiconductor   credo semiconductor   \n",
       "13752  /organization/credo-semiconductor-2   credo semiconductor   \n",
       "21659                 /organization/friday                friday   \n",
       "21660               /organization/friday-3                friday   \n",
       "19046               /organization/eventbug            geohangout   \n",
       "22648             /organization/geohangout            geohangout   \n",
       "23168   /organization/global-fashion-group  global fashion group   \n",
       "23169  /organization/global-fashion-group-  global fashion group   \n",
       "26411               /organization/i-tech-2                i-tech   \n",
       "26412               /organization/i-tech-3                i-tech   \n",
       "32039      /organization/leohtincorporated    leoht incorporated   \n",
       "32038     /organization/leoht-incorporated    leoht incorporated   \n",
       "40447                  /organization/ofixu                 ofixu   \n",
       "40448                /organization/ofixu-2                 ofixu   \n",
       "42903         /organization/peopleeasy-com        peopleeasy.com   \n",
       "42904       /organization/peopleeasy-com-2        peopleeasy.com   \n",
       "44450          /organization/polyglots-inc       polyglots, inc.   \n",
       "44451         /organization/polyglots-inc-       polyglots, inc.   \n",
       "48851                /organization/roost-6                 roost   \n",
       "48850                  /organization/roost                 roost   \n",
       "55154                 /organization/stupsr                stupsr   \n",
       "55155               /organization/stupsr-2                stupsr   \n",
       "58388               /organization/tithe-ly              tithe.ly   \n",
       "51761           /organization/simple-tithe              tithe.ly   \n",
       "59451                /organization/trippal               trippal   \n",
       "59452              /organization/trippal-2               trippal   \n",
       "60011              /organization/twistlock             twistlock   \n",
       "60012            /organization/twistlock-2             twistlock   \n",
       "62899                  /organization/wacai                 wacai   \n",
       "62919                 /organization/waicai                 wacai   \n",
       "\n",
       "                           homepage_url  \\\n",
       "281           http://www.3divaz.ch/home   \n",
       "282           http://www.3divaz.ch/home   \n",
       "4168              http://www.ardian.com   \n",
       "4169              http://www.ardian.com   \n",
       "4481          http://www.arvegenix.com/   \n",
       "4482          http://www.arvegenix.com/   \n",
       "13751         http://www.credosemi.com/   \n",
       "13752         http://www.credosemi.com/   \n",
       "21659                               NaN   \n",
       "21660                               NaN   \n",
       "19046            http://geohangout.com/   \n",
       "22648            http://geohangout.com/   \n",
       "23168  http://global-fashion-group.com/   \n",
       "23169  http://global-fashion-group.com/   \n",
       "26411            http://itech.wanye.cc/   \n",
       "26412            http://itech.wanye.cc/   \n",
       "32039               http://www.leoht.co   \n",
       "32038               http://www.leoht.co   \n",
       "40447              http://www.ofixu.com   \n",
       "40448              http://www.ofixu.com   \n",
       "42903         http://www.peopleeasy.com   \n",
       "42904         http://www.peopleeasy.com   \n",
       "44450          http://www.polyglots.net   \n",
       "44451          http://www.polyglots.net   \n",
       "48851                https://roost.com/   \n",
       "48850                https://roost.com/   \n",
       "55154                               NaN   \n",
       "55155                               NaN   \n",
       "58388                  https://tithe.ly   \n",
       "51761                  https://tithe.ly   \n",
       "59451                               NaN   \n",
       "59452                               NaN   \n",
       "60011         https://www.twistlock.io/   \n",
       "60012         https://www.twistlock.io/   \n",
       "62899              http://www.wacai.com   \n",
       "62919              http://www.wacai.com   \n",
       "\n",
       "                                           category_list     status  \\\n",
       "281                                                  NaN     closed   \n",
       "282                                                  NaN  operating   \n",
       "4168                               Investment Management  operating   \n",
       "4169                                         Health Care   acquired   \n",
       "4481              Fuels|Nutrition|Oil|Renewable Energies  operating   \n",
       "4482                   Industrial|Oil|Renewable Energies  operating   \n",
       "13751                                     Semiconductors  operating   \n",
       "13752                                     Semiconductors  operating   \n",
       "21659                                       Social Media  operating   \n",
       "21660                                            Tourism  operating   \n",
       "19046  Location Based Services|Messaging|Social Commerce  operating   \n",
       "22648                                Apps|Content|Mobile  operating   \n",
       "23168                                            Fashion  operating   \n",
       "23169                                 E-Commerce|Fashion  operating   \n",
       "26411                                                NaN     closed   \n",
       "26412                                         Technology  operating   \n",
       "32039                         Fashion|Startups|Wearables  operating   \n",
       "32038                        Fashion|Lifestyle|Wearables  operating   \n",
       "40447                                                NaN  operating   \n",
       "40448  Business Services|Office Space|Professional Se...  operating   \n",
       "42903                                                NaN  operating   \n",
       "42904                                                NaN     closed   \n",
       "44450         Entertainment|Language Learning|Technology     closed   \n",
       "44451                                          Education  operating   \n",
       "48851                                            Storage  operating   \n",
       "48850           Local Based Services|Real Estate|Storage   acquired   \n",
       "55154                                                NaN     closed   \n",
       "55155                                                NaN     closed   \n",
       "58388                            Apps|Computers|Software     closed   \n",
       "51761                                            Finance  operating   \n",
       "59451                                      Online Travel  operating   \n",
       "59452                                                NaN     closed   \n",
       "60011        Enterprises|Information Technology|Services  operating   \n",
       "60012                                           Security  operating   \n",
       "62899                                           Software  operating   \n",
       "62919                                    Finance|FinTech  operating   \n",
       "\n",
       "      country_code state_code         region           city  founded_at  \n",
       "281            NaN        NaN            NaN            NaN  01-07-2014  \n",
       "282            CHE          1    CHE - Other        Wildegg  01-07-2014  \n",
       "4168           FRA         A8          Paris          Paris  01-01-1996  \n",
       "4169           USA         CA    SF Bay Area  Mountain View  01-01-2003  \n",
       "4481           USA         MO      St. Louis       St Louis  01-01-2013  \n",
       "4482           USA         MO      St. Louis       St Louis         NaN  \n",
       "13751          CHN         23       Shanghai       Shanghai  01-01-2008  \n",
       "13752          USA         CA    SF Bay Area       Milpitas  01-01-2008  \n",
       "21659          CHN        NaN            NaN            NaN         NaN  \n",
       "21660          NaN        NaN            NaN            NaN         NaN  \n",
       "19046          CHL         12       Santiago       Santiago         NaN  \n",
       "22648          NaN        NaN            NaN            NaN         NaN  \n",
       "23168          LUX          3      Luxemburg     Luxembourg  01-01-2011  \n",
       "23169          LUX          3    LUX - Other     HÃ©ienhaff  01-01-2011  \n",
       "26411          NaN        NaN            NaN            NaN         NaN  \n",
       "26412          NaN        NaN            NaN            NaN         NaN  \n",
       "32039          NaN        NaN            NaN            NaN  01-01-2014  \n",
       "32038          USA         NY  New York City       New York  01-01-2014  \n",
       "40447          GBR         H9         London         London  01-01-2014  \n",
       "40448          GBR         H9         London         London  01-09-2014  \n",
       "42903          IND          7          Delhi          Delhi  01-05-2015  \n",
       "42904          NaN        NaN            NaN            NaN  01-05-2015  \n",
       "44450          NaN        NaN            NaN            NaN  28-05-2014  \n",
       "44451          JPN         40          Tokyo          Tokyo  28-05-2014  \n",
       "48851          USA         CA    SF Bay Area  San Francisco  01-01-2014  \n",
       "48850          USA         CA    SF Bay Area  San Francisco  01-05-2007  \n",
       "55154          NaN        NaN            NaN            NaN         NaN  \n",
       "55155          NaN        NaN            NaN            NaN  30-11-2015  \n",
       "58388          NaN        NaN            NaN            NaN  01-09-2013  \n",
       "51761          USA         TN      Nashville       Franklin  26-09-2013  \n",
       "59451          CHN         22        Beijing        Beijing  20-10-2012  \n",
       "59452          NaN        NaN            NaN            NaN         NaN  \n",
       "60011          USA         CA    SF Bay Area  San Francisco         NaN  \n",
       "60012          USA         CA    SF Bay Area  San Francisco         NaN  \n",
       "62899          CHN          2       Hangzhou       Hangzhou  01-01-2008  \n",
       "62919          CHN          2       Hangzhou       Hangzhou         NaN  "
      ]
     },
     "execution_count": 17,
     "metadata": {},
     "output_type": "execute_result"
    }
   ],
   "source": [
    "# Non - unique  records  (having same homepage_url and name)\n",
    "companies.loc[companies.duplicated(subset=[\"name\",\"homepage_url\"],keep=False)].sort_values(by=\"name\")"
   ]
  },
  {
   "cell_type": "code",
   "execution_count": 18,
   "metadata": {
    "scrolled": false
   },
   "outputs": [
    {
     "data": {
      "text/html": [
       "<div>\n",
       "<style scoped>\n",
       "    .dataframe tbody tr th:only-of-type {\n",
       "        vertical-align: middle;\n",
       "    }\n",
       "\n",
       "    .dataframe tbody tr th {\n",
       "        vertical-align: top;\n",
       "    }\n",
       "\n",
       "    .dataframe thead th {\n",
       "        text-align: right;\n",
       "    }\n",
       "</style>\n",
       "<table border=\"1\" class=\"dataframe\">\n",
       "  <thead>\n",
       "    <tr style=\"text-align: right;\">\n",
       "      <th></th>\n",
       "      <th>permalink</th>\n",
       "      <th>name</th>\n",
       "      <th>homepage_url</th>\n",
       "      <th>category_list</th>\n",
       "      <th>status</th>\n",
       "      <th>country_code</th>\n",
       "      <th>state_code</th>\n",
       "      <th>region</th>\n",
       "      <th>city</th>\n",
       "      <th>founded_at</th>\n",
       "    </tr>\n",
       "  </thead>\n",
       "  <tbody>\n",
       "    <tr>\n",
       "      <th>4481</th>\n",
       "      <td>/organization/arvegenix</td>\n",
       "      <td>arvegenix</td>\n",
       "      <td>http://www.arvegenix.com/</td>\n",
       "      <td>Fuels|Nutrition|Oil|Renewable Energies</td>\n",
       "      <td>operating</td>\n",
       "      <td>USA</td>\n",
       "      <td>MO</td>\n",
       "      <td>St. Louis</td>\n",
       "      <td>St Louis</td>\n",
       "      <td>01-01-2013</td>\n",
       "    </tr>\n",
       "    <tr>\n",
       "      <th>4482</th>\n",
       "      <td>/organization/arvegenix-2</td>\n",
       "      <td>arvegenix</td>\n",
       "      <td>http://www.arvegenix.com/</td>\n",
       "      <td>Industrial|Oil|Renewable Energies</td>\n",
       "      <td>operating</td>\n",
       "      <td>USA</td>\n",
       "      <td>MO</td>\n",
       "      <td>St. Louis</td>\n",
       "      <td>St Louis</td>\n",
       "      <td>NaN</td>\n",
       "    </tr>\n",
       "    <tr>\n",
       "      <th>23168</th>\n",
       "      <td>/organization/global-fashion-group</td>\n",
       "      <td>global fashion group</td>\n",
       "      <td>http://global-fashion-group.com/</td>\n",
       "      <td>Fashion</td>\n",
       "      <td>operating</td>\n",
       "      <td>LUX</td>\n",
       "      <td>3</td>\n",
       "      <td>Luxemburg</td>\n",
       "      <td>Luxembourg</td>\n",
       "      <td>01-01-2011</td>\n",
       "    </tr>\n",
       "    <tr>\n",
       "      <th>23169</th>\n",
       "      <td>/organization/global-fashion-group-</td>\n",
       "      <td>global fashion group</td>\n",
       "      <td>http://global-fashion-group.com/</td>\n",
       "      <td>E-Commerce|Fashion</td>\n",
       "      <td>operating</td>\n",
       "      <td>LUX</td>\n",
       "      <td>3</td>\n",
       "      <td>LUX - Other</td>\n",
       "      <td>HÃ©ienhaff</td>\n",
       "      <td>01-01-2011</td>\n",
       "    </tr>\n",
       "    <tr>\n",
       "      <th>26411</th>\n",
       "      <td>/organization/i-tech-2</td>\n",
       "      <td>i-tech</td>\n",
       "      <td>http://itech.wanye.cc/</td>\n",
       "      <td>NaN</td>\n",
       "      <td>closed</td>\n",
       "      <td>NaN</td>\n",
       "      <td>NaN</td>\n",
       "      <td>NaN</td>\n",
       "      <td>NaN</td>\n",
       "      <td>NaN</td>\n",
       "    </tr>\n",
       "    <tr>\n",
       "      <th>26412</th>\n",
       "      <td>/organization/i-tech-3</td>\n",
       "      <td>i-tech</td>\n",
       "      <td>http://itech.wanye.cc/</td>\n",
       "      <td>Technology</td>\n",
       "      <td>operating</td>\n",
       "      <td>NaN</td>\n",
       "      <td>NaN</td>\n",
       "      <td>NaN</td>\n",
       "      <td>NaN</td>\n",
       "      <td>NaN</td>\n",
       "    </tr>\n",
       "    <tr>\n",
       "      <th>40447</th>\n",
       "      <td>/organization/ofixu</td>\n",
       "      <td>ofixu</td>\n",
       "      <td>http://www.ofixu.com</td>\n",
       "      <td>NaN</td>\n",
       "      <td>operating</td>\n",
       "      <td>GBR</td>\n",
       "      <td>H9</td>\n",
       "      <td>London</td>\n",
       "      <td>London</td>\n",
       "      <td>01-01-2014</td>\n",
       "    </tr>\n",
       "    <tr>\n",
       "      <th>40448</th>\n",
       "      <td>/organization/ofixu-2</td>\n",
       "      <td>ofixu</td>\n",
       "      <td>http://www.ofixu.com</td>\n",
       "      <td>Business Services|Office Space|Professional Se...</td>\n",
       "      <td>operating</td>\n",
       "      <td>GBR</td>\n",
       "      <td>H9</td>\n",
       "      <td>London</td>\n",
       "      <td>London</td>\n",
       "      <td>01-09-2014</td>\n",
       "    </tr>\n",
       "    <tr>\n",
       "      <th>48850</th>\n",
       "      <td>/organization/roost</td>\n",
       "      <td>roost</td>\n",
       "      <td>https://roost.com/</td>\n",
       "      <td>Local Based Services|Real Estate|Storage</td>\n",
       "      <td>acquired</td>\n",
       "      <td>USA</td>\n",
       "      <td>CA</td>\n",
       "      <td>SF Bay Area</td>\n",
       "      <td>San Francisco</td>\n",
       "      <td>01-05-2007</td>\n",
       "    </tr>\n",
       "    <tr>\n",
       "      <th>48851</th>\n",
       "      <td>/organization/roost-6</td>\n",
       "      <td>roost</td>\n",
       "      <td>https://roost.com/</td>\n",
       "      <td>Storage</td>\n",
       "      <td>operating</td>\n",
       "      <td>USA</td>\n",
       "      <td>CA</td>\n",
       "      <td>SF Bay Area</td>\n",
       "      <td>San Francisco</td>\n",
       "      <td>01-01-2014</td>\n",
       "    </tr>\n",
       "    <tr>\n",
       "      <th>55154</th>\n",
       "      <td>/organization/stupsr</td>\n",
       "      <td>stupsr</td>\n",
       "      <td>NaN</td>\n",
       "      <td>NaN</td>\n",
       "      <td>closed</td>\n",
       "      <td>NaN</td>\n",
       "      <td>NaN</td>\n",
       "      <td>NaN</td>\n",
       "      <td>NaN</td>\n",
       "      <td>NaN</td>\n",
       "    </tr>\n",
       "    <tr>\n",
       "      <th>55155</th>\n",
       "      <td>/organization/stupsr-2</td>\n",
       "      <td>stupsr</td>\n",
       "      <td>NaN</td>\n",
       "      <td>NaN</td>\n",
       "      <td>closed</td>\n",
       "      <td>NaN</td>\n",
       "      <td>NaN</td>\n",
       "      <td>NaN</td>\n",
       "      <td>NaN</td>\n",
       "      <td>30-11-2015</td>\n",
       "    </tr>\n",
       "    <tr>\n",
       "      <th>60011</th>\n",
       "      <td>/organization/twistlock</td>\n",
       "      <td>twistlock</td>\n",
       "      <td>https://www.twistlock.io/</td>\n",
       "      <td>Enterprises|Information Technology|Services</td>\n",
       "      <td>operating</td>\n",
       "      <td>USA</td>\n",
       "      <td>CA</td>\n",
       "      <td>SF Bay Area</td>\n",
       "      <td>San Francisco</td>\n",
       "      <td>NaN</td>\n",
       "    </tr>\n",
       "    <tr>\n",
       "      <th>60012</th>\n",
       "      <td>/organization/twistlock-2</td>\n",
       "      <td>twistlock</td>\n",
       "      <td>https://www.twistlock.io/</td>\n",
       "      <td>Security</td>\n",
       "      <td>operating</td>\n",
       "      <td>USA</td>\n",
       "      <td>CA</td>\n",
       "      <td>SF Bay Area</td>\n",
       "      <td>San Francisco</td>\n",
       "      <td>NaN</td>\n",
       "    </tr>\n",
       "    <tr>\n",
       "      <th>62899</th>\n",
       "      <td>/organization/wacai</td>\n",
       "      <td>wacai</td>\n",
       "      <td>http://www.wacai.com</td>\n",
       "      <td>Software</td>\n",
       "      <td>operating</td>\n",
       "      <td>CHN</td>\n",
       "      <td>2</td>\n",
       "      <td>Hangzhou</td>\n",
       "      <td>Hangzhou</td>\n",
       "      <td>01-01-2008</td>\n",
       "    </tr>\n",
       "    <tr>\n",
       "      <th>62919</th>\n",
       "      <td>/organization/waicai</td>\n",
       "      <td>wacai</td>\n",
       "      <td>http://www.wacai.com</td>\n",
       "      <td>Finance|FinTech</td>\n",
       "      <td>operating</td>\n",
       "      <td>CHN</td>\n",
       "      <td>2</td>\n",
       "      <td>Hangzhou</td>\n",
       "      <td>Hangzhou</td>\n",
       "      <td>NaN</td>\n",
       "    </tr>\n",
       "  </tbody>\n",
       "</table>\n",
       "</div>"
      ],
      "text/plain": [
       "                                 permalink                  name  \\\n",
       "4481               /organization/arvegenix             arvegenix   \n",
       "4482             /organization/arvegenix-2             arvegenix   \n",
       "23168   /organization/global-fashion-group  global fashion group   \n",
       "23169  /organization/global-fashion-group-  global fashion group   \n",
       "26411               /organization/i-tech-2                i-tech   \n",
       "26412               /organization/i-tech-3                i-tech   \n",
       "40447                  /organization/ofixu                 ofixu   \n",
       "40448                /organization/ofixu-2                 ofixu   \n",
       "48850                  /organization/roost                 roost   \n",
       "48851                /organization/roost-6                 roost   \n",
       "55154                 /organization/stupsr                stupsr   \n",
       "55155               /organization/stupsr-2                stupsr   \n",
       "60011              /organization/twistlock             twistlock   \n",
       "60012            /organization/twistlock-2             twistlock   \n",
       "62899                  /organization/wacai                 wacai   \n",
       "62919                 /organization/waicai                 wacai   \n",
       "\n",
       "                           homepage_url  \\\n",
       "4481          http://www.arvegenix.com/   \n",
       "4482          http://www.arvegenix.com/   \n",
       "23168  http://global-fashion-group.com/   \n",
       "23169  http://global-fashion-group.com/   \n",
       "26411            http://itech.wanye.cc/   \n",
       "26412            http://itech.wanye.cc/   \n",
       "40447              http://www.ofixu.com   \n",
       "40448              http://www.ofixu.com   \n",
       "48850                https://roost.com/   \n",
       "48851                https://roost.com/   \n",
       "55154                               NaN   \n",
       "55155                               NaN   \n",
       "60011         https://www.twistlock.io/   \n",
       "60012         https://www.twistlock.io/   \n",
       "62899              http://www.wacai.com   \n",
       "62919              http://www.wacai.com   \n",
       "\n",
       "                                           category_list     status  \\\n",
       "4481              Fuels|Nutrition|Oil|Renewable Energies  operating   \n",
       "4482                   Industrial|Oil|Renewable Energies  operating   \n",
       "23168                                            Fashion  operating   \n",
       "23169                                 E-Commerce|Fashion  operating   \n",
       "26411                                                NaN     closed   \n",
       "26412                                         Technology  operating   \n",
       "40447                                                NaN  operating   \n",
       "40448  Business Services|Office Space|Professional Se...  operating   \n",
       "48850           Local Based Services|Real Estate|Storage   acquired   \n",
       "48851                                            Storage  operating   \n",
       "55154                                                NaN     closed   \n",
       "55155                                                NaN     closed   \n",
       "60011        Enterprises|Information Technology|Services  operating   \n",
       "60012                                           Security  operating   \n",
       "62899                                           Software  operating   \n",
       "62919                                    Finance|FinTech  operating   \n",
       "\n",
       "      country_code state_code       region           city  founded_at  \n",
       "4481           USA         MO    St. Louis       St Louis  01-01-2013  \n",
       "4482           USA         MO    St. Louis       St Louis         NaN  \n",
       "23168          LUX          3    Luxemburg     Luxembourg  01-01-2011  \n",
       "23169          LUX          3  LUX - Other     HÃ©ienhaff  01-01-2011  \n",
       "26411          NaN        NaN          NaN            NaN         NaN  \n",
       "26412          NaN        NaN          NaN            NaN         NaN  \n",
       "40447          GBR         H9       London         London  01-01-2014  \n",
       "40448          GBR         H9       London         London  01-09-2014  \n",
       "48850          USA         CA  SF Bay Area  San Francisco  01-05-2007  \n",
       "48851          USA         CA  SF Bay Area  San Francisco  01-01-2014  \n",
       "55154          NaN        NaN          NaN            NaN         NaN  \n",
       "55155          NaN        NaN          NaN            NaN  30-11-2015  \n",
       "60011          USA         CA  SF Bay Area  San Francisco         NaN  \n",
       "60012          USA         CA  SF Bay Area  San Francisco         NaN  \n",
       "62899          CHN          2     Hangzhou       Hangzhou  01-01-2008  \n",
       "62919          CHN          2     Hangzhou       Hangzhou         NaN  "
      ]
     },
     "execution_count": 18,
     "metadata": {},
     "output_type": "execute_result"
    }
   ],
   "source": [
    "# Non - unique  records  (having same homepage_url, name and country code)\n",
    "companies.loc[companies.duplicated(subset=[\"name\",\"homepage_url\",\"country_code\"],keep=False)].sort_values(by=\"name\")"
   ]
  },
  {
   "cell_type": "code",
   "execution_count": 19,
   "metadata": {},
   "outputs": [
    {
     "data": {
      "text/plain": [
       "(66350, 10)"
      ]
     },
     "execution_count": 19,
     "metadata": {},
     "output_type": "execute_result"
    }
   ],
   "source": [
    "#To get the Unique company count count\n",
    "companies.drop_duplicates(subset=[\"name\",\"homepage_url\"]).shape"
   ]
  },
  {
   "cell_type": "markdown",
   "metadata": {},
   "source": [
    "#### Takeaway: \n",
    "1. For many companies, either homepage_url is wrong or null.\n",
    "2. <b> Duplicate companies - </b>   The companies having same name and same or null homepage_url and same or null country code.\n",
    "3. We will delete those records which has same name, homepage_url and country_code but different category_list. As this data is ambigioius.\n",
    "4. There are 66350 unique companies."
   ]
  },
  {
   "cell_type": "markdown",
   "metadata": {},
   "source": [
    "## Data Understanding of round2"
   ]
  },
  {
   "cell_type": "code",
   "execution_count": 20,
   "metadata": {},
   "outputs": [
    {
     "name": "stdout",
     "output_type": "stream",
     "text": [
      "<class 'pandas.core.frame.DataFrame'>\n",
      "RangeIndex: 114949 entries, 0 to 114948\n",
      "Data columns (total 6 columns):\n",
      " #   Column                   Non-Null Count   Dtype  \n",
      "---  ------                   --------------   -----  \n",
      " 0   company_permalink        114949 non-null  object \n",
      " 1   funding_round_permalink  114949 non-null  object \n",
      " 2   funding_round_type       114949 non-null  object \n",
      " 3   funding_round_code       31140 non-null   object \n",
      " 4   funded_at                114949 non-null  object \n",
      " 5   raised_amount_usd        94959 non-null   float64\n",
      "dtypes: float64(1), object(5)\n",
      "memory usage: 5.3+ MB\n"
     ]
    }
   ],
   "source": [
    "rounds2.info()"
   ]
  },
  {
   "cell_type": "code",
   "execution_count": 21,
   "metadata": {},
   "outputs": [
    {
     "data": {
      "text/plain": [
       "company_permalink           0.000000\n",
       "funding_round_permalink     0.000000\n",
       "funding_round_type          0.000000\n",
       "funding_round_code         72.909725\n",
       "funded_at                   0.000000\n",
       "raised_amount_usd          17.390321\n",
       "dtype: float64"
      ]
     },
     "execution_count": 21,
     "metadata": {},
     "output_type": "execute_result"
    }
   ],
   "source": [
    "#Understanding null values\n",
    "100*(rounds2.isnull().sum()/len(rounds2))"
   ]
  },
  {
   "cell_type": "code",
   "execution_count": 22,
   "metadata": {},
   "outputs": [
    {
     "data": {
      "text/plain": [
       "venture                  55494\n",
       "seed                     30524\n",
       "debt_financing            6895\n",
       "angel                     6094\n",
       "undisclosed               4897\n",
       "equity_crowdfunding       3257\n",
       "private_equity            2285\n",
       "grant                     2200\n",
       "convertible_note          1817\n",
       "post_ipo_equity            638\n",
       "product_crowdfunding       410\n",
       "non_equity_assistance      191\n",
       "post_ipo_debt              152\n",
       "secondary_market            95\n",
       "Name: funding_round_type, dtype: int64"
      ]
     },
     "execution_count": 22,
     "metadata": {},
     "output_type": "execute_result"
    }
   ],
   "source": [
    "rounds2.funding_round_type.value_counts()"
   ]
  },
  {
   "cell_type": "code",
   "execution_count": 23,
   "metadata": {},
   "outputs": [],
   "source": [
    "#Removing extra spaces and makeing correct case of company_permalink.\n",
    "rounds2.company_permalink = rounds2.company_permalink.str.lower().str.strip()"
   ]
  },
  {
   "cell_type": "code",
   "execution_count": 24,
   "metadata": {},
   "outputs": [],
   "source": [
    "#Removing extra spaces and makeing correct case of funding_round_permalink.\n",
    "rounds2.funding_round_permalink = rounds2.funding_round_permalink.str.lower().str.strip()"
   ]
  },
  {
   "cell_type": "code",
   "execution_count": 25,
   "metadata": {},
   "outputs": [
    {
     "data": {
      "text/html": [
       "<div>\n",
       "<style scoped>\n",
       "    .dataframe tbody tr th:only-of-type {\n",
       "        vertical-align: middle;\n",
       "    }\n",
       "\n",
       "    .dataframe tbody tr th {\n",
       "        vertical-align: top;\n",
       "    }\n",
       "\n",
       "    .dataframe thead th {\n",
       "        text-align: right;\n",
       "    }\n",
       "</style>\n",
       "<table border=\"1\" class=\"dataframe\">\n",
       "  <thead>\n",
       "    <tr style=\"text-align: right;\">\n",
       "      <th></th>\n",
       "      <th>company_permalink</th>\n",
       "      <th>funding_round_permalink</th>\n",
       "      <th>funding_round_type</th>\n",
       "      <th>funding_round_code</th>\n",
       "      <th>funded_at</th>\n",
       "      <th>raised_amount_usd</th>\n",
       "    </tr>\n",
       "  </thead>\n",
       "  <tbody>\n",
       "    <tr>\n",
       "      <th>0</th>\n",
       "      <td>/organization/-fame</td>\n",
       "      <td>/funding-round/9a01d05418af9f794eebff7ace91f638</td>\n",
       "      <td>venture</td>\n",
       "      <td>B</td>\n",
       "      <td>05-01-2015</td>\n",
       "      <td>10000000.0</td>\n",
       "    </tr>\n",
       "    <tr>\n",
       "      <th>1</th>\n",
       "      <td>/organization/-qounter</td>\n",
       "      <td>/funding-round/22dacff496eb7acb2b901dec1dfe5633</td>\n",
       "      <td>venture</td>\n",
       "      <td>A</td>\n",
       "      <td>14-10-2014</td>\n",
       "      <td>NaN</td>\n",
       "    </tr>\n",
       "    <tr>\n",
       "      <th>2</th>\n",
       "      <td>/organization/-qounter</td>\n",
       "      <td>/funding-round/b44fbb94153f6cdef13083530bb48030</td>\n",
       "      <td>seed</td>\n",
       "      <td>NaN</td>\n",
       "      <td>01-03-2014</td>\n",
       "      <td>700000.0</td>\n",
       "    </tr>\n",
       "    <tr>\n",
       "      <th>3</th>\n",
       "      <td>/organization/-the-one-of-them-inc-</td>\n",
       "      <td>/funding-round/650b8f704416801069bb178a1418776b</td>\n",
       "      <td>venture</td>\n",
       "      <td>B</td>\n",
       "      <td>30-01-2014</td>\n",
       "      <td>3406878.0</td>\n",
       "    </tr>\n",
       "    <tr>\n",
       "      <th>4</th>\n",
       "      <td>/organization/0-6-com</td>\n",
       "      <td>/funding-round/5727accaeaa57461bd22a9bdd945382d</td>\n",
       "      <td>venture</td>\n",
       "      <td>A</td>\n",
       "      <td>19-03-2008</td>\n",
       "      <td>2000000.0</td>\n",
       "    </tr>\n",
       "  </tbody>\n",
       "</table>\n",
       "</div>"
      ],
      "text/plain": [
       "                     company_permalink  \\\n",
       "0                  /organization/-fame   \n",
       "1               /organization/-qounter   \n",
       "2               /organization/-qounter   \n",
       "3  /organization/-the-one-of-them-inc-   \n",
       "4                /organization/0-6-com   \n",
       "\n",
       "                           funding_round_permalink funding_round_type  \\\n",
       "0  /funding-round/9a01d05418af9f794eebff7ace91f638            venture   \n",
       "1  /funding-round/22dacff496eb7acb2b901dec1dfe5633            venture   \n",
       "2  /funding-round/b44fbb94153f6cdef13083530bb48030               seed   \n",
       "3  /funding-round/650b8f704416801069bb178a1418776b            venture   \n",
       "4  /funding-round/5727accaeaa57461bd22a9bdd945382d            venture   \n",
       "\n",
       "  funding_round_code   funded_at  raised_amount_usd  \n",
       "0                  B  05-01-2015         10000000.0  \n",
       "1                  A  14-10-2014                NaN  \n",
       "2                NaN  01-03-2014           700000.0  \n",
       "3                  B  30-01-2014          3406878.0  \n",
       "4                  A  19-03-2008          2000000.0  "
      ]
     },
     "execution_count": 25,
     "metadata": {},
     "output_type": "execute_result"
    }
   ],
   "source": [
    "rounds2.head()"
   ]
  },
  {
   "cell_type": "code",
   "execution_count": 26,
   "metadata": {
    "scrolled": true
   },
   "outputs": [
    {
     "data": {
      "text/html": [
       "<div>\n",
       "<style scoped>\n",
       "    .dataframe tbody tr th:only-of-type {\n",
       "        vertical-align: middle;\n",
       "    }\n",
       "\n",
       "    .dataframe tbody tr th {\n",
       "        vertical-align: top;\n",
       "    }\n",
       "\n",
       "    .dataframe thead th {\n",
       "        text-align: right;\n",
       "    }\n",
       "</style>\n",
       "<table border=\"1\" class=\"dataframe\">\n",
       "  <thead>\n",
       "    <tr style=\"text-align: right;\">\n",
       "      <th></th>\n",
       "      <th>company_permalink</th>\n",
       "      <th>funding_round_permalink</th>\n",
       "      <th>funding_round_type</th>\n",
       "      <th>funding_round_code</th>\n",
       "      <th>funded_at</th>\n",
       "      <th>raised_amount_usd</th>\n",
       "    </tr>\n",
       "  </thead>\n",
       "  <tbody>\n",
       "    <tr>\n",
       "      <th>count</th>\n",
       "      <td>114949</td>\n",
       "      <td>114949</td>\n",
       "      <td>114949</td>\n",
       "      <td>31140</td>\n",
       "      <td>114949</td>\n",
       "      <td>9.495900e+04</td>\n",
       "    </tr>\n",
       "    <tr>\n",
       "      <th>unique</th>\n",
       "      <td>66370</td>\n",
       "      <td>114949</td>\n",
       "      <td>14</td>\n",
       "      <td>8</td>\n",
       "      <td>5033</td>\n",
       "      <td>NaN</td>\n",
       "    </tr>\n",
       "    <tr>\n",
       "      <th>top</th>\n",
       "      <td>/organization/solarflare</td>\n",
       "      <td>/funding-round/e198e1213ce19f1fd70153f1eccb79da</td>\n",
       "      <td>venture</td>\n",
       "      <td>A</td>\n",
       "      <td>01-01-2014</td>\n",
       "      <td>NaN</td>\n",
       "    </tr>\n",
       "    <tr>\n",
       "      <th>freq</th>\n",
       "      <td>19</td>\n",
       "      <td>1</td>\n",
       "      <td>55494</td>\n",
       "      <td>14747</td>\n",
       "      <td>779</td>\n",
       "      <td>NaN</td>\n",
       "    </tr>\n",
       "    <tr>\n",
       "      <th>mean</th>\n",
       "      <td>NaN</td>\n",
       "      <td>NaN</td>\n",
       "      <td>NaN</td>\n",
       "      <td>NaN</td>\n",
       "      <td>NaN</td>\n",
       "      <td>1.042687e+07</td>\n",
       "    </tr>\n",
       "    <tr>\n",
       "      <th>std</th>\n",
       "      <td>NaN</td>\n",
       "      <td>NaN</td>\n",
       "      <td>NaN</td>\n",
       "      <td>NaN</td>\n",
       "      <td>NaN</td>\n",
       "      <td>1.148212e+08</td>\n",
       "    </tr>\n",
       "    <tr>\n",
       "      <th>min</th>\n",
       "      <td>NaN</td>\n",
       "      <td>NaN</td>\n",
       "      <td>NaN</td>\n",
       "      <td>NaN</td>\n",
       "      <td>NaN</td>\n",
       "      <td>0.000000e+00</td>\n",
       "    </tr>\n",
       "    <tr>\n",
       "      <th>25%</th>\n",
       "      <td>NaN</td>\n",
       "      <td>NaN</td>\n",
       "      <td>NaN</td>\n",
       "      <td>NaN</td>\n",
       "      <td>NaN</td>\n",
       "      <td>3.225000e+05</td>\n",
       "    </tr>\n",
       "    <tr>\n",
       "      <th>50%</th>\n",
       "      <td>NaN</td>\n",
       "      <td>NaN</td>\n",
       "      <td>NaN</td>\n",
       "      <td>NaN</td>\n",
       "      <td>NaN</td>\n",
       "      <td>1.680511e+06</td>\n",
       "    </tr>\n",
       "    <tr>\n",
       "      <th>75%</th>\n",
       "      <td>NaN</td>\n",
       "      <td>NaN</td>\n",
       "      <td>NaN</td>\n",
       "      <td>NaN</td>\n",
       "      <td>NaN</td>\n",
       "      <td>7.000000e+06</td>\n",
       "    </tr>\n",
       "    <tr>\n",
       "      <th>max</th>\n",
       "      <td>NaN</td>\n",
       "      <td>NaN</td>\n",
       "      <td>NaN</td>\n",
       "      <td>NaN</td>\n",
       "      <td>NaN</td>\n",
       "      <td>2.127194e+10</td>\n",
       "    </tr>\n",
       "  </tbody>\n",
       "</table>\n",
       "</div>"
      ],
      "text/plain": [
       "               company_permalink  \\\n",
       "count                     114949   \n",
       "unique                     66370   \n",
       "top     /organization/solarflare   \n",
       "freq                          19   \n",
       "mean                         NaN   \n",
       "std                          NaN   \n",
       "min                          NaN   \n",
       "25%                          NaN   \n",
       "50%                          NaN   \n",
       "75%                          NaN   \n",
       "max                          NaN   \n",
       "\n",
       "                                funding_round_permalink funding_round_type  \\\n",
       "count                                            114949             114949   \n",
       "unique                                           114949                 14   \n",
       "top     /funding-round/e198e1213ce19f1fd70153f1eccb79da            venture   \n",
       "freq                                                  1              55494   \n",
       "mean                                                NaN                NaN   \n",
       "std                                                 NaN                NaN   \n",
       "min                                                 NaN                NaN   \n",
       "25%                                                 NaN                NaN   \n",
       "50%                                                 NaN                NaN   \n",
       "75%                                                 NaN                NaN   \n",
       "max                                                 NaN                NaN   \n",
       "\n",
       "       funding_round_code   funded_at  raised_amount_usd  \n",
       "count               31140      114949       9.495900e+04  \n",
       "unique                  8        5033                NaN  \n",
       "top                     A  01-01-2014                NaN  \n",
       "freq                14747         779                NaN  \n",
       "mean                  NaN         NaN       1.042687e+07  \n",
       "std                   NaN         NaN       1.148212e+08  \n",
       "min                   NaN         NaN       0.000000e+00  \n",
       "25%                   NaN         NaN       3.225000e+05  \n",
       "50%                   NaN         NaN       1.680511e+06  \n",
       "75%                   NaN         NaN       7.000000e+06  \n",
       "max                   NaN         NaN       2.127194e+10  "
      ]
     },
     "execution_count": 26,
     "metadata": {},
     "output_type": "execute_result"
    }
   ],
   "source": [
    "rounds2.describe(include=\"all\")"
   ]
  },
  {
   "cell_type": "markdown",
   "metadata": {},
   "source": [
    "### Takeaways:\n",
    "1. permalink - It represents the companies.<b> We need to further analyze these columns to find unique companies. </b>\n",
    "1. funding_round_permalink - It represents unique funding round.\n",
    "2.funding_round_type -  Type of the funding.\n",
    "3. funding_round_code - This coulumn has 72 % null va;ues. We can remove this column.\n",
    "4. funded_at  - When the funding happened.\n",
    "5. raised_amount_usd - How much amount is raised. This is a target column. We will delete the records which has null values."
   ]
  },
  {
   "cell_type": "code",
   "execution_count": 27,
   "metadata": {},
   "outputs": [
    {
     "data": {
      "text/plain": [
       "(66370, 6)"
      ]
     },
     "execution_count": 27,
     "metadata": {},
     "output_type": "execute_result"
    }
   ],
   "source": [
    "#To get the Unique company count count\n",
    "rounds2.drop_duplicates(subset=[\"company_permalink\"]).shape"
   ]
  },
  {
   "cell_type": "code",
   "execution_count": 28,
   "metadata": {},
   "outputs": [
    {
     "data": {
      "text/html": [
       "<div>\n",
       "<style scoped>\n",
       "    .dataframe tbody tr th:only-of-type {\n",
       "        vertical-align: middle;\n",
       "    }\n",
       "\n",
       "    .dataframe tbody tr th {\n",
       "        vertical-align: top;\n",
       "    }\n",
       "\n",
       "    .dataframe thead th {\n",
       "        text-align: right;\n",
       "    }\n",
       "</style>\n",
       "<table border=\"1\" class=\"dataframe\">\n",
       "  <thead>\n",
       "    <tr style=\"text-align: right;\">\n",
       "      <th></th>\n",
       "      <th>company_permalink</th>\n",
       "      <th>funding_round_permalink</th>\n",
       "      <th>funding_round_type</th>\n",
       "      <th>funding_round_code</th>\n",
       "      <th>funded_at</th>\n",
       "      <th>raised_amount_usd</th>\n",
       "    </tr>\n",
       "  </thead>\n",
       "  <tbody>\n",
       "    <tr>\n",
       "      <th>1</th>\n",
       "      <td>/organization/-qounter</td>\n",
       "      <td>/funding-round/22dacff496eb7acb2b901dec1dfe5633</td>\n",
       "      <td>venture</td>\n",
       "      <td>A</td>\n",
       "      <td>14-10-2014</td>\n",
       "      <td>NaN</td>\n",
       "    </tr>\n",
       "    <tr>\n",
       "      <th>2</th>\n",
       "      <td>/organization/-qounter</td>\n",
       "      <td>/funding-round/b44fbb94153f6cdef13083530bb48030</td>\n",
       "      <td>seed</td>\n",
       "      <td>NaN</td>\n",
       "      <td>01-03-2014</td>\n",
       "      <td>700000.0</td>\n",
       "    </tr>\n",
       "    <tr>\n",
       "      <th>7</th>\n",
       "      <td>/organization/0ndine-biomedical-inc</td>\n",
       "      <td>/funding-round/2b9d3ac293d5cdccbecff5c8cb0f327d</td>\n",
       "      <td>seed</td>\n",
       "      <td>NaN</td>\n",
       "      <td>11-09-2009</td>\n",
       "      <td>43360.0</td>\n",
       "    </tr>\n",
       "    <tr>\n",
       "      <th>8</th>\n",
       "      <td>/organization/0ndine-biomedical-inc</td>\n",
       "      <td>/funding-round/954b9499724b946ad8c396a57a5f3b72</td>\n",
       "      <td>venture</td>\n",
       "      <td>NaN</td>\n",
       "      <td>21-12-2009</td>\n",
       "      <td>719491.0</td>\n",
       "    </tr>\n",
       "    <tr>\n",
       "      <th>9</th>\n",
       "      <td>/organization/0xdata</td>\n",
       "      <td>/funding-round/383a9bd2c04f7038bb543ccef5ba3eae</td>\n",
       "      <td>seed</td>\n",
       "      <td>NaN</td>\n",
       "      <td>22-05-2013</td>\n",
       "      <td>3000000.0</td>\n",
       "    </tr>\n",
       "    <tr>\n",
       "      <th>...</th>\n",
       "      <td>...</td>\n",
       "      <td>...</td>\n",
       "      <td>...</td>\n",
       "      <td>...</td>\n",
       "      <td>...</td>\n",
       "      <td>...</td>\n",
       "    </tr>\n",
       "    <tr>\n",
       "      <th>114938</th>\n",
       "      <td>/organization/zzish</td>\n",
       "      <td>/funding-round/34b560f672bebeb339a5efa3b27eae5d</td>\n",
       "      <td>grant</td>\n",
       "      <td>NaN</td>\n",
       "      <td>25-02-2015</td>\n",
       "      <td>400000.0</td>\n",
       "    </tr>\n",
       "    <tr>\n",
       "      <th>114943</th>\n",
       "      <td>/organization/zzzzapp-com</td>\n",
       "      <td>/funding-round/6ba41360588bc6e3f77e9b50a0ebfafa</td>\n",
       "      <td>seed</td>\n",
       "      <td>NaN</td>\n",
       "      <td>01-08-2013</td>\n",
       "      <td>33149.0</td>\n",
       "    </tr>\n",
       "    <tr>\n",
       "      <th>114944</th>\n",
       "      <td>/organization/zzzzapp-com</td>\n",
       "      <td>/funding-round/8f6d25b8ee4199e586484d817bceda05</td>\n",
       "      <td>convertible_note</td>\n",
       "      <td>NaN</td>\n",
       "      <td>01-03-2014</td>\n",
       "      <td>41313.0</td>\n",
       "    </tr>\n",
       "    <tr>\n",
       "      <th>114942</th>\n",
       "      <td>/organization/zzzzapp-com</td>\n",
       "      <td>/funding-round/22ef2fafb4d20ac3aa4b86143dbf6c8e</td>\n",
       "      <td>seed</td>\n",
       "      <td>NaN</td>\n",
       "      <td>01-11-2011</td>\n",
       "      <td>7000.0</td>\n",
       "    </tr>\n",
       "    <tr>\n",
       "      <th>114945</th>\n",
       "      <td>/organization/zzzzapp-com</td>\n",
       "      <td>/funding-round/ff1aa06ed5da186c84f101549035d4ae</td>\n",
       "      <td>seed</td>\n",
       "      <td>NaN</td>\n",
       "      <td>01-05-2013</td>\n",
       "      <td>32842.0</td>\n",
       "    </tr>\n",
       "  </tbody>\n",
       "</table>\n",
       "<p>72456 rows × 6 columns</p>\n",
       "</div>"
      ],
      "text/plain": [
       "                          company_permalink  \\\n",
       "1                    /organization/-qounter   \n",
       "2                    /organization/-qounter   \n",
       "7       /organization/0ndine-biomedical-inc   \n",
       "8       /organization/0ndine-biomedical-inc   \n",
       "9                      /organization/0xdata   \n",
       "...                                     ...   \n",
       "114938                  /organization/zzish   \n",
       "114943            /organization/zzzzapp-com   \n",
       "114944            /organization/zzzzapp-com   \n",
       "114942            /organization/zzzzapp-com   \n",
       "114945            /organization/zzzzapp-com   \n",
       "\n",
       "                                funding_round_permalink funding_round_type  \\\n",
       "1       /funding-round/22dacff496eb7acb2b901dec1dfe5633            venture   \n",
       "2       /funding-round/b44fbb94153f6cdef13083530bb48030               seed   \n",
       "7       /funding-round/2b9d3ac293d5cdccbecff5c8cb0f327d               seed   \n",
       "8       /funding-round/954b9499724b946ad8c396a57a5f3b72            venture   \n",
       "9       /funding-round/383a9bd2c04f7038bb543ccef5ba3eae               seed   \n",
       "...                                                 ...                ...   \n",
       "114938  /funding-round/34b560f672bebeb339a5efa3b27eae5d              grant   \n",
       "114943  /funding-round/6ba41360588bc6e3f77e9b50a0ebfafa               seed   \n",
       "114944  /funding-round/8f6d25b8ee4199e586484d817bceda05   convertible_note   \n",
       "114942  /funding-round/22ef2fafb4d20ac3aa4b86143dbf6c8e               seed   \n",
       "114945  /funding-round/ff1aa06ed5da186c84f101549035d4ae               seed   \n",
       "\n",
       "       funding_round_code   funded_at  raised_amount_usd  \n",
       "1                       A  14-10-2014                NaN  \n",
       "2                     NaN  01-03-2014           700000.0  \n",
       "7                     NaN  11-09-2009            43360.0  \n",
       "8                     NaN  21-12-2009           719491.0  \n",
       "9                     NaN  22-05-2013          3000000.0  \n",
       "...                   ...         ...                ...  \n",
       "114938                NaN  25-02-2015           400000.0  \n",
       "114943                NaN  01-08-2013            33149.0  \n",
       "114944                NaN  01-03-2014            41313.0  \n",
       "114942                NaN  01-11-2011             7000.0  \n",
       "114945                NaN  01-05-2013            32842.0  \n",
       "\n",
       "[72456 rows x 6 columns]"
      ]
     },
     "execution_count": 28,
     "metadata": {},
     "output_type": "execute_result"
    }
   ],
   "source": [
    "# Non - unique companies\n",
    "rounds2.loc[rounds2.duplicated(subset=[\"company_permalink\"],keep=False)].sort_values(by=\"company_permalink\")"
   ]
  },
  {
   "cell_type": "code",
   "execution_count": 29,
   "metadata": {},
   "outputs": [
    {
     "data": {
      "text/html": [
       "<div>\n",
       "<style scoped>\n",
       "    .dataframe tbody tr th:only-of-type {\n",
       "        vertical-align: middle;\n",
       "    }\n",
       "\n",
       "    .dataframe tbody tr th {\n",
       "        vertical-align: top;\n",
       "    }\n",
       "\n",
       "    .dataframe thead th {\n",
       "        text-align: right;\n",
       "    }\n",
       "</style>\n",
       "<table border=\"1\" class=\"dataframe\">\n",
       "  <thead>\n",
       "    <tr style=\"text-align: right;\">\n",
       "      <th></th>\n",
       "      <th>company_permalink</th>\n",
       "      <th>funding_round_permalink</th>\n",
       "      <th>funding_round_type</th>\n",
       "      <th>funding_round_code</th>\n",
       "      <th>funded_at</th>\n",
       "      <th>raised_amount_usd</th>\n",
       "    </tr>\n",
       "  </thead>\n",
       "  <tbody>\n",
       "    <tr>\n",
       "      <th>29597</th>\n",
       "      <td>/organization/e-cãbica</td>\n",
       "      <td>/funding-round/8491f74869e4fe8ba9c378394f8fbdea</td>\n",
       "      <td>seed</td>\n",
       "      <td>NaN</td>\n",
       "      <td>01-02-2015</td>\n",
       "      <td>NaN</td>\n",
       "    </tr>\n",
       "    <tr>\n",
       "      <th>31863</th>\n",
       "      <td>/organization/energystone-games-çµç³æ¸¸æ</td>\n",
       "      <td>/funding-round/b89553f3d2279c5683ae93f45a21cfe0</td>\n",
       "      <td>seed</td>\n",
       "      <td>NaN</td>\n",
       "      <td>09-08-2014</td>\n",
       "      <td>NaN</td>\n",
       "    </tr>\n",
       "    <tr>\n",
       "      <th>45176</th>\n",
       "      <td>/organization/huizuche-com-æ ç§ÿè½¦</td>\n",
       "      <td>/funding-round/8f8a32dbeeb0f831a78702f83af78a36</td>\n",
       "      <td>seed</td>\n",
       "      <td>NaN</td>\n",
       "      <td>18-09-2014</td>\n",
       "      <td>NaN</td>\n",
       "    </tr>\n",
       "    <tr>\n",
       "      <th>58473</th>\n",
       "      <td>/organization/magnet-tech-ç£ç³ç§æ</td>\n",
       "      <td>/funding-round/8fc91fbb32bc95e97f151dd0cb4166bf</td>\n",
       "      <td>seed</td>\n",
       "      <td>NaN</td>\n",
       "      <td>16-08-2014</td>\n",
       "      <td>1625585.0</td>\n",
       "    </tr>\n",
       "    <tr>\n",
       "      <th>101036</th>\n",
       "      <td>/organization/tipcat-interactive-æ²èÿä¿¡æ¯ç...</td>\n",
       "      <td>/funding-round/41005928a1439cb2d706a43cb661f60f</td>\n",
       "      <td>seed</td>\n",
       "      <td>NaN</td>\n",
       "      <td>06-09-2010</td>\n",
       "      <td>NaN</td>\n",
       "    </tr>\n",
       "    <tr>\n",
       "      <th>109969</th>\n",
       "      <td>/organization/weiche-tech-åè½¦ç§æ</td>\n",
       "      <td>/funding-round/f74e457f838b81fa0b29649740f186d8</td>\n",
       "      <td>venture</td>\n",
       "      <td>A</td>\n",
       "      <td>06-09-2015</td>\n",
       "      <td>NaN</td>\n",
       "    </tr>\n",
       "    <tr>\n",
       "      <th>113839</th>\n",
       "      <td>/organization/zengame-ç¦",
       "æ¸¸ç§æ</td>\n",
       "      <td>/funding-round/6ba28fb4f3eadf5a9c6c81bc5dde6cdf</td>\n",
       "      <td>seed</td>\n",
       "      <td>NaN</td>\n",
       "      <td>17-07-2010</td>\n",
       "      <td>NaN</td>\n",
       "    </tr>\n",
       "  </tbody>\n",
       "</table>\n",
       "</div>"
      ],
      "text/plain": [
       "                                        company_permalink  \\\n",
       "29597                             /organization/e-cãbica   \n",
       "31863        /organization/energystone-games-çµç³æ¸¸æ   \n",
       "45176                /organization/huizuche-com-æ ç§ÿè½¦   \n",
       "58473              /organization/magnet-tech-ç£ç³ç§æ   \n",
       "101036  /organization/tipcat-interactive-æ²èÿä¿¡æ¯ç...   \n",
       "109969             /organization/weiche-tech-åè½¦ç§æ   \n",
       "113839                 /organization/zengame-ç¦\n",
       "æ¸¸ç§æ   \n",
       "\n",
       "                                funding_round_permalink funding_round_type  \\\n",
       "29597   /funding-round/8491f74869e4fe8ba9c378394f8fbdea               seed   \n",
       "31863   /funding-round/b89553f3d2279c5683ae93f45a21cfe0               seed   \n",
       "45176   /funding-round/8f8a32dbeeb0f831a78702f83af78a36               seed   \n",
       "58473   /funding-round/8fc91fbb32bc95e97f151dd0cb4166bf               seed   \n",
       "101036  /funding-round/41005928a1439cb2d706a43cb661f60f               seed   \n",
       "109969  /funding-round/f74e457f838b81fa0b29649740f186d8            venture   \n",
       "113839  /funding-round/6ba28fb4f3eadf5a9c6c81bc5dde6cdf               seed   \n",
       "\n",
       "       funding_round_code   funded_at  raised_amount_usd  \n",
       "29597                 NaN  01-02-2015                NaN  \n",
       "31863                 NaN  09-08-2014                NaN  \n",
       "45176                 NaN  18-09-2014                NaN  \n",
       "58473                 NaN  16-08-2014          1625585.0  \n",
       "101036                NaN  06-09-2010                NaN  \n",
       "109969                  A  06-09-2015                NaN  \n",
       "113839                NaN  17-07-2010                NaN  "
      ]
     },
     "execution_count": 29,
     "metadata": {},
     "output_type": "execute_result"
    }
   ],
   "source": [
    "#To get companies, which are not present in round2\n",
    "rounds2.loc[~rounds2.company_permalink.isin(companies.permalink)]"
   ]
  },
  {
   "cell_type": "markdown",
   "metadata": {},
   "source": [
    "### Takeaways:\n",
    "1. There are 66370 unique companies and some companies are not present in companies dataframe.\n",
    "2. Many companies has multiple funding rounds.\n",
    "3. Some companies of round2 are not present in companies"
   ]
  },
  {
   "cell_type": "markdown",
   "metadata": {},
   "source": [
    "## Data processing and cleaning of round2"
   ]
  },
  {
   "cell_type": "code",
   "execution_count": 30,
   "metadata": {},
   "outputs": [],
   "source": [
    "#Renaming company_permalink to permalink\n",
    "rounds2.rename(columns={'company_permalink': 'permalink'}, inplace=True)"
   ]
  },
  {
   "cell_type": "code",
   "execution_count": 31,
   "metadata": {},
   "outputs": [],
   "source": [
    "#Deleting rows with null raised_amount_usd\n",
    "rounds2 = rounds2.loc[~rounds2.raised_amount_usd.isnull()]"
   ]
  },
  {
   "cell_type": "code",
   "execution_count": 32,
   "metadata": {},
   "outputs": [],
   "source": [
    "#Dropping funding_round_code\n",
    "rounds2 = rounds2.drop(['funding_round_code'], axis = 1)"
   ]
  },
  {
   "cell_type": "code",
   "execution_count": 33,
   "metadata": {},
   "outputs": [],
   "source": [
    "#Converting values in millions USD\n",
    "rounds2.raised_amount_usd=rounds2.raised_amount_usd/1000000"
   ]
  },
  {
   "cell_type": "code",
   "execution_count": 34,
   "metadata": {},
   "outputs": [
    {
     "data": {
      "text/html": [
       "<div>\n",
       "<style scoped>\n",
       "    .dataframe tbody tr th:only-of-type {\n",
       "        vertical-align: middle;\n",
       "    }\n",
       "\n",
       "    .dataframe tbody tr th {\n",
       "        vertical-align: top;\n",
       "    }\n",
       "\n",
       "    .dataframe thead th {\n",
       "        text-align: right;\n",
       "    }\n",
       "</style>\n",
       "<table border=\"1\" class=\"dataframe\">\n",
       "  <thead>\n",
       "    <tr style=\"text-align: right;\">\n",
       "      <th></th>\n",
       "      <th>permalink</th>\n",
       "      <th>funding_round_permalink</th>\n",
       "      <th>funding_round_type</th>\n",
       "      <th>funded_at</th>\n",
       "      <th>raised_amount_usd</th>\n",
       "    </tr>\n",
       "  </thead>\n",
       "  <tbody>\n",
       "    <tr>\n",
       "      <th>0</th>\n",
       "      <td>/organization/-fame</td>\n",
       "      <td>/funding-round/9a01d05418af9f794eebff7ace91f638</td>\n",
       "      <td>venture</td>\n",
       "      <td>05-01-2015</td>\n",
       "      <td>10.000000</td>\n",
       "    </tr>\n",
       "    <tr>\n",
       "      <th>2</th>\n",
       "      <td>/organization/-qounter</td>\n",
       "      <td>/funding-round/b44fbb94153f6cdef13083530bb48030</td>\n",
       "      <td>seed</td>\n",
       "      <td>01-03-2014</td>\n",
       "      <td>0.700000</td>\n",
       "    </tr>\n",
       "    <tr>\n",
       "      <th>3</th>\n",
       "      <td>/organization/-the-one-of-them-inc-</td>\n",
       "      <td>/funding-round/650b8f704416801069bb178a1418776b</td>\n",
       "      <td>venture</td>\n",
       "      <td>30-01-2014</td>\n",
       "      <td>3.406878</td>\n",
       "    </tr>\n",
       "    <tr>\n",
       "      <th>4</th>\n",
       "      <td>/organization/0-6-com</td>\n",
       "      <td>/funding-round/5727accaeaa57461bd22a9bdd945382d</td>\n",
       "      <td>venture</td>\n",
       "      <td>19-03-2008</td>\n",
       "      <td>2.000000</td>\n",
       "    </tr>\n",
       "    <tr>\n",
       "      <th>6</th>\n",
       "      <td>/organization/01games-technology</td>\n",
       "      <td>/funding-round/7d53696f2b4f607a2f2a8cbb83d01839</td>\n",
       "      <td>undisclosed</td>\n",
       "      <td>01-07-2014</td>\n",
       "      <td>0.041250</td>\n",
       "    </tr>\n",
       "  </tbody>\n",
       "</table>\n",
       "</div>"
      ],
      "text/plain": [
       "                             permalink  \\\n",
       "0                  /organization/-fame   \n",
       "2               /organization/-qounter   \n",
       "3  /organization/-the-one-of-them-inc-   \n",
       "4                /organization/0-6-com   \n",
       "6     /organization/01games-technology   \n",
       "\n",
       "                           funding_round_permalink funding_round_type  \\\n",
       "0  /funding-round/9a01d05418af9f794eebff7ace91f638            venture   \n",
       "2  /funding-round/b44fbb94153f6cdef13083530bb48030               seed   \n",
       "3  /funding-round/650b8f704416801069bb178a1418776b            venture   \n",
       "4  /funding-round/5727accaeaa57461bd22a9bdd945382d            venture   \n",
       "6  /funding-round/7d53696f2b4f607a2f2a8cbb83d01839        undisclosed   \n",
       "\n",
       "    funded_at  raised_amount_usd  \n",
       "0  05-01-2015          10.000000  \n",
       "2  01-03-2014           0.700000  \n",
       "3  30-01-2014           3.406878  \n",
       "4  19-03-2008           2.000000  \n",
       "6  01-07-2014           0.041250  "
      ]
     },
     "execution_count": 34,
     "metadata": {},
     "output_type": "execute_result"
    }
   ],
   "source": [
    "rounds2.head()"
   ]
  },
  {
   "cell_type": "code",
   "execution_count": 35,
   "metadata": {
    "scrolled": false
   },
   "outputs": [
    {
     "data": {
      "text/plain": [
       "permalink                  0.0\n",
       "funding_round_permalink    0.0\n",
       "funding_round_type         0.0\n",
       "funded_at                  0.0\n",
       "raised_amount_usd          0.0\n",
       "dtype: float64"
      ]
     },
     "execution_count": 35,
     "metadata": {},
     "output_type": "execute_result"
    }
   ],
   "source": [
    "#Understanding null values\n",
    "100*(rounds2.isnull().sum()/len(rounds2))"
   ]
  },
  {
   "cell_type": "code",
   "execution_count": 36,
   "metadata": {},
   "outputs": [
    {
     "name": "stderr",
     "output_type": "stream",
     "text": [
      "/home/rahulg/.local/lib/python3.6/site-packages/seaborn/_decorators.py:43: FutureWarning: Pass the following variable as a keyword arg: x. From version 0.12, the only valid positional argument will be `data`, and passing other arguments without an explicit keyword will result in an error or misinterpretation.\n",
      "  FutureWarning\n"
     ]
    },
    {
     "data": {
      "text/plain": [
       "<AxesSubplot:xlabel='raised_amount_usd'>"
      ]
     },
     "execution_count": 36,
     "metadata": {},
     "output_type": "execute_result"
    },
    {
     "data": {
      "image/png": "[encoded data removed]",
      "text/plain": [
       "<Figure size 432x288 with 1 Axes>"
      ]
     },
     "metadata": {
      "needs_background": "light"
     },
     "output_type": "display_data"
    }
   ],
   "source": [
    "#Identifying outliers in raised_amount_usd\n",
    "sns.boxplot(rounds2.raised_amount_usd)"
   ]
  },
  {
   "cell_type": "markdown",
   "metadata": {},
   "source": [
    "We should get rid of values more than 500 million USD"
   ]
  },
  {
   "cell_type": "code",
   "execution_count": 37,
   "metadata": {},
   "outputs": [
    {
     "data": {
      "text/plain": [
       "(160, 5)"
      ]
     },
     "execution_count": 37,
     "metadata": {},
     "output_type": "execute_result"
    }
   ],
   "source": [
    "#Identifying fundings with 0\n",
    "rounds2.loc[rounds2.raised_amount_usd>=500].shape"
   ]
  },
  {
   "cell_type": "code",
   "execution_count": 38,
   "metadata": {},
   "outputs": [],
   "source": [
    "#Removing investments with more than 500 million USD\n",
    "rounds2=rounds2.loc[rounds2.raised_amount_usd<500]"
   ]
  },
  {
   "cell_type": "code",
   "execution_count": 39,
   "metadata": {
    "scrolled": true
   },
   "outputs": [
    {
     "name": "stderr",
     "output_type": "stream",
     "text": [
      "/home/rahulg/.local/lib/python3.6/site-packages/seaborn/_decorators.py:43: FutureWarning: Pass the following variable as a keyword arg: x. From version 0.12, the only valid positional argument will be `data`, and passing other arguments without an explicit keyword will result in an error or misinterpretation.\n",
      "  FutureWarning\n"
     ]
    },
    {
     "data": {
      "text/plain": [
       "<AxesSubplot:xlabel='raised_amount_usd'>"
      ]
     },
     "execution_count": 39,
     "metadata": {},
     "output_type": "execute_result"
    },
    {
     "data": {
      "image/png": "[encoded data removed]",
      "text/plain": [
       "<Figure size 432x288 with 1 Axes>"
      ]
     },
     "metadata": {
      "needs_background": "light"
     },
     "output_type": "display_data"
    }
   ],
   "source": [
    "#Identifying outliers in raised_amount_usd\n",
    "sns.boxplot(rounds2.raised_amount_usd)"
   ]
  },
  {
   "cell_type": "code",
   "execution_count": 40,
   "metadata": {
    "scrolled": true
   },
   "outputs": [
    {
     "data": {
      "text/plain": [
       "(1127, 5)"
      ]
     },
     "execution_count": 40,
     "metadata": {},
     "output_type": "execute_result"
    }
   ],
   "source": [
    "#Identifying fundings with 0\n",
    "rounds2.loc[rounds2.raised_amount_usd>=100].shape"
   ]
  },
  {
   "cell_type": "code",
   "execution_count": 41,
   "metadata": {},
   "outputs": [],
   "source": [
    "#Removing investments with more than 100 million USD\n",
    "rounds2=rounds2.loc[rounds2.raised_amount_usd<100]"
   ]
  },
  {
   "cell_type": "code",
   "execution_count": 42,
   "metadata": {},
   "outputs": [
    {
     "name": "stderr",
     "output_type": "stream",
     "text": [
      "/home/rahulg/.local/lib/python3.6/site-packages/seaborn/_decorators.py:43: FutureWarning: Pass the following variable as a keyword arg: x. From version 0.12, the only valid positional argument will be `data`, and passing other arguments without an explicit keyword will result in an error or misinterpretation.\n",
      "  FutureWarning\n"
     ]
    },
    {
     "data": {
      "text/plain": [
       "<AxesSubplot:xlabel='raised_amount_usd'>"
      ]
     },
     "execution_count": 42,
     "metadata": {},
     "output_type": "execute_result"
    },
    {
     "data": {
      "image/png": "[encoded data removed]",
      "text/plain": [
       "<Figure size 432x288 with 1 Axes>"
      ]
     },
     "metadata": {
      "needs_background": "light"
     },
     "output_type": "display_data"
    }
   ],
   "source": [
    "sns.boxplot(rounds2.raised_amount_usd)"
   ]
  },
  {
   "cell_type": "code",
   "execution_count": 43,
   "metadata": {},
   "outputs": [
    {
     "data": {
      "text/plain": [
       "(93672, 5)"
      ]
     },
     "execution_count": 43,
     "metadata": {},
     "output_type": "execute_result"
    }
   ],
   "source": [
    "rounds2.shape"
   ]
  },
  {
   "cell_type": "markdown",
   "metadata": {},
   "source": [
    "## Data processing and cleaning of  companies"
   ]
  },
  {
   "cell_type": "code",
   "execution_count": 44,
   "metadata": {},
   "outputs": [],
   "source": [
    "#Deleting rows with null category_list\n",
    "companies = companies.loc[~companies.category_list.isnull()]"
   ]
  },
  {
   "cell_type": "code",
   "execution_count": 45,
   "metadata": {},
   "outputs": [],
   "source": [
    "#Deleting rows with null country_code\n",
    "companies = companies.loc[~companies.country_code.isnull()]"
   ]
  },
  {
   "cell_type": "code",
   "execution_count": 46,
   "metadata": {},
   "outputs": [],
   "source": [
    "#To delete ambigious data - having same name,country_code and homepage_url but different category_list\n",
    "companies=companies.drop_duplicates(subset=[\"name\",\"homepage_url\",\"country_code\"],keep=False)"
   ]
  },
  {
   "cell_type": "code",
   "execution_count": 47,
   "metadata": {},
   "outputs": [],
   "source": [
    "#Dropping founded_at\n",
    "companies = companies.drop(['founded_at'], axis = 1)"
   ]
  },
  {
   "cell_type": "code",
   "execution_count": 48,
   "metadata": {},
   "outputs": [],
   "source": [
    "#correcting category list as per business rule - first category from list\n",
    "companies.category_list=companies.category_list.apply(lambda x: x.lower() if \"|\" not in x else x.split(\"|\")[0].lower())"
   ]
  },
  {
   "cell_type": "code",
   "execution_count": 49,
   "metadata": {},
   "outputs": [
    {
     "data": {
      "text/plain": [
       "permalink        0.000000\n",
       "name             0.000000\n",
       "homepage_url     5.773956\n",
       "category_list    0.000000\n",
       "status           0.000000\n",
       "country_code     0.000000\n",
       "state_code       2.657715\n",
       "region           1.797764\n",
       "city             1.794304\n",
       "dtype: float64"
      ]
     },
     "execution_count": 49,
     "metadata": {},
     "output_type": "execute_result"
    }
   ],
   "source": [
    "#Understanding null values of companies\n",
    "100*(companies.isnull().sum()/len(companies))"
   ]
  },
  {
   "cell_type": "markdown",
   "metadata": {},
   "source": [
    "Home page url, state_code, region and city columns have null values.\n",
    "\n",
    "1. We can either impute www.<name>.com in homepage_url and drop the column.\n",
    "2. We can either impute modde of state, region and city per country. or drop these columns.\n",
    "#### In this case study, we are not analyzing data based on these columns. Hence, dropping these columns."
   ]
  },
  {
   "cell_type": "code",
   "execution_count": 50,
   "metadata": {},
   "outputs": [],
   "source": [
    "companies = companies.drop(['homepage_url',\"state_code\",\"region\",\"city\"], axis = 1)"
   ]
  },
  {
   "cell_type": "code",
   "execution_count": 51,
   "metadata": {},
   "outputs": [
    {
     "data": {
      "text/plain": [
       "permalink        0.0\n",
       "name             0.0\n",
       "category_list    0.0\n",
       "status           0.0\n",
       "country_code     0.0\n",
       "dtype: float64"
      ]
     },
     "execution_count": 51,
     "metadata": {},
     "output_type": "execute_result"
    }
   ],
   "source": [
    "#Understanding null values of companies\n",
    "100*(companies.isnull().sum()/len(companies))"
   ]
  },
  {
   "cell_type": "markdown",
   "metadata": {},
   "source": [
    "## Data processing and cleaning of mappings"
   ]
  },
  {
   "cell_type": "code",
   "execution_count": 52,
   "metadata": {
    "scrolled": true
   },
   "outputs": [
    {
     "data": {
      "text/html": [
       "<div>\n",
       "<style scoped>\n",
       "    .dataframe tbody tr th:only-of-type {\n",
       "        vertical-align: middle;\n",
       "    }\n",
       "\n",
       "    .dataframe tbody tr th {\n",
       "        vertical-align: top;\n",
       "    }\n",
       "\n",
       "    .dataframe thead th {\n",
       "        text-align: right;\n",
       "    }\n",
       "</style>\n",
       "<table border=\"1\" class=\"dataframe\">\n",
       "  <thead>\n",
       "    <tr style=\"text-align: right;\">\n",
       "      <th></th>\n",
       "      <th>category_list</th>\n",
       "      <th>Automotive &amp; Sports</th>\n",
       "      <th>Blanks</th>\n",
       "      <th>Cleantech / Semiconductors</th>\n",
       "      <th>Entertainment</th>\n",
       "      <th>Health</th>\n",
       "      <th>Manufacturing</th>\n",
       "      <th>News, Search and Messaging</th>\n",
       "      <th>Others</th>\n",
       "      <th>Social, Finance, Analytics, Advertising</th>\n",
       "    </tr>\n",
       "  </thead>\n",
       "  <tbody>\n",
       "    <tr>\n",
       "      <th>0</th>\n",
       "      <td>NaN</td>\n",
       "      <td>0</td>\n",
       "      <td>1</td>\n",
       "      <td>0</td>\n",
       "      <td>0</td>\n",
       "      <td>0</td>\n",
       "      <td>0</td>\n",
       "      <td>0</td>\n",
       "      <td>0</td>\n",
       "      <td>0</td>\n",
       "    </tr>\n",
       "    <tr>\n",
       "      <th>1</th>\n",
       "      <td>3D</td>\n",
       "      <td>0</td>\n",
       "      <td>0</td>\n",
       "      <td>0</td>\n",
       "      <td>0</td>\n",
       "      <td>0</td>\n",
       "      <td>1</td>\n",
       "      <td>0</td>\n",
       "      <td>0</td>\n",
       "      <td>0</td>\n",
       "    </tr>\n",
       "    <tr>\n",
       "      <th>2</th>\n",
       "      <td>3D Printing</td>\n",
       "      <td>0</td>\n",
       "      <td>0</td>\n",
       "      <td>0</td>\n",
       "      <td>0</td>\n",
       "      <td>0</td>\n",
       "      <td>1</td>\n",
       "      <td>0</td>\n",
       "      <td>0</td>\n",
       "      <td>0</td>\n",
       "    </tr>\n",
       "    <tr>\n",
       "      <th>3</th>\n",
       "      <td>3D Technology</td>\n",
       "      <td>0</td>\n",
       "      <td>0</td>\n",
       "      <td>0</td>\n",
       "      <td>0</td>\n",
       "      <td>0</td>\n",
       "      <td>1</td>\n",
       "      <td>0</td>\n",
       "      <td>0</td>\n",
       "      <td>0</td>\n",
       "    </tr>\n",
       "    <tr>\n",
       "      <th>4</th>\n",
       "      <td>Accounting</td>\n",
       "      <td>0</td>\n",
       "      <td>0</td>\n",
       "      <td>0</td>\n",
       "      <td>0</td>\n",
       "      <td>0</td>\n",
       "      <td>0</td>\n",
       "      <td>0</td>\n",
       "      <td>0</td>\n",
       "      <td>1</td>\n",
       "    </tr>\n",
       "  </tbody>\n",
       "</table>\n",
       "</div>"
      ],
      "text/plain": [
       "   category_list  Automotive & Sports  Blanks  Cleantech / Semiconductors  \\\n",
       "0            NaN                    0       1                           0   \n",
       "1             3D                    0       0                           0   \n",
       "2    3D Printing                    0       0                           0   \n",
       "3  3D Technology                    0       0                           0   \n",
       "4     Accounting                    0       0                           0   \n",
       "\n",
       "   Entertainment  Health  Manufacturing  News, Search and Messaging  Others  \\\n",
       "0              0       0              0                           0       0   \n",
       "1              0       0              1                           0       0   \n",
       "2              0       0              1                           0       0   \n",
       "3              0       0              1                           0       0   \n",
       "4              0       0              0                           0       0   \n",
       "\n",
       "   Social, Finance, Analytics, Advertising  \n",
       "0                                        0  \n",
       "1                                        0  \n",
       "2                                        0  \n",
       "3                                        0  \n",
       "4                                        1  "
      ]
     },
     "execution_count": 52,
     "metadata": {},
     "output_type": "execute_result"
    }
   ],
   "source": [
    "mappings.head()"
   ]
  },
  {
   "cell_type": "code",
   "execution_count": 53,
   "metadata": {},
   "outputs": [
    {
     "name": "stdout",
     "output_type": "stream",
     "text": [
      "['Automotive & Sports', 'Blanks', 'Cleantech / Semiconductors', 'Entertainment', 'Health', 'Manufacturing', 'News, Search and Messaging', 'Others', 'Social, Finance, Analytics, Advertising'] \n",
      "\n",
      "['category_list']\n"
     ]
    }
   ],
   "source": [
    "# store the value and id variables in two separate arrays\n",
    "\n",
    "# store the value variables in one Series\n",
    "value_vars = list(mappings.columns[1:])\n",
    "\n",
    "# take the setdiff() to get the rest of the variables\n",
    "id_vars = list(np.setdiff1d(mappings.columns, value_vars))\n",
    "\n",
    "print(value_vars, \"\\n\")\n",
    "print(id_vars)"
   ]
  },
  {
   "cell_type": "code",
   "execution_count": 54,
   "metadata": {},
   "outputs": [],
   "source": [
    "#converting wide data set to long data set.\n",
    "mappings = pd.melt(mappings, id_vars = id_vars, value_vars = value_vars)"
   ]
  },
  {
   "cell_type": "code",
   "execution_count": 55,
   "metadata": {},
   "outputs": [
    {
     "data": {
      "text/plain": [
       "category_list    0.145349\n",
       "variable         0.000000\n",
       "value            0.000000\n",
       "dtype: float64"
      ]
     },
     "execution_count": 55,
     "metadata": {},
     "output_type": "execute_result"
    }
   ],
   "source": [
    "#Understanding null values\n",
    "100*(mappings.isnull().sum()/len(mappings))"
   ]
  },
  {
   "cell_type": "code",
   "execution_count": 56,
   "metadata": {},
   "outputs": [],
   "source": [
    "#removing null category and values with 0\n",
    "mappings=mappings.loc[(~mappings.category_list.isnull())]"
   ]
  },
  {
   "cell_type": "code",
   "execution_count": 57,
   "metadata": {},
   "outputs": [
    {
     "data": {
      "text/plain": [
       "category_list    0.0\n",
       "variable         0.0\n",
       "value            0.0\n",
       "dtype: float64"
      ]
     },
     "execution_count": 57,
     "metadata": {},
     "output_type": "execute_result"
    }
   ],
   "source": [
    "#Understanding null values\n",
    "100*(mappings.isnull().sum()/len(mappings))"
   ]
  },
  {
   "cell_type": "code",
   "execution_count": 58,
   "metadata": {},
   "outputs": [
    {
     "data": {
      "text/plain": [
       "0    5496\n",
       "1     687\n",
       "Name: value, dtype: int64"
      ]
     },
     "execution_count": 58,
     "metadata": {},
     "output_type": "execute_result"
    }
   ],
   "source": [
    "#Geting values\n",
    "mappings.value.value_counts()"
   ]
  },
  {
   "cell_type": "code",
   "execution_count": 59,
   "metadata": {},
   "outputs": [],
   "source": [
    "#removing 0 values\n",
    "mappings=mappings.loc[mappings.value==1]"
   ]
  },
  {
   "cell_type": "code",
   "execution_count": 60,
   "metadata": {},
   "outputs": [],
   "source": [
    "#Removing extra spaces and lower casing of category_list\n",
    "mappings.category_list = mappings.category_list.str.lower().str.strip()"
   ]
  },
  {
   "cell_type": "code",
   "execution_count": 61,
   "metadata": {
    "scrolled": true
   },
   "outputs": [
    {
     "data": {
      "text/plain": [
       "1    687\n",
       "Name: value, dtype: int64"
      ]
     },
     "execution_count": 61,
     "metadata": {},
     "output_type": "execute_result"
    }
   ],
   "source": [
    "#Geting values\n",
    "mappings.value.value_counts()"
   ]
  },
  {
   "cell_type": "code",
   "execution_count": 62,
   "metadata": {},
   "outputs": [],
   "source": [
    "#Dropping value\n",
    "mappings = mappings.drop(['value'], axis = 1)"
   ]
  },
  {
   "cell_type": "code",
   "execution_count": 63,
   "metadata": {},
   "outputs": [
    {
     "data": {
      "text/html": [
       "<div>\n",
       "<style scoped>\n",
       "    .dataframe tbody tr th:only-of-type {\n",
       "        vertical-align: middle;\n",
       "    }\n",
       "\n",
       "    .dataframe tbody tr th {\n",
       "        vertical-align: top;\n",
       "    }\n",
       "\n",
       "    .dataframe thead th {\n",
       "        text-align: right;\n",
       "    }\n",
       "</style>\n",
       "<table border=\"1\" class=\"dataframe\">\n",
       "  <thead>\n",
       "    <tr style=\"text-align: right;\">\n",
       "      <th></th>\n",
       "      <th>category_list</th>\n",
       "      <th>variable</th>\n",
       "    </tr>\n",
       "  </thead>\n",
       "  <tbody>\n",
       "    <tr>\n",
       "      <th>count</th>\n",
       "      <td>687</td>\n",
       "      <td>687</td>\n",
       "    </tr>\n",
       "    <tr>\n",
       "      <th>unique</th>\n",
       "      <td>687</td>\n",
       "      <td>8</td>\n",
       "    </tr>\n",
       "    <tr>\n",
       "      <th>top</th>\n",
       "      <td>group sms</td>\n",
       "      <td>Others</td>\n",
       "    </tr>\n",
       "    <tr>\n",
       "      <th>freq</th>\n",
       "      <td>1</td>\n",
       "      <td>195</td>\n",
       "    </tr>\n",
       "  </tbody>\n",
       "</table>\n",
       "</div>"
      ],
      "text/plain": [
       "       category_list variable\n",
       "count            687      687\n",
       "unique           687        8\n",
       "top        group sms   Others\n",
       "freq               1      195"
      ]
     },
     "execution_count": 63,
     "metadata": {},
     "output_type": "execute_result"
    }
   ],
   "source": [
    "#To check all values in category_list are unique\n",
    "mappings.describe()"
   ]
  },
  {
   "cell_type": "code",
   "execution_count": 64,
   "metadata": {
    "scrolled": true
   },
   "outputs": [
    {
     "data": {
      "text/html": [
       "<div>\n",
       "<style scoped>\n",
       "    .dataframe tbody tr th:only-of-type {\n",
       "        vertical-align: middle;\n",
       "    }\n",
       "\n",
       "    .dataframe tbody tr th {\n",
       "        vertical-align: top;\n",
       "    }\n",
       "\n",
       "    .dataframe thead th {\n",
       "        text-align: right;\n",
       "    }\n",
       "</style>\n",
       "<table border=\"1\" class=\"dataframe\">\n",
       "  <thead>\n",
       "    <tr style=\"text-align: right;\">\n",
       "      <th></th>\n",
       "      <th>category_list</th>\n",
       "      <th>variable</th>\n",
       "    </tr>\n",
       "  </thead>\n",
       "  <tbody>\n",
       "    <tr>\n",
       "      <th>8</th>\n",
       "      <td>adventure travel</td>\n",
       "      <td>Automotive &amp; Sports</td>\n",
       "    </tr>\n",
       "    <tr>\n",
       "      <th>14</th>\n",
       "      <td>aerospace</td>\n",
       "      <td>Automotive &amp; Sports</td>\n",
       "    </tr>\n",
       "    <tr>\n",
       "      <th>45</th>\n",
       "      <td>auto</td>\n",
       "      <td>Automotive &amp; Sports</td>\n",
       "    </tr>\n",
       "    <tr>\n",
       "      <th>46</th>\n",
       "      <td>automated kiosk</td>\n",
       "      <td>Automotive &amp; Sports</td>\n",
       "    </tr>\n",
       "    <tr>\n",
       "      <th>47</th>\n",
       "      <td>automotive</td>\n",
       "      <td>Automotive &amp; Sports</td>\n",
       "    </tr>\n",
       "  </tbody>\n",
       "</table>\n",
       "</div>"
      ],
      "text/plain": [
       "       category_list             variable\n",
       "8   adventure travel  Automotive & Sports\n",
       "14         aerospace  Automotive & Sports\n",
       "45              auto  Automotive & Sports\n",
       "46   automated kiosk  Automotive & Sports\n",
       "47        automotive  Automotive & Sports"
      ]
     },
     "execution_count": 64,
     "metadata": {},
     "output_type": "execute_result"
    }
   ],
   "source": [
    "mappings.head()"
   ]
  },
  {
   "cell_type": "code",
   "execution_count": 65,
   "metadata": {
    "scrolled": true
   },
   "outputs": [
    {
     "data": {
      "text/plain": [
       "Others                                     195\n",
       "Social, Finance, Analytics, Advertising    153\n",
       "Entertainment                               89\n",
       "News, Search and Messaging                  72\n",
       "Health                                      63\n",
       "Cleantech / Semiconductors                  53\n",
       "Manufacturing                               40\n",
       "Automotive & Sports                         22\n",
       "Name: variable, dtype: int64"
      ]
     },
     "execution_count": 65,
     "metadata": {},
     "output_type": "execute_result"
    }
   ],
   "source": [
    "#To check the distribution of sectors\n",
    "mappings.variable.value_counts()"
   ]
  },
  {
   "cell_type": "code",
   "execution_count": 66,
   "metadata": {},
   "outputs": [],
   "source": [
    "#Renaming variable to sector\n",
    "mappings.rename(columns={'variable': 'sector'}, inplace=True)"
   ]
  },
  {
   "cell_type": "code",
   "execution_count": 67,
   "metadata": {},
   "outputs": [
    {
     "data": {
      "text/html": [
       "<div>\n",
       "<style scoped>\n",
       "    .dataframe tbody tr th:only-of-type {\n",
       "        vertical-align: middle;\n",
       "    }\n",
       "\n",
       "    .dataframe tbody tr th {\n",
       "        vertical-align: top;\n",
       "    }\n",
       "\n",
       "    .dataframe thead th {\n",
       "        text-align: right;\n",
       "    }\n",
       "</style>\n",
       "<table border=\"1\" class=\"dataframe\">\n",
       "  <thead>\n",
       "    <tr style=\"text-align: right;\">\n",
       "      <th></th>\n",
       "      <th>category_list</th>\n",
       "      <th>sector</th>\n",
       "    </tr>\n",
       "  </thead>\n",
       "  <tbody>\n",
       "    <tr>\n",
       "      <th>8</th>\n",
       "      <td>adventure travel</td>\n",
       "      <td>Automotive &amp; Sports</td>\n",
       "    </tr>\n",
       "    <tr>\n",
       "      <th>14</th>\n",
       "      <td>aerospace</td>\n",
       "      <td>Automotive &amp; Sports</td>\n",
       "    </tr>\n",
       "    <tr>\n",
       "      <th>45</th>\n",
       "      <td>auto</td>\n",
       "      <td>Automotive &amp; Sports</td>\n",
       "    </tr>\n",
       "    <tr>\n",
       "      <th>46</th>\n",
       "      <td>automated kiosk</td>\n",
       "      <td>Automotive &amp; Sports</td>\n",
       "    </tr>\n",
       "    <tr>\n",
       "      <th>47</th>\n",
       "      <td>automotive</td>\n",
       "      <td>Automotive &amp; Sports</td>\n",
       "    </tr>\n",
       "  </tbody>\n",
       "</table>\n",
       "</div>"
      ],
      "text/plain": [
       "       category_list               sector\n",
       "8   adventure travel  Automotive & Sports\n",
       "14         aerospace  Automotive & Sports\n",
       "45              auto  Automotive & Sports\n",
       "46   automated kiosk  Automotive & Sports\n",
       "47        automotive  Automotive & Sports"
      ]
     },
     "execution_count": 67,
     "metadata": {},
     "output_type": "execute_result"
    }
   ],
   "source": [
    "mappings.head()"
   ]
  },
  {
   "cell_type": "markdown",
   "metadata": {},
   "source": [
    "## Merging companies and round2"
   ]
  },
  {
   "cell_type": "code",
   "execution_count": 68,
   "metadata": {},
   "outputs": [],
   "source": [
    "#To merge companies and round2\n",
    "master_frame=pd.merge(companies,rounds2,how=\"inner\",on=\"permalink\")"
   ]
  },
  {
   "cell_type": "code",
   "execution_count": 69,
   "metadata": {
    "scrolled": false
   },
   "outputs": [
    {
     "data": {
      "text/html": [
       "<div>\n",
       "<style scoped>\n",
       "    .dataframe tbody tr th:only-of-type {\n",
       "        vertical-align: middle;\n",
       "    }\n",
       "\n",
       "    .dataframe tbody tr th {\n",
       "        vertical-align: top;\n",
       "    }\n",
       "\n",
       "    .dataframe thead th {\n",
       "        text-align: right;\n",
       "    }\n",
       "</style>\n",
       "<table border=\"1\" class=\"dataframe\">\n",
       "  <thead>\n",
       "    <tr style=\"text-align: right;\">\n",
       "      <th></th>\n",
       "      <th>permalink</th>\n",
       "      <th>name</th>\n",
       "      <th>category_list</th>\n",
       "      <th>status</th>\n",
       "      <th>country_code</th>\n",
       "      <th>funding_round_permalink</th>\n",
       "      <th>funding_round_type</th>\n",
       "      <th>funded_at</th>\n",
       "      <th>raised_amount_usd</th>\n",
       "    </tr>\n",
       "  </thead>\n",
       "  <tbody>\n",
       "    <tr>\n",
       "      <th>0</th>\n",
       "      <td>/organization/-fame</td>\n",
       "      <td>#fame</td>\n",
       "      <td>media</td>\n",
       "      <td>operating</td>\n",
       "      <td>IND</td>\n",
       "      <td>/funding-round/9a01d05418af9f794eebff7ace91f638</td>\n",
       "      <td>venture</td>\n",
       "      <td>05-01-2015</td>\n",
       "      <td>10.00000</td>\n",
       "    </tr>\n",
       "    <tr>\n",
       "      <th>1</th>\n",
       "      <td>/organization/-qounter</td>\n",
       "      <td>:qounter</td>\n",
       "      <td>application platforms</td>\n",
       "      <td>operating</td>\n",
       "      <td>USA</td>\n",
       "      <td>/funding-round/b44fbb94153f6cdef13083530bb48030</td>\n",
       "      <td>seed</td>\n",
       "      <td>01-03-2014</td>\n",
       "      <td>0.70000</td>\n",
       "    </tr>\n",
       "    <tr>\n",
       "      <th>2</th>\n",
       "      <td>/organization/0-6-com</td>\n",
       "      <td>0-6.com</td>\n",
       "      <td>curated web</td>\n",
       "      <td>operating</td>\n",
       "      <td>CHN</td>\n",
       "      <td>/funding-round/5727accaeaa57461bd22a9bdd945382d</td>\n",
       "      <td>venture</td>\n",
       "      <td>19-03-2008</td>\n",
       "      <td>2.00000</td>\n",
       "    </tr>\n",
       "    <tr>\n",
       "      <th>3</th>\n",
       "      <td>/organization/01games-technology</td>\n",
       "      <td>01games technology</td>\n",
       "      <td>games</td>\n",
       "      <td>operating</td>\n",
       "      <td>HKG</td>\n",
       "      <td>/funding-round/7d53696f2b4f607a2f2a8cbb83d01839</td>\n",
       "      <td>undisclosed</td>\n",
       "      <td>01-07-2014</td>\n",
       "      <td>0.04125</td>\n",
       "    </tr>\n",
       "    <tr>\n",
       "      <th>4</th>\n",
       "      <td>/organization/0ndine-biomedical-inc</td>\n",
       "      <td>ondine biomedical inc.</td>\n",
       "      <td>biotechnology</td>\n",
       "      <td>operating</td>\n",
       "      <td>CAN</td>\n",
       "      <td>/funding-round/2b9d3ac293d5cdccbecff5c8cb0f327d</td>\n",
       "      <td>seed</td>\n",
       "      <td>11-09-2009</td>\n",
       "      <td>0.04336</td>\n",
       "    </tr>\n",
       "  </tbody>\n",
       "</table>\n",
       "</div>"
      ],
      "text/plain": [
       "                             permalink                    name  \\\n",
       "0                  /organization/-fame                   #fame   \n",
       "1               /organization/-qounter                :qounter   \n",
       "2                /organization/0-6-com                 0-6.com   \n",
       "3     /organization/01games-technology      01games technology   \n",
       "4  /organization/0ndine-biomedical-inc  ondine biomedical inc.   \n",
       "\n",
       "           category_list     status country_code  \\\n",
       "0                  media  operating          IND   \n",
       "1  application platforms  operating          USA   \n",
       "2            curated web  operating          CHN   \n",
       "3                  games  operating          HKG   \n",
       "4          biotechnology  operating          CAN   \n",
       "\n",
       "                           funding_round_permalink funding_round_type  \\\n",
       "0  /funding-round/9a01d05418af9f794eebff7ace91f638            venture   \n",
       "1  /funding-round/b44fbb94153f6cdef13083530bb48030               seed   \n",
       "2  /funding-round/5727accaeaa57461bd22a9bdd945382d            venture   \n",
       "3  /funding-round/7d53696f2b4f607a2f2a8cbb83d01839        undisclosed   \n",
       "4  /funding-round/2b9d3ac293d5cdccbecff5c8cb0f327d               seed   \n",
       "\n",
       "    funded_at  raised_amount_usd  \n",
       "0  05-01-2015           10.00000  \n",
       "1  01-03-2014            0.70000  \n",
       "2  19-03-2008            2.00000  \n",
       "3  01-07-2014            0.04125  \n",
       "4  11-09-2009            0.04336  "
      ]
     },
     "execution_count": 69,
     "metadata": {},
     "output_type": "execute_result"
    }
   ],
   "source": [
    "master_frame.head()"
   ]
  },
  {
   "cell_type": "markdown",
   "metadata": {},
   "source": [
    "## Adding sector column in master frame"
   ]
  },
  {
   "cell_type": "code",
   "execution_count": 70,
   "metadata": {},
   "outputs": [
    {
     "data": {
      "text/plain": [
       "(6314, 9)"
      ]
     },
     "execution_count": 70,
     "metadata": {},
     "output_type": "execute_result"
    }
   ],
   "source": [
    "# Identifying records of categories which are not part of mappings data set.\n",
    "master_frame.loc[~(master_frame.category_list.isin(mappings.category_list))].shape"
   ]
  },
  {
   "cell_type": "markdown",
   "metadata": {},
   "source": [
    "There are many categories which are not present in mappings. As we don't know the sector details. Hence, removing these records."
   ]
  },
  {
   "cell_type": "code",
   "execution_count": 71,
   "metadata": {},
   "outputs": [],
   "source": [
    "#To merge the sector with master frame and remove the records of categories which are not part of mappings data set\n",
    "master_frame=pd.merge(master_frame,mappings)"
   ]
  },
  {
   "cell_type": "code",
   "execution_count": 72,
   "metadata": {},
   "outputs": [
    {
     "data": {
      "text/plain": [
       "(0, 10)"
      ]
     },
     "execution_count": 72,
     "metadata": {},
     "output_type": "execute_result"
    }
   ],
   "source": [
    "#Verify whether data is deleted\n",
    "master_frame.loc[~(master_frame.category_list.isin(mappings.category_list))].shape"
   ]
  },
  {
   "cell_type": "code",
   "execution_count": 73,
   "metadata": {},
   "outputs": [
    {
     "data": {
      "text/html": [
       "<div>\n",
       "<style scoped>\n",
       "    .dataframe tbody tr th:only-of-type {\n",
       "        vertical-align: middle;\n",
       "    }\n",
       "\n",
       "    .dataframe tbody tr th {\n",
       "        vertical-align: top;\n",
       "    }\n",
       "\n",
       "    .dataframe thead th {\n",
       "        text-align: right;\n",
       "    }\n",
       "</style>\n",
       "<table border=\"1\" class=\"dataframe\">\n",
       "  <thead>\n",
       "    <tr style=\"text-align: right;\">\n",
       "      <th></th>\n",
       "      <th>permalink</th>\n",
       "      <th>name</th>\n",
       "      <th>category_list</th>\n",
       "      <th>status</th>\n",
       "      <th>country_code</th>\n",
       "      <th>funding_round_permalink</th>\n",
       "      <th>funding_round_type</th>\n",
       "      <th>funded_at</th>\n",
       "      <th>raised_amount_usd</th>\n",
       "      <th>sector</th>\n",
       "    </tr>\n",
       "  </thead>\n",
       "  <tbody>\n",
       "    <tr>\n",
       "      <th>0</th>\n",
       "      <td>/organization/-fame</td>\n",
       "      <td>#fame</td>\n",
       "      <td>media</td>\n",
       "      <td>operating</td>\n",
       "      <td>IND</td>\n",
       "      <td>/funding-round/9a01d05418af9f794eebff7ace91f638</td>\n",
       "      <td>venture</td>\n",
       "      <td>05-01-2015</td>\n",
       "      <td>10.00</td>\n",
       "      <td>Entertainment</td>\n",
       "    </tr>\n",
       "    <tr>\n",
       "      <th>1</th>\n",
       "      <td>/organization/90min</td>\n",
       "      <td>90min</td>\n",
       "      <td>media</td>\n",
       "      <td>operating</td>\n",
       "      <td>GBR</td>\n",
       "      <td>/funding-round/21a2cbf6f2fb2a1c2a61e04bf930dfe6</td>\n",
       "      <td>venture</td>\n",
       "      <td>06-10-2015</td>\n",
       "      <td>15.00</td>\n",
       "      <td>Entertainment</td>\n",
       "    </tr>\n",
       "    <tr>\n",
       "      <th>2</th>\n",
       "      <td>/organization/90min</td>\n",
       "      <td>90min</td>\n",
       "      <td>media</td>\n",
       "      <td>operating</td>\n",
       "      <td>GBR</td>\n",
       "      <td>/funding-round/bd626ed022f5c66574b1afe234f3c90d</td>\n",
       "      <td>venture</td>\n",
       "      <td>07-05-2013</td>\n",
       "      <td>5.80</td>\n",
       "      <td>Entertainment</td>\n",
       "    </tr>\n",
       "    <tr>\n",
       "      <th>3</th>\n",
       "      <td>/organization/90min</td>\n",
       "      <td>90min</td>\n",
       "      <td>media</td>\n",
       "      <td>operating</td>\n",
       "      <td>GBR</td>\n",
       "      <td>/funding-round/fd4b15e8c97ee2ffc0acccdbe1a98810</td>\n",
       "      <td>venture</td>\n",
       "      <td>26-03-2014</td>\n",
       "      <td>18.00</td>\n",
       "      <td>Entertainment</td>\n",
       "    </tr>\n",
       "    <tr>\n",
       "      <th>4</th>\n",
       "      <td>/organization/a-dance-for-me</td>\n",
       "      <td>a dance for me</td>\n",
       "      <td>media</td>\n",
       "      <td>operating</td>\n",
       "      <td>USA</td>\n",
       "      <td>/funding-round/9ab9dbd17bf010c79d8415b2c22be6fa</td>\n",
       "      <td>equity_crowdfunding</td>\n",
       "      <td>26-03-2014</td>\n",
       "      <td>1.09</td>\n",
       "      <td>Entertainment</td>\n",
       "    </tr>\n",
       "  </tbody>\n",
       "</table>\n",
       "</div>"
      ],
      "text/plain": [
       "                      permalink            name category_list     status  \\\n",
       "0           /organization/-fame           #fame         media  operating   \n",
       "1           /organization/90min           90min         media  operating   \n",
       "2           /organization/90min           90min         media  operating   \n",
       "3           /organization/90min           90min         media  operating   \n",
       "4  /organization/a-dance-for-me  a dance for me         media  operating   \n",
       "\n",
       "  country_code                          funding_round_permalink  \\\n",
       "0          IND  /funding-round/9a01d05418af9f794eebff7ace91f638   \n",
       "1          GBR  /funding-round/21a2cbf6f2fb2a1c2a61e04bf930dfe6   \n",
       "2          GBR  /funding-round/bd626ed022f5c66574b1afe234f3c90d   \n",
       "3          GBR  /funding-round/fd4b15e8c97ee2ffc0acccdbe1a98810   \n",
       "4          USA  /funding-round/9ab9dbd17bf010c79d8415b2c22be6fa   \n",
       "\n",
       "    funding_round_type   funded_at  raised_amount_usd         sector  \n",
       "0              venture  05-01-2015              10.00  Entertainment  \n",
       "1              venture  06-10-2015              15.00  Entertainment  \n",
       "2              venture  07-05-2013               5.80  Entertainment  \n",
       "3              venture  26-03-2014              18.00  Entertainment  \n",
       "4  equity_crowdfunding  26-03-2014               1.09  Entertainment  "
      ]
     },
     "execution_count": 73,
     "metadata": {},
     "output_type": "execute_result"
    }
   ],
   "source": [
    "master_frame.head()"
   ]
  },
  {
   "cell_type": "markdown",
   "metadata": {},
   "source": [
    "## Univariate Analysis "
   ]
  },
  {
   "cell_type": "code",
   "execution_count": 74,
   "metadata": {},
   "outputs": [
    {
     "data": {
      "text/plain": [
       "Others                                     24.478659\n",
       "Social, Finance, Analytics, Advertising    18.295408\n",
       "Cleantech / Semiconductors                 17.534849\n",
       "News, Search and Messaging                 15.048214\n",
       "Health                                      8.256269\n",
       "Entertainment                               7.294458\n",
       "Manufacturing                               6.927759\n",
       "Automotive & Sports                         2.164385\n",
       "Name: sector, dtype: float64"
      ]
     },
     "execution_count": 74,
     "metadata": {},
     "output_type": "execute_result"
    }
   ],
   "source": [
    "#Sector Distribution\n",
    "master_frame.sector.value_counts(normalize=True)*100"
   ]
  },
  {
   "cell_type": "code",
   "execution_count": 75,
   "metadata": {},
   "outputs": [
    {
     "data": {
      "text/plain": [
       "USA    69.660341\n",
       "GBR     5.639994\n",
       "CAN     2.969392\n",
       "CHN     2.086600\n",
       "IND     1.793982\n",
       "FRA     1.693974\n",
       "ISR     1.560629\n",
       "ESP     1.254429\n",
       "DEU     1.165533\n",
       "AUS     0.743274\n",
       "RUS     0.644500\n",
       "SWE     0.629684\n",
       "IRL     0.614868\n",
       "SGP     0.590174\n",
       "NLD     0.579062\n",
       "Name: country_code, dtype: float64"
      ]
     },
     "execution_count": 75,
     "metadata": {},
     "output_type": "execute_result"
    }
   ],
   "source": [
    "#Country Distribution\n",
    "(master_frame.country_code.value_counts(normalize=True)*100).head(15)"
   ]
  },
  {
   "cell_type": "code",
   "execution_count": 76,
   "metadata": {
    "scrolled": true
   },
   "outputs": [
    {
     "data": {
      "text/plain": [
       "venture                  54.599780\n",
       "seed                     23.742793\n",
       "debt_financing            7.331498\n",
       "angel                     4.949810\n",
       "grant                     2.227353\n",
       "private_equity            1.638413\n",
       "undisclosed               1.508772\n",
       "convertible_note          1.484079\n",
       "equity_crowdfunding       1.279123\n",
       "post_ipo_equity           0.607460\n",
       "product_crowdfunding      0.397565\n",
       "post_ipo_debt             0.139518\n",
       "non_equity_assistance     0.071611\n",
       "secondary_market          0.022224\n",
       "Name: funding_round_type, dtype: float64"
      ]
     },
     "execution_count": 76,
     "metadata": {},
     "output_type": "execute_result"
    }
   ],
   "source": [
    "#Funding Round Distribution\n",
    "master_frame.funding_round_type.value_counts(normalize=True)*100"
   ]
  },
  {
   "cell_type": "code",
   "execution_count": 77,
   "metadata": {
    "scrolled": false
   },
   "outputs": [
    {
     "data": {
      "text/plain": [
       "operating    77.843764\n",
       "acquired     11.120714\n",
       "closed        6.611682\n",
       "ipo           4.423839\n",
       "Name: status, dtype: float64"
      ]
     },
     "execution_count": 77,
     "metadata": {},
     "output_type": "execute_result"
    }
   ],
   "source": [
    "#Company status Distribution\n",
    "master_frame.status.value_counts(normalize=True)*100"
   ]
  },
  {
   "cell_type": "code",
   "execution_count": 78,
   "metadata": {
    "scrolled": false
   },
   "outputs": [
    {
     "data": {
      "text/plain": [
       "count    80993.000000\n",
       "mean         6.247229\n",
       "std         11.352483\n",
       "min          0.000000\n",
       "25%          0.350000\n",
       "50%          1.700000\n",
       "75%          7.000000\n",
       "max         99.800000\n",
       "Name: raised_amount_usd, dtype: float64"
      ]
     },
     "execution_count": 78,
     "metadata": {},
     "output_type": "execute_result"
    }
   ],
   "source": [
    "#raised_amount_usd Distribution\n",
    "master_frame.raised_amount_usd.describe()"
   ]
  },
  {
   "cell_type": "code",
   "execution_count": 79,
   "metadata": {},
   "outputs": [
    {
     "data": {
      "text/plain": [
       "29.505018952255135"
      ]
     },
     "execution_count": 79,
     "metadata": {},
     "output_type": "execute_result"
    }
   ],
   "source": [
    "#Percentage investment between 3m and 15m\n",
    "(master_frame.raised_amount_usd.loc[(master_frame.raised_amount_usd>=3) & \n",
    "                                    (master_frame.raised_amount_usd<=15)].count()/len(master_frame))*100"
   ]
  },
  {
   "cell_type": "markdown",
   "metadata": {},
   "source": [
    "#### Take Aways\n",
    "1. Most investors invests in USA.\n",
    "2. More than 50 percent of companies has raised \"venture\" type funding.\n",
    "3. Around 77 percent companies are operating currently. And about 6 percent are closed.\n",
    "4. About 50 percent fundings has value ranging between .35 million and 7 million USD.\n",
    "5. Reprsentative funding amount is 1.7 million USD\n",
    "6. Most favourable sectors for investment are (Social, Finance, Analytics, Advertising), Others and Cleantech / Semiconductors.\n",
    "7. 29.5 percent investments are in range 3 million and 15 million"
   ]
  },
  {
   "cell_type": "markdown",
   "metadata": {},
   "source": [
    "## Bivariate Analysis"
   ]
  },
  {
   "cell_type": "code",
   "execution_count": 80,
   "metadata": {},
   "outputs": [],
   "source": [
    "#To identify representative investment under all funding round type\n",
    "amount_round=pd.pivot_table(master_frame, values ='raised_amount_usd', \n",
    "                            index =['funding_round_type'], aggfunc = np.median)"
   ]
  },
  {
   "cell_type": "code",
   "execution_count": 81,
   "metadata": {},
   "outputs": [],
   "source": [
    "funding_type_median=amount_round.sort_values(by=\"raised_amount_usd\",ascending=False)"
   ]
  },
  {
   "cell_type": "code",
   "execution_count": 82,
   "metadata": {},
   "outputs": [
    {
     "data": {
      "text/html": [
       "<div>\n",
       "<style scoped>\n",
       "    .dataframe tbody tr th:only-of-type {\n",
       "        vertical-align: middle;\n",
       "    }\n",
       "\n",
       "    .dataframe tbody tr th {\n",
       "        vertical-align: top;\n",
       "    }\n",
       "\n",
       "    .dataframe thead th {\n",
       "        text-align: right;\n",
       "    }\n",
       "</style>\n",
       "<table border=\"1\" class=\"dataframe\">\n",
       "  <thead>\n",
       "    <tr style=\"text-align: right;\">\n",
       "      <th></th>\n",
       "      <th>raised_amount_usd</th>\n",
       "    </tr>\n",
       "    <tr>\n",
       "      <th>funding_round_type</th>\n",
       "      <th></th>\n",
       "    </tr>\n",
       "  </thead>\n",
       "  <tbody>\n",
       "    <tr>\n",
       "      <th>secondary_market</th>\n",
       "      <td>19.650000</td>\n",
       "    </tr>\n",
       "    <tr>\n",
       "      <th>private_equity</th>\n",
       "      <td>12.000000</td>\n",
       "    </tr>\n",
       "    <tr>\n",
       "      <th>post_ipo_equity</th>\n",
       "      <td>10.000000</td>\n",
       "    </tr>\n",
       "    <tr>\n",
       "      <th>post_ipo_debt</th>\n",
       "      <td>9.500000</td>\n",
       "    </tr>\n",
       "    <tr>\n",
       "      <th>venture</th>\n",
       "      <td>5.000000</td>\n",
       "    </tr>\n",
       "    <tr>\n",
       "      <th>undisclosed</th>\n",
       "      <td>1.031499</td>\n",
       "    </tr>\n",
       "    <tr>\n",
       "      <th>debt_financing</th>\n",
       "      <td>1.000000</td>\n",
       "    </tr>\n",
       "    <tr>\n",
       "      <th>angel</th>\n",
       "      <td>0.410000</td>\n",
       "    </tr>\n",
       "    <tr>\n",
       "      <th>convertible_note</th>\n",
       "      <td>0.300000</td>\n",
       "    </tr>\n",
       "    <tr>\n",
       "      <th>seed</th>\n",
       "      <td>0.300000</td>\n",
       "    </tr>\n",
       "    <tr>\n",
       "      <th>grant</th>\n",
       "      <td>0.223975</td>\n",
       "    </tr>\n",
       "    <tr>\n",
       "      <th>product_crowdfunding</th>\n",
       "      <td>0.200000</td>\n",
       "    </tr>\n",
       "    <tr>\n",
       "      <th>equity_crowdfunding</th>\n",
       "      <td>0.088969</td>\n",
       "    </tr>\n",
       "    <tr>\n",
       "      <th>non_equity_assistance</th>\n",
       "      <td>0.060000</td>\n",
       "    </tr>\n",
       "  </tbody>\n",
       "</table>\n",
       "</div>"
      ],
      "text/plain": [
       "                       raised_amount_usd\n",
       "funding_round_type                      \n",
       "secondary_market               19.650000\n",
       "private_equity                 12.000000\n",
       "post_ipo_equity                10.000000\n",
       "post_ipo_debt                   9.500000\n",
       "venture                         5.000000\n",
       "undisclosed                     1.031499\n",
       "debt_financing                  1.000000\n",
       "angel                           0.410000\n",
       "convertible_note                0.300000\n",
       "seed                            0.300000\n",
       "grant                           0.223975\n",
       "product_crowdfunding            0.200000\n",
       "equity_crowdfunding             0.088969\n",
       "non_equity_assistance           0.060000"
      ]
     },
     "execution_count": 82,
     "metadata": {},
     "output_type": "execute_result"
    }
   ],
   "source": [
    "funding_type_median"
   ]
  },
  {
   "cell_type": "code",
   "execution_count": 83,
   "metadata": {},
   "outputs": [],
   "source": [
    "funding_type_median.reset_index(level=0, inplace=True)"
   ]
  },
  {
   "cell_type": "code",
   "execution_count": 84,
   "metadata": {
    "scrolled": false
   },
   "outputs": [
    {
     "data": {
      "text/plain": [
       "Text(0.5, 1.0, 'Representative Investment Amount per Funding Type')"
      ]
     },
     "execution_count": 84,
     "metadata": {},
     "output_type": "execute_result"
    },
    {
     "data": {
      "image/png": "[encoded data removed]",
      "text/plain": [
       "<Figure size 720x720 with 1 Axes>"
      ]
     },
     "metadata": {},
     "output_type": "display_data"
    }
   ],
   "source": [
    "sns.set_style=(\"whitegrid\")\n",
    "sns.set(rc={'figure.figsize':(10,10)})\n",
    "chart=sns.barplot(x=\"funding_round_type\",y=\"raised_amount_usd\",data=funding_type_median,palette='Set1')\n",
    "chart.set_xticklabels(chart.get_xticklabels(), rotation=45, horizontalalignment='right')\n",
    "plt.xlabel('Funding Type', fontsize=18)\n",
    "plt.ylabel('Representative Investment Amount', fontsize=16)\n",
    "plt.title(\"Representative Investment Amount per Funding Type\",fontsize=16)"
   ]
  },
  {
   "cell_type": "markdown",
   "metadata": {},
   "source": [
    "private_equity, venture, post_ipo_debt and post_ipo_equity are having representative investment amount between 3 and 15 USD. But, more than 50 percent of companies has raised \"venture\" type funding. Hence we will choose venture as investment type."
   ]
  },
  {
   "cell_type": "code",
   "execution_count": 85,
   "metadata": {},
   "outputs": [],
   "source": [
    "#Keeping only venture type records in data set.\n",
    "master_frame=master_frame.loc[master_frame.funding_round_type=='venture']"
   ]
  },
  {
   "cell_type": "code",
   "execution_count": 86,
   "metadata": {
    "scrolled": false
   },
   "outputs": [
    {
     "data": {
      "text/plain": [
       "(44222, 10)"
      ]
     },
     "execution_count": 86,
     "metadata": {},
     "output_type": "execute_result"
    }
   ],
   "source": [
    "master_frame.shape"
   ]
  },
  {
   "cell_type": "code",
   "execution_count": 87,
   "metadata": {},
   "outputs": [],
   "source": [
    "#To identify top 9 countries with highest funding amount\n",
    "highest_round_country=pd.pivot_table(master_frame, values ='raised_amount_usd', \n",
    "                                     index =['country_code'], aggfunc = np.sum)"
   ]
  },
  {
   "cell_type": "code",
   "execution_count": 88,
   "metadata": {
    "scrolled": true
   },
   "outputs": [],
   "source": [
    "#Top 9 countries with highest funding amount\n",
    "top9=highest_round_country.sort_values(by=\"raised_amount_usd\",ascending=False).head(9)"
   ]
  },
  {
   "cell_type": "code",
   "execution_count": 89,
   "metadata": {
    "scrolled": true
   },
   "outputs": [
    {
     "data": {
      "text/html": [
       "<div>\n",
       "<style scoped>\n",
       "    .dataframe tbody tr th:only-of-type {\n",
       "        vertical-align: middle;\n",
       "    }\n",
       "\n",
       "    .dataframe tbody tr th {\n",
       "        vertical-align: top;\n",
       "    }\n",
       "\n",
       "    .dataframe thead th {\n",
       "        text-align: right;\n",
       "    }\n",
       "</style>\n",
       "<table border=\"1\" class=\"dataframe\">\n",
       "  <thead>\n",
       "    <tr style=\"text-align: right;\">\n",
       "      <th></th>\n",
       "      <th>raised_amount_usd</th>\n",
       "    </tr>\n",
       "    <tr>\n",
       "      <th>country_code</th>\n",
       "      <th></th>\n",
       "    </tr>\n",
       "  </thead>\n",
       "  <tbody>\n",
       "    <tr>\n",
       "      <th>USA</th>\n",
       "      <td>310894.274778</td>\n",
       "    </tr>\n",
       "    <tr>\n",
       "      <th>CHN</th>\n",
       "      <td>19530.436127</td>\n",
       "    </tr>\n",
       "    <tr>\n",
       "      <th>GBR</th>\n",
       "      <td>15995.494685</td>\n",
       "    </tr>\n",
       "    <tr>\n",
       "      <th>IND</th>\n",
       "      <td>8867.281237</td>\n",
       "    </tr>\n",
       "    <tr>\n",
       "      <th>CAN</th>\n",
       "      <td>8550.620524</td>\n",
       "    </tr>\n",
       "    <tr>\n",
       "      <th>ISR</th>\n",
       "      <td>6370.700477</td>\n",
       "    </tr>\n",
       "    <tr>\n",
       "      <th>FRA</th>\n",
       "      <td>5861.700436</td>\n",
       "    </tr>\n",
       "    <tr>\n",
       "      <th>DEU</th>\n",
       "      <td>4973.133571</td>\n",
       "    </tr>\n",
       "    <tr>\n",
       "      <th>CHE</th>\n",
       "      <td>2731.657869</td>\n",
       "    </tr>\n",
       "  </tbody>\n",
       "</table>\n",
       "</div>"
      ],
      "text/plain": [
       "              raised_amount_usd\n",
       "country_code                   \n",
       "USA               310894.274778\n",
       "CHN                19530.436127\n",
       "GBR                15995.494685\n",
       "IND                 8867.281237\n",
       "CAN                 8550.620524\n",
       "ISR                 6370.700477\n",
       "FRA                 5861.700436\n",
       "DEU                 4973.133571\n",
       "CHE                 2731.657869"
      ]
     },
     "execution_count": 89,
     "metadata": {},
     "output_type": "execute_result"
    }
   ],
   "source": [
    "top9"
   ]
  },
  {
   "cell_type": "code",
   "execution_count": 90,
   "metadata": {},
   "outputs": [],
   "source": [
    "top9.reset_index(level=0, inplace=True)"
   ]
  },
  {
   "cell_type": "code",
   "execution_count": 166,
   "metadata": {},
   "outputs": [
    {
     "data": {
      "text/plain": [
       "Text(0.5, 1.0, 'Total Investment Amount of top 9 countries for venture funding type')"
      ]
     },
     "execution_count": 166,
     "metadata": {},
     "output_type": "execute_result"
    },
    {
     "data": {
      "image/png": "[encoded data removed]",
      "text/plain": [
       "<Figure size 720x720 with 1 Axes>"
      ]
     },
     "metadata": {},
     "output_type": "display_data"
    }
   ],
   "source": [
    "chart=sns.barplot(x=\"country_code\",y=\"raised_amount_usd\",data=top9,palette='Set1')\n",
    "chart.set_xticklabels(chart.get_xticklabels(), rotation=45, horizontalalignment='right')\n",
    "plt.xlabel('Countries', fontsize=18)\n",
    "plt.ylabel('Total Investment Amount', fontsize=16)\n",
    "plt.title(\"Total Investment Amount of top 9 countries for venture funding type\",fontsize=16)"
   ]
  },
  {
   "cell_type": "markdown",
   "metadata": {},
   "source": [
    "Top 3 English speaking countries are USA, GBR and IND"
   ]
  },
  {
   "cell_type": "code",
   "execution_count": 92,
   "metadata": {},
   "outputs": [],
   "source": [
    "#Divinng data based on countries\n",
    "c1=master_frame.loc[master_frame.country_code=='USA']\n",
    "c2=master_frame.loc[master_frame.country_code=='GBR']\n",
    "c3=master_frame.loc[master_frame.country_code=='IND']"
   ]
  },
  {
   "cell_type": "code",
   "execution_count": 93,
   "metadata": {},
   "outputs": [
    {
     "data": {
      "text/plain": [
       "(33229, 10)"
      ]
     },
     "execution_count": 93,
     "metadata": {},
     "output_type": "execute_result"
    }
   ],
   "source": [
    "#Total investments of USA\n",
    "c1.shape"
   ]
  },
  {
   "cell_type": "code",
   "execution_count": 94,
   "metadata": {},
   "outputs": [
    {
     "data": {
      "text/plain": [
       "(1903, 10)"
      ]
     },
     "execution_count": 94,
     "metadata": {},
     "output_type": "execute_result"
    }
   ],
   "source": [
    "#Total investments of GBR\n",
    "c2.shape"
   ]
  },
  {
   "cell_type": "code",
   "execution_count": 95,
   "metadata": {},
   "outputs": [
    {
     "data": {
      "text/plain": [
       "(727, 10)"
      ]
     },
     "execution_count": 95,
     "metadata": {},
     "output_type": "execute_result"
    }
   ],
   "source": [
    "#Total investments of IND\n",
    "c3.shape"
   ]
  },
  {
   "cell_type": "code",
   "execution_count": 96,
   "metadata": {},
   "outputs": [
    {
     "data": {
      "text/plain": [
       "Others                                     8169\n",
       "Cleantech / Semiconductors                 7772\n",
       "Social, Finance, Analytics, Advertising    5105\n",
       "News, Search and Messaging                 4258\n",
       "Health                                     3247\n",
       "Manufacturing                              2439\n",
       "Entertainment                              1744\n",
       "Automotive & Sports                         495\n",
       "Name: sector, dtype: int64"
      ]
     },
     "execution_count": 96,
     "metadata": {},
     "output_type": "execute_result"
    }
   ],
   "source": [
    "#Getting number of investments per sector of USA\n",
    "c1.sector.value_counts()"
   ]
  },
  {
   "cell_type": "code",
   "execution_count": 141,
   "metadata": {
    "scrolled": false
   },
   "outputs": [
    {
     "data": {
      "text/plain": [
       "{'Cleantech / Semiconductors',\n",
       " 'Others',\n",
       " 'Social, Finance, Analytics, Advertising'}"
      ]
     },
     "execution_count": 141,
     "metadata": {},
     "output_type": "execute_result"
    }
   ],
   "source": [
    "#Getting top 3 sectors of USA\n",
    "top_sector_c1 = set(pd.DataFrame(c1.sector.value_counts().head(3)).index)\n",
    "top_sector_c1"
   ]
  },
  {
   "cell_type": "code",
   "execution_count": 98,
   "metadata": {
    "scrolled": true
   },
   "outputs": [
    {
     "data": {
      "text/plain": [
       "Others                                     505\n",
       "Cleantech / Semiconductors                 430\n",
       "Social, Finance, Analytics, Advertising    315\n",
       "News, Search and Messaging                 238\n",
       "Entertainment                              132\n",
       "Manufacturing                              121\n",
       "Health                                     118\n",
       "Automotive & Sports                         44\n",
       "Name: sector, dtype: int64"
      ]
     },
     "execution_count": 98,
     "metadata": {},
     "output_type": "execute_result"
    }
   ],
   "source": [
    "#Getting number of investments per sector of GBR\n",
    "c2.sector.value_counts()"
   ]
  },
  {
   "cell_type": "code",
   "execution_count": 139,
   "metadata": {},
   "outputs": [
    {
     "data": {
      "text/plain": [
       "{'Cleantech / Semiconductors',\n",
       " 'Others',\n",
       " 'Social, Finance, Analytics, Advertising'}"
      ]
     },
     "execution_count": 139,
     "metadata": {},
     "output_type": "execute_result"
    }
   ],
   "source": [
    "#Getting top 3 sectors of GBR\n",
    "top_sector_c2 = set(pd.DataFrame(c2.sector.value_counts().head(3)).index)\n",
    "top_sector_c2"
   ]
  },
  {
   "cell_type": "code",
   "execution_count": 100,
   "metadata": {},
   "outputs": [
    {
     "data": {
      "text/plain": [
       "Others                                     270\n",
       "News, Search and Messaging                 129\n",
       "Social, Finance, Analytics, Advertising     76\n",
       "Entertainment                               75\n",
       "Manufacturing                               54\n",
       "Cleantech / Semiconductors                  53\n",
       "Health                                      42\n",
       "Automotive & Sports                         28\n",
       "Name: sector, dtype: int64"
      ]
     },
     "execution_count": 100,
     "metadata": {},
     "output_type": "execute_result"
    }
   ],
   "source": [
    "#Getting number of investments per sector of IND\n",
    "c3.sector.value_counts()"
   ]
  },
  {
   "cell_type": "code",
   "execution_count": 140,
   "metadata": {
    "scrolled": false
   },
   "outputs": [
    {
     "data": {
      "text/plain": [
       "{'News, Search and Messaging',\n",
       " 'Others',\n",
       " 'Social, Finance, Analytics, Advertising'}"
      ]
     },
     "execution_count": 140,
     "metadata": {},
     "output_type": "execute_result"
    }
   ],
   "source": [
    "#Getting top 3 sectors of IND\n",
    "top_sector_c3 = set(pd.DataFrame(c3.sector.value_counts().head(3)).index)\n",
    "top_sector_c3"
   ]
  },
  {
   "cell_type": "code",
   "execution_count": 144,
   "metadata": {},
   "outputs": [
    {
     "data": {
      "text/plain": [
       "['Others',\n",
       " 'Cleantech / Semiconductors',\n",
       " 'News, Search and Messaging',\n",
       " 'Social, Finance, Analytics, Advertising']"
      ]
     },
     "execution_count": 144,
     "metadata": {},
     "output_type": "execute_result"
    }
   ],
   "source": [
    "top_sectors=list(top_sector_c1.union(top_sector_c2, top_sector_c3))\n",
    "top_sectors"
   ]
  },
  {
   "cell_type": "code",
   "execution_count": 121,
   "metadata": {},
   "outputs": [],
   "source": [
    "pivot_count = master_frame.pivot_table(values=\"permalink\", index=\"country_code\", columns=\"sector\", aggfunc=pd.Series.count)"
   ]
  },
  {
   "cell_type": "code",
   "execution_count": 146,
   "metadata": {},
   "outputs": [
    {
     "data": {
      "text/html": [
       "<div>\n",
       "<style scoped>\n",
       "    .dataframe tbody tr th:only-of-type {\n",
       "        vertical-align: middle;\n",
       "    }\n",
       "\n",
       "    .dataframe tbody tr th {\n",
       "        vertical-align: top;\n",
       "    }\n",
       "\n",
       "    .dataframe thead th {\n",
       "        text-align: right;\n",
       "    }\n",
       "</style>\n",
       "<table border=\"1\" class=\"dataframe\">\n",
       "  <thead>\n",
       "    <tr style=\"text-align: right;\">\n",
       "      <th>sector</th>\n",
       "      <th>Others</th>\n",
       "      <th>Cleantech / Semiconductors</th>\n",
       "      <th>News, Search and Messaging</th>\n",
       "      <th>Social, Finance, Analytics, Advertising</th>\n",
       "    </tr>\n",
       "    <tr>\n",
       "      <th>country_code</th>\n",
       "      <th></th>\n",
       "      <th></th>\n",
       "      <th></th>\n",
       "      <th></th>\n",
       "    </tr>\n",
       "  </thead>\n",
       "  <tbody>\n",
       "    <tr>\n",
       "      <th>USA</th>\n",
       "      <td>8169.0</td>\n",
       "      <td>7772.0</td>\n",
       "      <td>4258.0</td>\n",
       "      <td>5105.0</td>\n",
       "    </tr>\n",
       "    <tr>\n",
       "      <th>GBR</th>\n",
       "      <td>505.0</td>\n",
       "      <td>430.0</td>\n",
       "      <td>238.0</td>\n",
       "      <td>315.0</td>\n",
       "    </tr>\n",
       "    <tr>\n",
       "      <th>IND</th>\n",
       "      <td>270.0</td>\n",
       "      <td>53.0</td>\n",
       "      <td>129.0</td>\n",
       "      <td>76.0</td>\n",
       "    </tr>\n",
       "  </tbody>\n",
       "</table>\n",
       "</div>"
      ],
      "text/plain": [
       "sector        Others  Cleantech / Semiconductors  News, Search and Messaging  \\\n",
       "country_code                                                                   \n",
       "USA           8169.0                      7772.0                      4258.0   \n",
       "GBR            505.0                       430.0                       238.0   \n",
       "IND            270.0                        53.0                       129.0   \n",
       "\n",
       "sector        Social, Finance, Analytics, Advertising  \n",
       "country_code                                           \n",
       "USA                                            5105.0  \n",
       "GBR                                             315.0  \n",
       "IND                                              76.0  "
      ]
     },
     "execution_count": 146,
     "metadata": {},
     "output_type": "execute_result"
    }
   ],
   "source": [
    "sector_details = pivot_count.loc[[\"USA\",\"GBR\",\"IND\"],top_sectors]\n",
    "sector_details"
   ]
  },
  {
   "cell_type": "code",
   "execution_count": 165,
   "metadata": {},
   "outputs": [
    {
     "data": {
      "text/plain": [
       "Text(0.5, 1.0, 'Heat Map of Top 3 Englist countries with top sectors')"
      ]
     },
     "execution_count": 165,
     "metadata": {},
     "output_type": "execute_result"
    },
    {
     "data": {
      "image/png": "[encoded data removed]",
      "text/plain": [
       "<Figure size 720x720 with 2 Axes>"
      ]
     },
     "metadata": {},
     "output_type": "display_data"
    }
   ],
   "source": [
    "#To generate head map\n",
    "sns.heatmap(sector_details,cmap=\"Greens\")\n",
    "plt.xlabel('Sectors', fontsize=18)\n",
    "plt.ylabel('Countries', fontsize=16)\n",
    "plt.title(\"Heat Map of Top 3 Englist countries with top sectors\",fontsize=16)"
   ]
  },
  {
   "cell_type": "code",
   "execution_count": 102,
   "metadata": {},
   "outputs": [
    {
     "data": {
      "text/html": [
       "<div>\n",
       "<style scoped>\n",
       "    .dataframe tbody tr th:only-of-type {\n",
       "        vertical-align: middle;\n",
       "    }\n",
       "\n",
       "    .dataframe tbody tr th {\n",
       "        vertical-align: top;\n",
       "    }\n",
       "\n",
       "    .dataframe thead th {\n",
       "        text-align: right;\n",
       "    }\n",
       "</style>\n",
       "<table border=\"1\" class=\"dataframe\">\n",
       "  <thead>\n",
       "    <tr style=\"text-align: right;\">\n",
       "      <th></th>\n",
       "      <th></th>\n",
       "      <th></th>\n",
       "      <th>raised_amount_usd</th>\n",
       "    </tr>\n",
       "    <tr>\n",
       "      <th>sector</th>\n",
       "      <th>name</th>\n",
       "      <th>permalink</th>\n",
       "      <th></th>\n",
       "    </tr>\n",
       "  </thead>\n",
       "  <tbody>\n",
       "    <tr>\n",
       "      <th rowspan=\"2\" valign=\"top\">Social, Finance, Analytics, Advertising</th>\n",
       "      <th>appnexus</th>\n",
       "      <th>/organization/appnexus</th>\n",
       "      <td>285.671856</td>\n",
       "    </tr>\n",
       "    <tr>\n",
       "      <th>stripe</th>\n",
       "      <th>/organization/stripe</th>\n",
       "      <td>278.000000</td>\n",
       "    </tr>\n",
       "    <tr>\n",
       "      <th rowspan=\"2\" valign=\"top\">Cleantech / Semiconductors</th>\n",
       "      <th>alien technology</th>\n",
       "      <th>/organization/alien-technology</th>\n",
       "      <td>265.000000</td>\n",
       "    </tr>\n",
       "    <tr>\n",
       "      <th>relypsa</th>\n",
       "      <th>/organization/relypsa</th>\n",
       "      <td>255.729847</td>\n",
       "    </tr>\n",
       "    <tr>\n",
       "      <th>Others</th>\n",
       "      <th>force10 networks</th>\n",
       "      <th>/organization/force10-networks</th>\n",
       "      <td>255.067782</td>\n",
       "    </tr>\n",
       "    <tr>\n",
       "      <th>...</th>\n",
       "      <th>...</th>\n",
       "      <th>...</th>\n",
       "      <td>...</td>\n",
       "    </tr>\n",
       "    <tr>\n",
       "      <th rowspan=\"3\" valign=\"top\">Social, Finance, Analytics, Advertising</th>\n",
       "      <th>linkmeglobal</th>\n",
       "      <th>/organization/linkmeglobal</th>\n",
       "      <td>0.001000</td>\n",
       "    </tr>\n",
       "    <tr>\n",
       "      <th>sevenlunches</th>\n",
       "      <th>/organization/sevenlunches</th>\n",
       "      <td>0.000291</td>\n",
       "    </tr>\n",
       "    <tr>\n",
       "      <th>sentic technologies inc</th>\n",
       "      <th>/organization/sentic-technologies-inc</th>\n",
       "      <td>0.000001</td>\n",
       "    </tr>\n",
       "    <tr>\n",
       "      <th>Others</th>\n",
       "      <th>promisec</th>\n",
       "      <th>/organization/promisec</th>\n",
       "      <td>0.000000</td>\n",
       "    </tr>\n",
       "    <tr>\n",
       "      <th>Cleantech / Semiconductors</th>\n",
       "      <th>cosmosid</th>\n",
       "      <th>/organization/cosmosid</th>\n",
       "      <td>0.000000</td>\n",
       "    </tr>\n",
       "  </tbody>\n",
       "</table>\n",
       "<p>11074 rows × 1 columns</p>\n",
       "</div>"
      ],
      "text/plain": [
       "                                                                                                       raised_amount_usd\n",
       "sector                                  name                    permalink                                               \n",
       "Social, Finance, Analytics, Advertising appnexus                /organization/appnexus                        285.671856\n",
       "                                        stripe                  /organization/stripe                          278.000000\n",
       "Cleantech / Semiconductors              alien technology        /organization/alien-technology                265.000000\n",
       "                                        relypsa                 /organization/relypsa                         255.729847\n",
       "Others                                  force10 networks        /organization/force10-networks                255.067782\n",
       "...                                                                                                                  ...\n",
       "Social, Finance, Analytics, Advertising linkmeglobal            /organization/linkmeglobal                      0.001000\n",
       "                                        sevenlunches            /organization/sevenlunches                      0.000291\n",
       "                                        sentic technologies inc /organization/sentic-technologies-inc           0.000001\n",
       "Others                                  promisec                /organization/promisec                          0.000000\n",
       "Cleantech / Semiconductors              cosmosid                /organization/cosmosid                          0.000000\n",
       "\n",
       "[11074 rows x 1 columns]"
      ]
     },
     "execution_count": 102,
     "metadata": {},
     "output_type": "execute_result"
    }
   ],
   "source": [
    "#Getting company having maximum investments in top 3 sectors of USA\n",
    "pd.pivot_table(c1.loc[c1.sector.isin(top_sector_c1)], values ='raised_amount_usd', \n",
    "               index =[\"sector\",\"name\",'permalink'], aggfunc = np.sum).sort_values(by=\"raised_amount_usd\",\n",
    "                                                                                   ascending=False)"
   ]
  },
  {
   "cell_type": "code",
   "execution_count": 103,
   "metadata": {
    "scrolled": true
   },
   "outputs": [
    {
     "data": {
      "text/html": [
       "<div>\n",
       "<style scoped>\n",
       "    .dataframe tbody tr th:only-of-type {\n",
       "        vertical-align: middle;\n",
       "    }\n",
       "\n",
       "    .dataframe tbody tr th {\n",
       "        vertical-align: top;\n",
       "    }\n",
       "\n",
       "    .dataframe thead th {\n",
       "        text-align: right;\n",
       "    }\n",
       "</style>\n",
       "<table border=\"1\" class=\"dataframe\">\n",
       "  <thead>\n",
       "    <tr style=\"text-align: right;\">\n",
       "      <th></th>\n",
       "      <th></th>\n",
       "      <th></th>\n",
       "      <th>raised_amount_usd</th>\n",
       "    </tr>\n",
       "    <tr>\n",
       "      <th>sector</th>\n",
       "      <th>name</th>\n",
       "      <th>permalink</th>\n",
       "      <th></th>\n",
       "    </tr>\n",
       "  </thead>\n",
       "  <tbody>\n",
       "    <tr>\n",
       "      <th>Others</th>\n",
       "      <th>farfetch</th>\n",
       "      <th>/organization/farfetch</th>\n",
       "      <td>194.500000</td>\n",
       "    </tr>\n",
       "    <tr>\n",
       "      <th>Social, Finance, Analytics, Advertising</th>\n",
       "      <th>powa technologies</th>\n",
       "      <th>/organization/powa-technologies</th>\n",
       "      <td>176.700000</td>\n",
       "    </tr>\n",
       "    <tr>\n",
       "      <th rowspan=\"3\" valign=\"top\">Cleantech / Semiconductors</th>\n",
       "      <th>circassia</th>\n",
       "      <th>/organization/circassia</th>\n",
       "      <td>144.630999</td>\n",
       "    </tr>\n",
       "    <tr>\n",
       "      <th>biovex</th>\n",
       "      <th>/organization/biovex</th>\n",
       "      <td>133.314585</td>\n",
       "    </tr>\n",
       "    <tr>\n",
       "      <th>kymab</th>\n",
       "      <th>/organization/kymab</th>\n",
       "      <td>120.400000</td>\n",
       "    </tr>\n",
       "    <tr>\n",
       "      <th>...</th>\n",
       "      <th>...</th>\n",
       "      <th>...</th>\n",
       "      <td>...</td>\n",
       "    </tr>\n",
       "    <tr>\n",
       "      <th>Social, Finance, Analytics, Advertising</th>\n",
       "      <th>paperfold</th>\n",
       "      <th>/organization/paperfold</th>\n",
       "      <td>0.056695</td>\n",
       "    </tr>\n",
       "    <tr>\n",
       "      <th>Others</th>\n",
       "      <th>socii</th>\n",
       "      <th>/organization/socii</th>\n",
       "      <td>0.054000</td>\n",
       "    </tr>\n",
       "    <tr>\n",
       "      <th rowspan=\"2\" valign=\"top\">Social, Finance, Analytics, Advertising</th>\n",
       "      <th>scaleogy</th>\n",
       "      <th>/organization/scaleogy</th>\n",
       "      <td>0.050000</td>\n",
       "    </tr>\n",
       "    <tr>\n",
       "      <th>adwings</th>\n",
       "      <th>/organization/adwings</th>\n",
       "      <td>0.024997</td>\n",
       "    </tr>\n",
       "    <tr>\n",
       "      <th>Others</th>\n",
       "      <th>cloud 66</th>\n",
       "      <th>/organization/cloudblocks</th>\n",
       "      <td>0.022414</td>\n",
       "    </tr>\n",
       "  </tbody>\n",
       "</table>\n",
       "<p>825 rows × 1 columns</p>\n",
       "</div>"
      ],
      "text/plain": [
       "                                                                                           raised_amount_usd\n",
       "sector                                  name              permalink                                         \n",
       "Others                                  farfetch          /organization/farfetch                  194.500000\n",
       "Social, Finance, Analytics, Advertising powa technologies /organization/powa-technologies         176.700000\n",
       "Cleantech / Semiconductors              circassia         /organization/circassia                 144.630999\n",
       "                                        biovex            /organization/biovex                    133.314585\n",
       "                                        kymab             /organization/kymab                     120.400000\n",
       "...                                                                                                      ...\n",
       "Social, Finance, Analytics, Advertising paperfold         /organization/paperfold                   0.056695\n",
       "Others                                  socii             /organization/socii                       0.054000\n",
       "Social, Finance, Analytics, Advertising scaleogy          /organization/scaleogy                    0.050000\n",
       "                                        adwings           /organization/adwings                     0.024997\n",
       "Others                                  cloud 66          /organization/cloudblocks                 0.022414\n",
       "\n",
       "[825 rows x 1 columns]"
      ]
     },
     "execution_count": 103,
     "metadata": {},
     "output_type": "execute_result"
    }
   ],
   "source": [
    "#Getting company having maximum investments in top 3 sectors of GBR\n",
    "pd.pivot_table(c2.loc[c2.sector.isin(top_sector_c2)], values ='raised_amount_usd', \n",
    "               index =[\"sector\",\"name\",'permalink'], aggfunc = np.sum).sort_values(by=\"raised_amount_usd\",\n",
    "                                                                                   ascending=False)"
   ]
  },
  {
   "cell_type": "code",
   "execution_count": 138,
   "metadata": {
    "scrolled": false
   },
   "outputs": [
    {
     "data": {
      "text/html": [
       "<div>\n",
       "<style scoped>\n",
       "    .dataframe tbody tr th:only-of-type {\n",
       "        vertical-align: middle;\n",
       "    }\n",
       "\n",
       "    .dataframe tbody tr th {\n",
       "        vertical-align: top;\n",
       "    }\n",
       "\n",
       "    .dataframe thead th {\n",
       "        text-align: right;\n",
       "    }\n",
       "</style>\n",
       "<table border=\"1\" class=\"dataframe\">\n",
       "  <thead>\n",
       "    <tr style=\"text-align: right;\">\n",
       "      <th></th>\n",
       "      <th></th>\n",
       "      <th></th>\n",
       "      <th>raised_amount_usd</th>\n",
       "    </tr>\n",
       "    <tr>\n",
       "      <th>sector</th>\n",
       "      <th>name</th>\n",
       "      <th>permalink</th>\n",
       "      <th></th>\n",
       "    </tr>\n",
       "  </thead>\n",
       "  <tbody>\n",
       "    <tr>\n",
       "      <th>News, Search and Messaging</th>\n",
       "      <th>quikr</th>\n",
       "      <th>/organization/quikr-india</th>\n",
       "      <td>196.000</td>\n",
       "    </tr>\n",
       "    <tr>\n",
       "      <th rowspan=\"3\" valign=\"top\">Others</th>\n",
       "      <th>snapdeal</th>\n",
       "      <th>/organization/snapdeal</th>\n",
       "      <td>177.000</td>\n",
       "    </tr>\n",
       "    <tr>\n",
       "      <th>myntra</th>\n",
       "      <th>/organization/myntra</th>\n",
       "      <td>158.750</td>\n",
       "    </tr>\n",
       "    <tr>\n",
       "      <th>delhivery</th>\n",
       "      <th>/organization/delhivery</th>\n",
       "      <td>127.500</td>\n",
       "    </tr>\n",
       "    <tr>\n",
       "      <th>News, Search and Messaging</th>\n",
       "      <th>freecharge</th>\n",
       "      <th>/organization/freecharge</th>\n",
       "      <td>113.000</td>\n",
       "    </tr>\n",
       "    <tr>\n",
       "      <th>...</th>\n",
       "      <th>...</th>\n",
       "      <th>...</th>\n",
       "      <td>...</td>\n",
       "    </tr>\n",
       "    <tr>\n",
       "      <th rowspan=\"3\" valign=\"top\">Others</th>\n",
       "      <th>sudiksha</th>\n",
       "      <th>/organization/sudiksha</th>\n",
       "      <td>0.075</td>\n",
       "    </tr>\n",
       "    <tr>\n",
       "      <th>experifun</th>\n",
       "      <th>/organization/experifun</th>\n",
       "      <td>0.075</td>\n",
       "    </tr>\n",
       "    <tr>\n",
       "      <th>egully</th>\n",
       "      <th>/organization/egully</th>\n",
       "      <td>0.050</td>\n",
       "    </tr>\n",
       "    <tr>\n",
       "      <th>News, Search and Messaging</th>\n",
       "      <th>zify - instant carpooling app</th>\n",
       "      <th>/organization/zify</th>\n",
       "      <td>0.040</td>\n",
       "    </tr>\n",
       "    <tr>\n",
       "      <th>Social, Finance, Analytics, Advertising</th>\n",
       "      <th>securesight technologies</th>\n",
       "      <th>/organization/securesight-technologies</th>\n",
       "      <td>0.010</td>\n",
       "    </tr>\n",
       "  </tbody>\n",
       "</table>\n",
       "<p>322 rows × 1 columns</p>\n",
       "</div>"
      ],
      "text/plain": [
       "                                                                                                              raised_amount_usd\n",
       "sector                                  name                          permalink                                                \n",
       "News, Search and Messaging              quikr                         /organization/quikr-india                         196.000\n",
       "Others                                  snapdeal                      /organization/snapdeal                            177.000\n",
       "                                        myntra                        /organization/myntra                              158.750\n",
       "                                        delhivery                     /organization/delhivery                           127.500\n",
       "News, Search and Messaging              freecharge                    /organization/freecharge                          113.000\n",
       "...                                                                                                                         ...\n",
       "Others                                  sudiksha                      /organization/sudiksha                              0.075\n",
       "                                        experifun                     /organization/experifun                             0.075\n",
       "                                        egully                        /organization/egully                                0.050\n",
       "News, Search and Messaging              zify - instant carpooling app /organization/zify                                  0.040\n",
       "Social, Finance, Analytics, Advertising securesight technologies      /organization/securesight-technologies              0.010\n",
       "\n",
       "[322 rows x 1 columns]"
      ]
     },
     "execution_count": 138,
     "metadata": {},
     "output_type": "execute_result"
    }
   ],
   "source": [
    "#Getting company having maximum investments in top 3 sectors of IND\n",
    "pd.pivot_table(c3.loc[c3.sector.isin(top_sector_c3)], values ='raised_amount_usd', \n",
    "               index =[\"sector\",\"name\",'permalink'], aggfunc = np.sum).sort_values(by=\"raised_amount_usd\",\n",
    "                                                                                   ascending=False)"
   ]
  },
  {
   "cell_type": "markdown",
   "metadata": {},
   "source": [
    "## Conclusion"
   ]
  },
  {
   "cell_type": "markdown",
   "metadata": {},
   "source": [
    "Country  =  USA\n",
    "<br> Amount = 5 million USD\n",
    "<br> Sector = Cleantech / Semiconductors"
   ]
  }
 ],
 "metadata": {
  "kernelspec": {
   "display_name": "Python 3",
   "language": "python",
   "name": "python3"
  },
  "language_info": {
   "codemirror_mode": {
    "name": "ipython",
    "version": 3
   },
   "file_extension": ".py",
   "mimetype": "text/x-python",
   "name": "python",
   "nbconvert_exporter": "python",
   "pygments_lexer": "ipython3",
   "version": "3.6.9"
  }
 },
 "nbformat": 4,
 "nbformat_minor": 4
}
