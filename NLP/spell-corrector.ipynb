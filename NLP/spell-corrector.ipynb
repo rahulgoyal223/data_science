{
 "cells": [
  {
   "cell_type": "code",
   "execution_count": 1,
   "metadata": {},
   "outputs": [],
   "source": [
    "import re\n",
    "from collections import Counter"
   ]
  },
  {
   "cell_type": "code",
   "execution_count": 2,
   "metadata": {},
   "outputs": [],
   "source": [
    "# function to tokenise words\n",
    "def words(document):\n",
    "    \"Convert text to lower case and tokenise the document\"\n",
    "    return re.findall(r'\\w+', document.lower())"
   ]
  },
  {
   "cell_type": "code",
   "execution_count": 3,
   "metadata": {},
   "outputs": [],
   "source": [
    "# create a frequency table of all the words of the document\n",
    "all_words = Counter(words(open('big.txt').read()))"
   ]
  },
  {
   "cell_type": "code",
   "execution_count": 4,
   "metadata": {},
   "outputs": [
    {
     "data": {
      "text/plain": [
       "135"
      ]
     },
     "execution_count": 4,
     "metadata": {},
     "output_type": "execute_result"
    }
   ],
   "source": [
    "# check frequency of a random word, say, 'chair'\n",
    "all_words['chair']"
   ]
  },
  {
   "cell_type": "code",
   "execution_count": 5,
   "metadata": {},
   "outputs": [
    {
     "data": {
      "text/plain": [
       "[('the', 79809),\n",
       " ('of', 40024),\n",
       " ('and', 38312),\n",
       " ('to', 28765),\n",
       " ('in', 22023),\n",
       " ('a', 21124),\n",
       " ('that', 12512),\n",
       " ('he', 12401),\n",
       " ('was', 11410),\n",
       " ('it', 10681)]"
      ]
     },
     "execution_count": 5,
     "metadata": {},
     "output_type": "execute_result"
    }
   ],
   "source": [
    "# look at top 10 frequent words\n",
    "all_words.most_common(10)"
   ]
  },
  {
   "cell_type": "code",
   "execution_count": 6,
   "metadata": {},
   "outputs": [],
   "source": [
    "def edits_one(word):\n",
    "    \"Create all edits that are one edit away from `word`.\"\n",
    "    alphabets    = 'abcdefghijklmnopqrstuvwxyz'\n",
    "    splits     = [(word[:i], word[i:])                   for i in range(len(word) + 1)]\n",
    "    deletes    = [left + right[1:]                       for left, right in splits if right]\n",
    "    inserts    = [left + c + right                       for left, right in splits for c in alphabets]\n",
    "    replaces   = [left + c + right[1:]                   for left, right in splits if right for c in alphabets]\n",
    "    transposes = [left + right[1] + right[0] + right[2:] for left, right in splits if len(right)>1]\n",
    "    return set(deletes + inserts + replaces + transposes)"
   ]
  },
  {
   "cell_type": "code",
   "execution_count": 22,
   "metadata": {},
   "outputs": [],
   "source": [
    "def edits_two(word):\n",
    "    \"Create all edits that are two edits away from `word`.\"\n",
    "    return set(e2 for e1 in edits_one(word) for e2 in edits_one(e1))"
   ]
  },
  {
   "cell_type": "code",
   "execution_count": 8,
   "metadata": {},
   "outputs": [],
   "source": [
    "def known(words):\n",
    "    \"The subset of `words` that appear in the `all_words`.\"\n",
    "    return set(word for word in words if word in all_words)"
   ]
  },
  {
   "cell_type": "code",
   "execution_count": 9,
   "metadata": {},
   "outputs": [],
   "source": [
    "def possible_corrections(word):\n",
    "    \"Generate possible spelling corrections for word.\"\n",
    "    return (known([word]) or known(edits_one(word)) or known(edits_two(word)) or [word])"
   ]
  },
  {
   "cell_type": "code",
   "execution_count": 10,
   "metadata": {},
   "outputs": [],
   "source": [
    "def prob(word, N=sum(all_words.values())): \n",
    "    \"Probability of `word`: Number of appearances of 'word' / total number of tokens\"\n",
    "    return all_words[word] / N"
   ]
  },
  {
   "cell_type": "code",
   "execution_count": 11,
   "metadata": {},
   "outputs": [
    {
     "name": "stdout",
     "output_type": "stream",
     "text": [
      "336\n",
      "{'monnepy', 'monneyp', 'monfey', 'mponney', 'kmonney', 'ymonney', 'monzey', 'monneyn', 'monnby', 'monneb', 'monnec', 'mowney', 'mzonney', 'msnney', 'monbey', 'monngy', 'moyney', 'smonney', 'monnezy', 'monneyj', 'monnty', 'monneyq', 'nmonney', 'monnwey', 'pmonney', 'monnhey', 'mbnney', 'monqney', 'mpnney', 'montey', 'xmonney', 'monnew', 'gmonney', 'rmonney', 'monneyz', 'monneo', 'mtonney', 'monniey', 'monnpey', 'monneuy', 'monneyu', 'monnet', 'monnes', 'omonney', 'mwnney', 'cmonney', 'mnoney', 'bonney', 'mopney', 'mohnney', 'monnedy', 'konney', 'xonney', 'mobney', 'moenney', 'jmonney', 'mqonney', 'monnjey', 'monneby', 'donney', 'moynney', 'honney', 'monney', 'nonney', 'monneay', 'monnpy', 'monneg', 'monner', 'fmonney', 'monny', 'mxonney', 'moanney', 'monnmey', 'wonney', 'monnley', 'movney', 'monpey', 'monneyf', 'mcnney', 'monneyw', 'monncey', 'monneqy', 'monnvy', 'mnnney', 'monnry', 'monneey', 'mconney', 'oonney', 'mqnney', 'monyey', 'monnuy', 'aonney', 'lonney', 'monmey', 'emonney', 'mononey', 'monneya', 'monnfy', 'monwney', 'mhnney', 'motney', 'monnoey', 'momney', 'monnez', 'monnejy', 'monnen', 'monnexy', 'monneye', 'monnfey', 'mronney', 'mtnney', 'mdnney', 'mondey', 'monneyh', 'moniey', 'monvney', 'modney', 'monngey', 'monnely', 'monnjy', 'monnaey', 'mionney', 'monnecy', 'monnye', 'msonney', 'moneny', 'monnef', 'mocney', 'mofney', 'moqnney', 'monnqy', 'lmonney', 'monneyl', 'mojney', 'mocnney', 'monneyr', 'mrnney', 'monnhy', 'monkey', 'mvonney', 'momnney', 'qonney', 'monnel', 'monjey', 'maonney', 'monneym', 'monnea', 'monhney', 'minney', 'mznney', 'mmnney', 'monley', 'monnvey', 'mohney', 'monnqey', 'moqney', 'moxney', 'moneey', 'monnky', 'monnmy', 'monnesy', 'monneyd', 'uonney', 'monnay', 'mgonney', 'mhonney', 'mfonney', 'monlney', 'monntey', 'monneys', 'monneyv', 'muonney', 'zonney', 'ionney', 'mosney', 'monnny', 'modnney', 'moknney', 'wmonney', 'monneyi', 'myonney', 'monneyk', 'monnek', 'monnrey', 'monnsy', 'mobnney', 'monnev', 'monxney', 'monuey', 'moniney', 'montney', 'monnewy', 'mondney', 'mongney', 'monbney', 'monnegy', 'moneney', 'moaney', 'tmonney', 'monneyc', 'monnee', 'jonney', 'mfnney', 'monnety', 'mojnney', 'monneoy', 'monnwy', 'vonney', 'monnem', 'monnehy', 'monneyo', 'mopnney', 'monneyy', 'yonney', 'meonney', 'moncey', 'mwonney', 'monndey', 'monvey', 'mbonney', 'monaney', 'dmonney', 'monnkey', 'monnefy', 'monneiy', 'monnevy', 'monnei', 'mknney', 'mooney', 'monnej', 'mnonney', 'monnery', 'monneny', 'moinney', 'monnney', 'omnney', 'onney', 'movnney', 'monkney', 'monnex', 'monnyey', 'moonney', 'monyney', 'mkonney', 'monnoy', 'moxnney', 'monneyt', 'monneu', 'fonney', 'menney', 'monnly', 'ponney', 'molney', 'imonney', 'monneq', 'mogney', 'monncy', 'ronney', 'amonney', 'monrney', 'monned', 'mosnney', 'monneky', 'manney', 'zmonney', 'monneh', 'monaey', 'monne', 'monfney', 'sonney', 'monuney', 'tonney', 'monxey', 'monnxy', 'mnney', 'mornney', 'munney', 'monnuey', 'monzney', 'mlonney', 'morney', 'monjney', 'money', 'monsney', 'monnzy', 'mognney', 'motnney', 'mjnney', 'mvnney', 'hmonney', 'monnemy', 'vmonney', 'mozney', 'conney', 'bmonney', 'monqey', 'molnney', 'gonney', 'monwey', 'monneyg', 'mxnney', 'monmney', 'moiney', 'moncney', 'eonney', 'mjonney', 'monoey', 'monneyb', 'monhey', 'monnep', 'mofnney', 'monsey', 'monrey', 'monnxey', 'qmonney', 'monniy', 'monnsey', 'mmonney', 'monneyx', 'mouney', 'monnbey', 'mownney', 'mlnney', 'mynney', 'mongey', 'monnzey', 'mdonney', 'moznney', 'monpney', 'monnyy', 'umonney', 'mgnney', 'moeney', 'mounney', 'monndy', 'mokney'}\n"
     ]
    }
   ],
   "source": [
    "print(len(set(edits_one(\"monney\"))))\n",
    "print(edits_one(\"monney\"))"
   ]
  },
  {
   "cell_type": "code",
   "execution_count": 12,
   "metadata": {},
   "outputs": [
    {
     "name": "stdout",
     "output_type": "stream",
     "text": [
      "{'money', 'monkey'}\n"
     ]
    }
   ],
   "source": [
    "print(known(edits_one(\"monney\")))"
   ]
  },
  {
   "cell_type": "code",
   "execution_count": 13,
   "metadata": {},
   "outputs": [
    {
     "name": "stdout",
     "output_type": "stream",
     "text": [
      "51013\n",
      "{'money', 'monkey'}\n"
     ]
    }
   ],
   "source": [
    "# Let's look at words that are two edits away\n",
    "print(len(set(edits_two(\"monney\"))))\n",
    "print(known(edits_one(\"monney\")))"
   ]
  },
  {
   "cell_type": "code",
   "execution_count": 14,
   "metadata": {},
   "outputs": [
    {
     "name": "stdout",
     "output_type": "stream",
     "text": [
      "{'money', 'monkey'}\n"
     ]
    }
   ],
   "source": [
    "# Let's look at possible corrections of a word\n",
    "print(possible_corrections(\"monney\"))"
   ]
  },
  {
   "cell_type": "code",
   "execution_count": 15,
   "metadata": {},
   "outputs": [
    {
     "name": "stdout",
     "output_type": "stream",
     "text": [
      "0.0002922233626303688\n",
      "5.378344097491451e-06\n"
     ]
    }
   ],
   "source": [
    "# Let's look at probability of a word\n",
    "print(prob(\"money\"))\n",
    "print(prob(\"monkey\"))"
   ]
  },
  {
   "cell_type": "code",
   "execution_count": 16,
   "metadata": {},
   "outputs": [],
   "source": [
    "def spell_check(word):\n",
    "    \"Print the most probable spelling correction for `word` out of all the `possible_corrections`\"\n",
    "    correct_word = max(possible_corrections(word), key=prob)\n",
    "    if correct_word != word:\n",
    "        return \"Did you mean \" + correct_word + \"?\"\n",
    "    else:\n",
    "        return \"Correct spelling.\""
   ]
  },
  {
   "cell_type": "code",
   "execution_count": 17,
   "metadata": {},
   "outputs": [
    {
     "name": "stdout",
     "output_type": "stream",
     "text": [
      "Did you mean money?\n"
     ]
    }
   ],
   "source": [
    "# test spell check\n",
    "print(spell_check(\"monney\"))"
   ]
  },
  {
   "cell_type": "code",
   "execution_count": 25,
   "metadata": {},
   "outputs": [
    {
     "data": {
      "text/plain": [
       "1"
      ]
     },
     "execution_count": 25,
     "metadata": {},
     "output_type": "execute_result"
    }
   ],
   "source": [
    "len(possible_corrections(\"emfasize\"))"
   ]
  }
 ],
 "metadata": {
  "kernelspec": {
   "display_name": "Python 3",
   "language": "python",
   "name": "python3"
  },
  "language_info": {
   "codemirror_mode": {
    "name": "ipython",
    "version": 3
   },
   "file_extension": ".py",
   "mimetype": "text/x-python",
   "name": "python",
   "nbconvert_exporter": "python",
   "pygments_lexer": "ipython3",
   "version": "3.6.9"
  }
 },
 "nbformat": 4,
 "nbformat_minor": 2
}
